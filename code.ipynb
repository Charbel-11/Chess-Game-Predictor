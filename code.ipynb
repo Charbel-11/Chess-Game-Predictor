{
  "cells": [
    {
      "cell_type": "code",
      "source": [
        "!pip install torch_geometric\n",
        "! gdown --id 13a_iNnu-ck76mHZ1gW6DP6zCjKZQE_QM\n",
        "! gdown --id 1J_0fYPou7fl2rPPSHjdFZkGiq2DmU-5c\n",
        "! gdown --id 1OrmrjmecPSGRoH5HzdB7NsFXWP8MgtPI \n",
        "! gdown --id 1_zz68sRVfEtDTHTOqI1w0ZhdDrUTHhCo\n",
        "\n",
        "import os\n",
        "import pandas as pd\n",
        "import numpy as np\n",
        "import random\n",
        "import pickle\n",
        "from numpy.linalg import norm\n",
        "from collections import Counter\n",
        "import networkx as nx\n",
        "import torch\n",
        "import torch.nn as nn\n",
        "import torch.nn.functional as F\n",
        "import matplotlib.pyplot as plt\n",
        "from torch_geometric.data import Data\n",
        "from torch_geometric.nn import GCNConv, GATConv, SAGEConv\n",
        "from torch_geometric.utils import from_networkx, to_networkx\n",
        "from IPython.display import clear_output \n",
        "\n",
        "clear_output()"
      ],
      "metadata": {
        "id": "Ep9Lcwj_wwJ8"
      },
      "execution_count": null,
      "outputs": []
    },
    {
      "cell_type": "code",
      "execution_count": null,
      "metadata": {
        "id": "q4ola33-wYmu",
        "colab": {
          "base_uri": "https://localhost:8080/",
          "height": 395
        },
        "outputId": "c3c104b3-1b22-478a-e223-e81c8fc02636"
      },
      "outputs": [
        {
          "output_type": "display_data",
          "data": {
            "text/plain": [
              "   Month #  White Player #  Black Player #  Score\n",
              "0        1              73            1246    0.5\n",
              "1        1              73            5097    0.5\n",
              "2        1              73            5104    0.5\n",
              "3        1              73            7321    1.0\n",
              "4        1              73            7375    0.5"
            ],
            "text/html": [
              "\n",
              "  <div id=\"df-ea9c4527-0a95-4247-ae85-4e88c533b421\">\n",
              "    <div class=\"colab-df-container\">\n",
              "      <div>\n",
              "<style scoped>\n",
              "    .dataframe tbody tr th:only-of-type {\n",
              "        vertical-align: middle;\n",
              "    }\n",
              "\n",
              "    .dataframe tbody tr th {\n",
              "        vertical-align: top;\n",
              "    }\n",
              "\n",
              "    .dataframe thead th {\n",
              "        text-align: right;\n",
              "    }\n",
              "</style>\n",
              "<table border=\"1\" class=\"dataframe\">\n",
              "  <thead>\n",
              "    <tr style=\"text-align: right;\">\n",
              "      <th></th>\n",
              "      <th>Month #</th>\n",
              "      <th>White Player #</th>\n",
              "      <th>Black Player #</th>\n",
              "      <th>Score</th>\n",
              "    </tr>\n",
              "  </thead>\n",
              "  <tbody>\n",
              "    <tr>\n",
              "      <th>0</th>\n",
              "      <td>1</td>\n",
              "      <td>73</td>\n",
              "      <td>1246</td>\n",
              "      <td>0.5</td>\n",
              "    </tr>\n",
              "    <tr>\n",
              "      <th>1</th>\n",
              "      <td>1</td>\n",
              "      <td>73</td>\n",
              "      <td>5097</td>\n",
              "      <td>0.5</td>\n",
              "    </tr>\n",
              "    <tr>\n",
              "      <th>2</th>\n",
              "      <td>1</td>\n",
              "      <td>73</td>\n",
              "      <td>5104</td>\n",
              "      <td>0.5</td>\n",
              "    </tr>\n",
              "    <tr>\n",
              "      <th>3</th>\n",
              "      <td>1</td>\n",
              "      <td>73</td>\n",
              "      <td>7321</td>\n",
              "      <td>1.0</td>\n",
              "    </tr>\n",
              "    <tr>\n",
              "      <th>4</th>\n",
              "      <td>1</td>\n",
              "      <td>73</td>\n",
              "      <td>7375</td>\n",
              "      <td>0.5</td>\n",
              "    </tr>\n",
              "  </tbody>\n",
              "</table>\n",
              "</div>\n",
              "      <button class=\"colab-df-convert\" onclick=\"convertToInteractive('df-ea9c4527-0a95-4247-ae85-4e88c533b421')\"\n",
              "              title=\"Convert this dataframe to an interactive table.\"\n",
              "              style=\"display:none;\">\n",
              "        \n",
              "  <svg xmlns=\"http://www.w3.org/2000/svg\" height=\"24px\"viewBox=\"0 0 24 24\"\n",
              "       width=\"24px\">\n",
              "    <path d=\"M0 0h24v24H0V0z\" fill=\"none\"/>\n",
              "    <path d=\"M18.56 5.44l.94 2.06.94-2.06 2.06-.94-2.06-.94-.94-2.06-.94 2.06-2.06.94zm-11 1L8.5 8.5l.94-2.06 2.06-.94-2.06-.94L8.5 2.5l-.94 2.06-2.06.94zm10 10l.94 2.06.94-2.06 2.06-.94-2.06-.94-.94-2.06-.94 2.06-2.06.94z\"/><path d=\"M17.41 7.96l-1.37-1.37c-.4-.4-.92-.59-1.43-.59-.52 0-1.04.2-1.43.59L10.3 9.45l-7.72 7.72c-.78.78-.78 2.05 0 2.83L4 21.41c.39.39.9.59 1.41.59.51 0 1.02-.2 1.41-.59l7.78-7.78 2.81-2.81c.8-.78.8-2.07 0-2.86zM5.41 20L4 18.59l7.72-7.72 1.47 1.35L5.41 20z\"/>\n",
              "  </svg>\n",
              "      </button>\n",
              "      \n",
              "  <style>\n",
              "    .colab-df-container {\n",
              "      display:flex;\n",
              "      flex-wrap:wrap;\n",
              "      gap: 12px;\n",
              "    }\n",
              "\n",
              "    .colab-df-convert {\n",
              "      background-color: #E8F0FE;\n",
              "      border: none;\n",
              "      border-radius: 50%;\n",
              "      cursor: pointer;\n",
              "      display: none;\n",
              "      fill: #1967D2;\n",
              "      height: 32px;\n",
              "      padding: 0 0 0 0;\n",
              "      width: 32px;\n",
              "    }\n",
              "\n",
              "    .colab-df-convert:hover {\n",
              "      background-color: #E2EBFA;\n",
              "      box-shadow: 0px 1px 2px rgba(60, 64, 67, 0.3), 0px 1px 3px 1px rgba(60, 64, 67, 0.15);\n",
              "      fill: #174EA6;\n",
              "    }\n",
              "\n",
              "    [theme=dark] .colab-df-convert {\n",
              "      background-color: #3B4455;\n",
              "      fill: #D2E3FC;\n",
              "    }\n",
              "\n",
              "    [theme=dark] .colab-df-convert:hover {\n",
              "      background-color: #434B5C;\n",
              "      box-shadow: 0px 1px 3px 1px rgba(0, 0, 0, 0.15);\n",
              "      filter: drop-shadow(0px 1px 2px rgba(0, 0, 0, 0.3));\n",
              "      fill: #FFFFFF;\n",
              "    }\n",
              "  </style>\n",
              "\n",
              "      <script>\n",
              "        const buttonEl =\n",
              "          document.querySelector('#df-ea9c4527-0a95-4247-ae85-4e88c533b421 button.colab-df-convert');\n",
              "        buttonEl.style.display =\n",
              "          google.colab.kernel.accessAllowed ? 'block' : 'none';\n",
              "\n",
              "        async function convertToInteractive(key) {\n",
              "          const element = document.querySelector('#df-ea9c4527-0a95-4247-ae85-4e88c533b421');\n",
              "          const dataTable =\n",
              "            await google.colab.kernel.invokeFunction('convertToInteractive',\n",
              "                                                     [key], {});\n",
              "          if (!dataTable) return;\n",
              "\n",
              "          const docLinkHtml = 'Like what you see? Visit the ' +\n",
              "            '<a target=\"_blank\" href=https://colab.research.google.com/notebooks/data_table.ipynb>data table notebook</a>'\n",
              "            + ' to learn more about interactive tables.';\n",
              "          element.innerHTML = '';\n",
              "          dataTable['output_type'] = 'display_data';\n",
              "          await google.colab.output.renderOutput(dataTable, element);\n",
              "          const docLink = document.createElement('div');\n",
              "          docLink.innerHTML = docLinkHtml;\n",
              "          element.appendChild(docLink);\n",
              "        }\n",
              "      </script>\n",
              "    </div>\n",
              "  </div>\n",
              "  "
            ]
          },
          "metadata": {}
        },
        {
          "output_type": "display_data",
          "data": {
            "text/plain": [
              "   Month #  White Player #  Black Player #  Score\n",
              "0       96               4            2084    0.5\n",
              "1       96              36            4562    0.5\n",
              "2       96              36            4960    0.0\n",
              "3       96              56            2552    0.5\n",
              "4       96             143            2042    1.0"
            ],
            "text/html": [
              "\n",
              "  <div id=\"df-8e4e0dca-5211-4c92-a40a-85e885341a47\">\n",
              "    <div class=\"colab-df-container\">\n",
              "      <div>\n",
              "<style scoped>\n",
              "    .dataframe tbody tr th:only-of-type {\n",
              "        vertical-align: middle;\n",
              "    }\n",
              "\n",
              "    .dataframe tbody tr th {\n",
              "        vertical-align: top;\n",
              "    }\n",
              "\n",
              "    .dataframe thead th {\n",
              "        text-align: right;\n",
              "    }\n",
              "</style>\n",
              "<table border=\"1\" class=\"dataframe\">\n",
              "  <thead>\n",
              "    <tr style=\"text-align: right;\">\n",
              "      <th></th>\n",
              "      <th>Month #</th>\n",
              "      <th>White Player #</th>\n",
              "      <th>Black Player #</th>\n",
              "      <th>Score</th>\n",
              "    </tr>\n",
              "  </thead>\n",
              "  <tbody>\n",
              "    <tr>\n",
              "      <th>0</th>\n",
              "      <td>96</td>\n",
              "      <td>4</td>\n",
              "      <td>2084</td>\n",
              "      <td>0.5</td>\n",
              "    </tr>\n",
              "    <tr>\n",
              "      <th>1</th>\n",
              "      <td>96</td>\n",
              "      <td>36</td>\n",
              "      <td>4562</td>\n",
              "      <td>0.5</td>\n",
              "    </tr>\n",
              "    <tr>\n",
              "      <th>2</th>\n",
              "      <td>96</td>\n",
              "      <td>36</td>\n",
              "      <td>4960</td>\n",
              "      <td>0.0</td>\n",
              "    </tr>\n",
              "    <tr>\n",
              "      <th>3</th>\n",
              "      <td>96</td>\n",
              "      <td>56</td>\n",
              "      <td>2552</td>\n",
              "      <td>0.5</td>\n",
              "    </tr>\n",
              "    <tr>\n",
              "      <th>4</th>\n",
              "      <td>96</td>\n",
              "      <td>143</td>\n",
              "      <td>2042</td>\n",
              "      <td>1.0</td>\n",
              "    </tr>\n",
              "  </tbody>\n",
              "</table>\n",
              "</div>\n",
              "      <button class=\"colab-df-convert\" onclick=\"convertToInteractive('df-8e4e0dca-5211-4c92-a40a-85e885341a47')\"\n",
              "              title=\"Convert this dataframe to an interactive table.\"\n",
              "              style=\"display:none;\">\n",
              "        \n",
              "  <svg xmlns=\"http://www.w3.org/2000/svg\" height=\"24px\"viewBox=\"0 0 24 24\"\n",
              "       width=\"24px\">\n",
              "    <path d=\"M0 0h24v24H0V0z\" fill=\"none\"/>\n",
              "    <path d=\"M18.56 5.44l.94 2.06.94-2.06 2.06-.94-2.06-.94-.94-2.06-.94 2.06-2.06.94zm-11 1L8.5 8.5l.94-2.06 2.06-.94-2.06-.94L8.5 2.5l-.94 2.06-2.06.94zm10 10l.94 2.06.94-2.06 2.06-.94-2.06-.94-.94-2.06-.94 2.06-2.06.94z\"/><path d=\"M17.41 7.96l-1.37-1.37c-.4-.4-.92-.59-1.43-.59-.52 0-1.04.2-1.43.59L10.3 9.45l-7.72 7.72c-.78.78-.78 2.05 0 2.83L4 21.41c.39.39.9.59 1.41.59.51 0 1.02-.2 1.41-.59l7.78-7.78 2.81-2.81c.8-.78.8-2.07 0-2.86zM5.41 20L4 18.59l7.72-7.72 1.47 1.35L5.41 20z\"/>\n",
              "  </svg>\n",
              "      </button>\n",
              "      \n",
              "  <style>\n",
              "    .colab-df-container {\n",
              "      display:flex;\n",
              "      flex-wrap:wrap;\n",
              "      gap: 12px;\n",
              "    }\n",
              "\n",
              "    .colab-df-convert {\n",
              "      background-color: #E8F0FE;\n",
              "      border: none;\n",
              "      border-radius: 50%;\n",
              "      cursor: pointer;\n",
              "      display: none;\n",
              "      fill: #1967D2;\n",
              "      height: 32px;\n",
              "      padding: 0 0 0 0;\n",
              "      width: 32px;\n",
              "    }\n",
              "\n",
              "    .colab-df-convert:hover {\n",
              "      background-color: #E2EBFA;\n",
              "      box-shadow: 0px 1px 2px rgba(60, 64, 67, 0.3), 0px 1px 3px 1px rgba(60, 64, 67, 0.15);\n",
              "      fill: #174EA6;\n",
              "    }\n",
              "\n",
              "    [theme=dark] .colab-df-convert {\n",
              "      background-color: #3B4455;\n",
              "      fill: #D2E3FC;\n",
              "    }\n",
              "\n",
              "    [theme=dark] .colab-df-convert:hover {\n",
              "      background-color: #434B5C;\n",
              "      box-shadow: 0px 1px 3px 1px rgba(0, 0, 0, 0.15);\n",
              "      filter: drop-shadow(0px 1px 2px rgba(0, 0, 0, 0.3));\n",
              "      fill: #FFFFFF;\n",
              "    }\n",
              "  </style>\n",
              "\n",
              "      <script>\n",
              "        const buttonEl =\n",
              "          document.querySelector('#df-8e4e0dca-5211-4c92-a40a-85e885341a47 button.colab-df-convert');\n",
              "        buttonEl.style.display =\n",
              "          google.colab.kernel.accessAllowed ? 'block' : 'none';\n",
              "\n",
              "        async function convertToInteractive(key) {\n",
              "          const element = document.querySelector('#df-8e4e0dca-5211-4c92-a40a-85e885341a47');\n",
              "          const dataTable =\n",
              "            await google.colab.kernel.invokeFunction('convertToInteractive',\n",
              "                                                     [key], {});\n",
              "          if (!dataTable) return;\n",
              "\n",
              "          const docLinkHtml = 'Like what you see? Visit the ' +\n",
              "            '<a target=\"_blank\" href=https://colab.research.google.com/notebooks/data_table.ipynb>data table notebook</a>'\n",
              "            + ' to learn more about interactive tables.';\n",
              "          element.innerHTML = '';\n",
              "          dataTable['output_type'] = 'display_data';\n",
              "          await google.colab.output.renderOutput(dataTable, element);\n",
              "          const docLink = document.createElement('div');\n",
              "          docLink.innerHTML = docLinkHtml;\n",
              "          element.appendChild(docLink);\n",
              "        }\n",
              "      </script>\n",
              "    </div>\n",
              "  </div>\n",
              "  "
            ]
          },
          "metadata": {}
        }
      ],
      "source": [
        "# Read the data\n",
        "train_df = pd.read_csv('training_data.csv')\n",
        "valid_df = pd.read_csv('cross_validation_dataset.csv')\n",
        "\n",
        "display(train_df.head())\n",
        "display(valid_df.head())"
      ]
    },
    {
      "cell_type": "markdown",
      "metadata": {
        "id": "5HJfDzhowYmx"
      },
      "source": [
        "## Pre-processing"
      ]
    },
    {
      "cell_type": "code",
      "source": [
        "players = np.union1d(train_df['White Player #'].unique(), train_df['Black Player #'].unique()) # get all unique player IDs\n",
        "player_map = dict(zip(players, range(len(players))))  # create a mapping from player ID to new index\n",
        "\n",
        "train_df['White Player #'] = train_df['White Player #'].map(player_map)  # map player A IDs to new index\n",
        "train_df['Black Player #'] = train_df['Black Player #'].map(player_map)  # map player B IDs to new index\n",
        "\n",
        "valid_df['White Player #'] = valid_df['White Player #'].map(player_map)  # all players in valid_df are present in train_df\n",
        "valid_df['Black Player #'] = valid_df['Black Player #'].map(player_map)  "
      ],
      "metadata": {
        "id": "XlQe49BRRFrK"
      },
      "execution_count": null,
      "outputs": []
    },
    {
      "cell_type": "code",
      "execution_count": null,
      "metadata": {
        "id": "OjeCMEGwwYmz",
        "colab": {
          "base_uri": "https://localhost:8080/",
          "height": 206
        },
        "outputId": "17ea59fe-ea11-407e-d249-f044a26b4166"
      },
      "outputs": [
        {
          "output_type": "execute_result",
          "data": {
            "text/plain": [
              "  Month # Player #                                  Feature_Vector\n",
              "0       1       61                 [5, 0.6, 3, 0.3333333333333333]\n",
              "1       1       75  [3, 0.8333333333333334, 3, 0.6666666666666666]\n",
              "2       1      130                              [1, 0.0, 0.0, 0.0]\n",
              "3       1      134                                [1, 1.0, 1, 0.5]\n",
              "4       1      159                              [1, 1.0, 0.0, 0.0]"
            ],
            "text/html": [
              "\n",
              "  <div id=\"df-3158aab8-17c9-42a2-8d8c-f69a838ab98c\">\n",
              "    <div class=\"colab-df-container\">\n",
              "      <div>\n",
              "<style scoped>\n",
              "    .dataframe tbody tr th:only-of-type {\n",
              "        vertical-align: middle;\n",
              "    }\n",
              "\n",
              "    .dataframe tbody tr th {\n",
              "        vertical-align: top;\n",
              "    }\n",
              "\n",
              "    .dataframe thead th {\n",
              "        text-align: right;\n",
              "    }\n",
              "</style>\n",
              "<table border=\"1\" class=\"dataframe\">\n",
              "  <thead>\n",
              "    <tr style=\"text-align: right;\">\n",
              "      <th></th>\n",
              "      <th>Month #</th>\n",
              "      <th>Player #</th>\n",
              "      <th>Feature_Vector</th>\n",
              "    </tr>\n",
              "  </thead>\n",
              "  <tbody>\n",
              "    <tr>\n",
              "      <th>0</th>\n",
              "      <td>1</td>\n",
              "      <td>61</td>\n",
              "      <td>[5, 0.6, 3, 0.3333333333333333]</td>\n",
              "    </tr>\n",
              "    <tr>\n",
              "      <th>1</th>\n",
              "      <td>1</td>\n",
              "      <td>75</td>\n",
              "      <td>[3, 0.8333333333333334, 3, 0.6666666666666666]</td>\n",
              "    </tr>\n",
              "    <tr>\n",
              "      <th>2</th>\n",
              "      <td>1</td>\n",
              "      <td>130</td>\n",
              "      <td>[1, 0.0, 0.0, 0.0]</td>\n",
              "    </tr>\n",
              "    <tr>\n",
              "      <th>3</th>\n",
              "      <td>1</td>\n",
              "      <td>134</td>\n",
              "      <td>[1, 1.0, 1, 0.5]</td>\n",
              "    </tr>\n",
              "    <tr>\n",
              "      <th>4</th>\n",
              "      <td>1</td>\n",
              "      <td>159</td>\n",
              "      <td>[1, 1.0, 0.0, 0.0]</td>\n",
              "    </tr>\n",
              "  </tbody>\n",
              "</table>\n",
              "</div>\n",
              "      <button class=\"colab-df-convert\" onclick=\"convertToInteractive('df-3158aab8-17c9-42a2-8d8c-f69a838ab98c')\"\n",
              "              title=\"Convert this dataframe to an interactive table.\"\n",
              "              style=\"display:none;\">\n",
              "        \n",
              "  <svg xmlns=\"http://www.w3.org/2000/svg\" height=\"24px\"viewBox=\"0 0 24 24\"\n",
              "       width=\"24px\">\n",
              "    <path d=\"M0 0h24v24H0V0z\" fill=\"none\"/>\n",
              "    <path d=\"M18.56 5.44l.94 2.06.94-2.06 2.06-.94-2.06-.94-.94-2.06-.94 2.06-2.06.94zm-11 1L8.5 8.5l.94-2.06 2.06-.94-2.06-.94L8.5 2.5l-.94 2.06-2.06.94zm10 10l.94 2.06.94-2.06 2.06-.94-2.06-.94-.94-2.06-.94 2.06-2.06.94z\"/><path d=\"M17.41 7.96l-1.37-1.37c-.4-.4-.92-.59-1.43-.59-.52 0-1.04.2-1.43.59L10.3 9.45l-7.72 7.72c-.78.78-.78 2.05 0 2.83L4 21.41c.39.39.9.59 1.41.59.51 0 1.02-.2 1.41-.59l7.78-7.78 2.81-2.81c.8-.78.8-2.07 0-2.86zM5.41 20L4 18.59l7.72-7.72 1.47 1.35L5.41 20z\"/>\n",
              "  </svg>\n",
              "      </button>\n",
              "      \n",
              "  <style>\n",
              "    .colab-df-container {\n",
              "      display:flex;\n",
              "      flex-wrap:wrap;\n",
              "      gap: 12px;\n",
              "    }\n",
              "\n",
              "    .colab-df-convert {\n",
              "      background-color: #E8F0FE;\n",
              "      border: none;\n",
              "      border-radius: 50%;\n",
              "      cursor: pointer;\n",
              "      display: none;\n",
              "      fill: #1967D2;\n",
              "      height: 32px;\n",
              "      padding: 0 0 0 0;\n",
              "      width: 32px;\n",
              "    }\n",
              "\n",
              "    .colab-df-convert:hover {\n",
              "      background-color: #E2EBFA;\n",
              "      box-shadow: 0px 1px 2px rgba(60, 64, 67, 0.3), 0px 1px 3px 1px rgba(60, 64, 67, 0.15);\n",
              "      fill: #174EA6;\n",
              "    }\n",
              "\n",
              "    [theme=dark] .colab-df-convert {\n",
              "      background-color: #3B4455;\n",
              "      fill: #D2E3FC;\n",
              "    }\n",
              "\n",
              "    [theme=dark] .colab-df-convert:hover {\n",
              "      background-color: #434B5C;\n",
              "      box-shadow: 0px 1px 3px 1px rgba(0, 0, 0, 0.15);\n",
              "      filter: drop-shadow(0px 1px 2px rgba(0, 0, 0, 0.3));\n",
              "      fill: #FFFFFF;\n",
              "    }\n",
              "  </style>\n",
              "\n",
              "      <script>\n",
              "        const buttonEl =\n",
              "          document.querySelector('#df-3158aab8-17c9-42a2-8d8c-f69a838ab98c button.colab-df-convert');\n",
              "        buttonEl.style.display =\n",
              "          google.colab.kernel.accessAllowed ? 'block' : 'none';\n",
              "\n",
              "        async function convertToInteractive(key) {\n",
              "          const element = document.querySelector('#df-3158aab8-17c9-42a2-8d8c-f69a838ab98c');\n",
              "          const dataTable =\n",
              "            await google.colab.kernel.invokeFunction('convertToInteractive',\n",
              "                                                     [key], {});\n",
              "          if (!dataTable) return;\n",
              "\n",
              "          const docLinkHtml = 'Like what you see? Visit the ' +\n",
              "            '<a target=\"_blank\" href=https://colab.research.google.com/notebooks/data_table.ipynb>data table notebook</a>'\n",
              "            + ' to learn more about interactive tables.';\n",
              "          element.innerHTML = '';\n",
              "          dataTable['output_type'] = 'display_data';\n",
              "          await google.colab.output.renderOutput(dataTable, element);\n",
              "          const docLink = document.createElement('div');\n",
              "          docLink.innerHTML = docLinkHtml;\n",
              "          element.appendChild(docLink);\n",
              "        }\n",
              "      </script>\n",
              "    </div>\n",
              "  </div>\n",
              "  "
            ]
          },
          "metadata": {},
          "execution_count": 4
        }
      ],
      "source": [
        "# For each month and each player, create a feature \n",
        "# list [# games played as white, mean score for white games, #...black, ...black games]\n",
        "\n",
        "def PlayerData(dataFrame):\n",
        "    PlayerData = pd.DataFrame(columns=['Month #', 'Player #', 'Feature_Vector'])\n",
        "\n",
        "    # Grouping the data by month and player separately\n",
        "    grouped_white = dataFrame.groupby(['Month #', 'White Player #'])\n",
        "    grouped_black = dataFrame.groupby(['Month #', 'Black Player #'])\n",
        "    \n",
        "    # Iterating over the groups\n",
        "    for name_white, group_white in grouped_white:\n",
        "        month, white_player = name_white\n",
        "\n",
        "        # Computing feature vectors for white player\n",
        "        white_games_count = len(group_white)\n",
        "        white_avg_score = group_white['Score'].mean()\n",
        "\n",
        "        # Checking if the white player also played as black in the same month\n",
        "        if (month, white_player) in grouped_black.groups:\n",
        "            group_black = grouped_black.get_group((month, white_player))\n",
        "            black_games_count = len(group_black)\n",
        "            black_avg_score = group_black['Score'].mean()\n",
        "        else:\n",
        "            black_games_count = 0.0\n",
        "            black_avg_score = 0.0\n",
        "\n",
        "        # Creating the feature vector\n",
        "        feature_vector = [white_games_count, white_avg_score, black_games_count, black_avg_score]\n",
        "\n",
        "        # Appending the row to PlayerData dataframe\n",
        "        PlayerData = pd.concat([PlayerData, \n",
        "                                pd.DataFrame({'Month #': [month],\n",
        "                                              'Player #': [white_player],\n",
        "                                              'Feature_Vector': [feature_vector]})], \n",
        "                              ignore_index=True)\n",
        "        \n",
        "    # Handling players who played as black but not white\n",
        "    for name_black, group_black in grouped_black:\n",
        "        month, black_player = name_black\n",
        "        \n",
        "        # Checking if the black player did not play as white in the same month\n",
        "        if (month, black_player) not in grouped_white.groups:\n",
        "            black_games_count = len(group_black)\n",
        "            black_avg_score = group_black['Score'].mean()\n",
        "            \n",
        "            # Creating the feature vector\n",
        "            feature_vector = [0.0, 0.0, black_games_count, black_avg_score]\n",
        "            \n",
        "            # Appending the row to PlayerData dataframe\n",
        "            PlayerData = pd.concat([PlayerData, \n",
        "                                    pd.DataFrame({'Month #': [month],\n",
        "                                                  'Player #': [black_player],\n",
        "                                                  'Feature_Vector': [feature_vector]})], \n",
        "                                  ignore_index=True)\n",
        "    return PlayerData\n",
        "\n",
        "train_PD = PlayerData(train_df)\n",
        "valid_PD = PlayerData(valid_df)\n",
        "\n",
        "train_PD.head()"
      ]
    },
    {
      "cell_type": "code",
      "source": [
        "# average the scores for games with same players (preserving White vs Black)\n",
        "train_df = train_df.groupby(['Month #', \"White Player #\", \"Black Player #\"]).mean().reset_index()\n",
        "valid_df = valid_df.groupby(['Month #', \"White Player #\", \"Black Player #\"]).mean().reset_index()\n",
        "\n",
        "train_df.head()"
      ],
      "metadata": {
        "id": "qvGD9jzuRJ7q",
        "colab": {
          "base_uri": "https://localhost:8080/",
          "height": 206
        },
        "outputId": "04027b10-b0e5-4ad3-f656-4bc1de7c3e4e"
      },
      "execution_count": null,
      "outputs": [
        {
          "output_type": "execute_result",
          "data": {
            "text/plain": [
              "   Month #  White Player #  Black Player #  Score\n",
              "0        1              61            1066    0.5\n",
              "1        1              61            4303    0.5\n",
              "2        1              61            4308    0.5\n",
              "3        1              61            6195    1.0\n",
              "4        1              61            6243    0.5"
            ],
            "text/html": [
              "\n",
              "  <div id=\"df-0f787e50-fdd8-4f99-bcc3-156a04fbd91e\">\n",
              "    <div class=\"colab-df-container\">\n",
              "      <div>\n",
              "<style scoped>\n",
              "    .dataframe tbody tr th:only-of-type {\n",
              "        vertical-align: middle;\n",
              "    }\n",
              "\n",
              "    .dataframe tbody tr th {\n",
              "        vertical-align: top;\n",
              "    }\n",
              "\n",
              "    .dataframe thead th {\n",
              "        text-align: right;\n",
              "    }\n",
              "</style>\n",
              "<table border=\"1\" class=\"dataframe\">\n",
              "  <thead>\n",
              "    <tr style=\"text-align: right;\">\n",
              "      <th></th>\n",
              "      <th>Month #</th>\n",
              "      <th>White Player #</th>\n",
              "      <th>Black Player #</th>\n",
              "      <th>Score</th>\n",
              "    </tr>\n",
              "  </thead>\n",
              "  <tbody>\n",
              "    <tr>\n",
              "      <th>0</th>\n",
              "      <td>1</td>\n",
              "      <td>61</td>\n",
              "      <td>1066</td>\n",
              "      <td>0.5</td>\n",
              "    </tr>\n",
              "    <tr>\n",
              "      <th>1</th>\n",
              "      <td>1</td>\n",
              "      <td>61</td>\n",
              "      <td>4303</td>\n",
              "      <td>0.5</td>\n",
              "    </tr>\n",
              "    <tr>\n",
              "      <th>2</th>\n",
              "      <td>1</td>\n",
              "      <td>61</td>\n",
              "      <td>4308</td>\n",
              "      <td>0.5</td>\n",
              "    </tr>\n",
              "    <tr>\n",
              "      <th>3</th>\n",
              "      <td>1</td>\n",
              "      <td>61</td>\n",
              "      <td>6195</td>\n",
              "      <td>1.0</td>\n",
              "    </tr>\n",
              "    <tr>\n",
              "      <th>4</th>\n",
              "      <td>1</td>\n",
              "      <td>61</td>\n",
              "      <td>6243</td>\n",
              "      <td>0.5</td>\n",
              "    </tr>\n",
              "  </tbody>\n",
              "</table>\n",
              "</div>\n",
              "      <button class=\"colab-df-convert\" onclick=\"convertToInteractive('df-0f787e50-fdd8-4f99-bcc3-156a04fbd91e')\"\n",
              "              title=\"Convert this dataframe to an interactive table.\"\n",
              "              style=\"display:none;\">\n",
              "        \n",
              "  <svg xmlns=\"http://www.w3.org/2000/svg\" height=\"24px\"viewBox=\"0 0 24 24\"\n",
              "       width=\"24px\">\n",
              "    <path d=\"M0 0h24v24H0V0z\" fill=\"none\"/>\n",
              "    <path d=\"M18.56 5.44l.94 2.06.94-2.06 2.06-.94-2.06-.94-.94-2.06-.94 2.06-2.06.94zm-11 1L8.5 8.5l.94-2.06 2.06-.94-2.06-.94L8.5 2.5l-.94 2.06-2.06.94zm10 10l.94 2.06.94-2.06 2.06-.94-2.06-.94-.94-2.06-.94 2.06-2.06.94z\"/><path d=\"M17.41 7.96l-1.37-1.37c-.4-.4-.92-.59-1.43-.59-.52 0-1.04.2-1.43.59L10.3 9.45l-7.72 7.72c-.78.78-.78 2.05 0 2.83L4 21.41c.39.39.9.59 1.41.59.51 0 1.02-.2 1.41-.59l7.78-7.78 2.81-2.81c.8-.78.8-2.07 0-2.86zM5.41 20L4 18.59l7.72-7.72 1.47 1.35L5.41 20z\"/>\n",
              "  </svg>\n",
              "      </button>\n",
              "      \n",
              "  <style>\n",
              "    .colab-df-container {\n",
              "      display:flex;\n",
              "      flex-wrap:wrap;\n",
              "      gap: 12px;\n",
              "    }\n",
              "\n",
              "    .colab-df-convert {\n",
              "      background-color: #E8F0FE;\n",
              "      border: none;\n",
              "      border-radius: 50%;\n",
              "      cursor: pointer;\n",
              "      display: none;\n",
              "      fill: #1967D2;\n",
              "      height: 32px;\n",
              "      padding: 0 0 0 0;\n",
              "      width: 32px;\n",
              "    }\n",
              "\n",
              "    .colab-df-convert:hover {\n",
              "      background-color: #E2EBFA;\n",
              "      box-shadow: 0px 1px 2px rgba(60, 64, 67, 0.3), 0px 1px 3px 1px rgba(60, 64, 67, 0.15);\n",
              "      fill: #174EA6;\n",
              "    }\n",
              "\n",
              "    [theme=dark] .colab-df-convert {\n",
              "      background-color: #3B4455;\n",
              "      fill: #D2E3FC;\n",
              "    }\n",
              "\n",
              "    [theme=dark] .colab-df-convert:hover {\n",
              "      background-color: #434B5C;\n",
              "      box-shadow: 0px 1px 3px 1px rgba(0, 0, 0, 0.15);\n",
              "      filter: drop-shadow(0px 1px 2px rgba(0, 0, 0, 0.3));\n",
              "      fill: #FFFFFF;\n",
              "    }\n",
              "  </style>\n",
              "\n",
              "      <script>\n",
              "        const buttonEl =\n",
              "          document.querySelector('#df-0f787e50-fdd8-4f99-bcc3-156a04fbd91e button.colab-df-convert');\n",
              "        buttonEl.style.display =\n",
              "          google.colab.kernel.accessAllowed ? 'block' : 'none';\n",
              "\n",
              "        async function convertToInteractive(key) {\n",
              "          const element = document.querySelector('#df-0f787e50-fdd8-4f99-bcc3-156a04fbd91e');\n",
              "          const dataTable =\n",
              "            await google.colab.kernel.invokeFunction('convertToInteractive',\n",
              "                                                     [key], {});\n",
              "          if (!dataTable) return;\n",
              "\n",
              "          const docLinkHtml = 'Like what you see? Visit the ' +\n",
              "            '<a target=\"_blank\" href=https://colab.research.google.com/notebooks/data_table.ipynb>data table notebook</a>'\n",
              "            + ' to learn more about interactive tables.';\n",
              "          element.innerHTML = '';\n",
              "          dataTable['output_type'] = 'display_data';\n",
              "          await google.colab.output.renderOutput(dataTable, element);\n",
              "          const docLink = document.createElement('div');\n",
              "          docLink.innerHTML = docLinkHtml;\n",
              "          element.appendChild(docLink);\n",
              "        }\n",
              "      </script>\n",
              "    </div>\n",
              "  </div>\n",
              "  "
            ]
          },
          "metadata": {},
          "execution_count": 5
        }
      ]
    },
    {
      "cell_type": "code",
      "source": [
        "#Create a dictionary with months as keys and a directed nx graph representing the games played\n",
        "#Direction of edge is:  white player --> black player with the mean score as weight\n",
        "#Nodes are players with attributes: the PlayerData vector\n",
        "\n",
        "def Create_Graph_Dict(dataFrame, PlayerData):\n",
        "    # Group the dataframe by month\n",
        "    grouped_df = dataFrame.groupby(\"Month #\")\n",
        "\n",
        "    # Iterate over each month and create a networkx graph\n",
        "    graphs = {}\n",
        "    for month, month_df in grouped_df:\n",
        "        # Create an empty directed graph for the month\n",
        "        graph = nx.DiGraph()\n",
        "\n",
        "        # Iterate over the rows of the month dataframe\n",
        "        for index, row in month_df.iterrows():\n",
        "            white_player = int(row[\"White Player #\"])\n",
        "            black_player = int(row[\"Black Player #\"])\n",
        "            score = row[\"Score\"]\n",
        "\n",
        "            # Add nodes for the white and black players with their IDs as node attributes\n",
        "            graph.add_node(white_player, ID=white_player, rank=PlayerData.loc[(PlayerData['Month #'] == month) & (PlayerData['Player #'] == white_player), 'Feature_Vector'].values[0])\n",
        "            graph.add_node(black_player, ID=black_player, rank=PlayerData.loc[(PlayerData['Month #'] == month) & (PlayerData['Player #'] == black_player), 'Feature_Vector'].values[0])\n",
        "\n",
        "            # Add an edge from the white player to the black player with the score as the edge attribute\n",
        "            graph.add_edge(white_player, black_player, score=score)\n",
        "\n",
        "        # Add the graph for the month to the dictionary\n",
        "        graphs[month] = graph\n",
        "    \n",
        "    return graphs"
      ],
      "metadata": {
        "id": "3L7vRfQC0Kap"
      },
      "execution_count": null,
      "outputs": []
    },
    {
      "cell_type": "code",
      "source": [
        "# Check if the graphs had been created\n",
        "train_file_path = \"train_dictionary.pickle\"\n",
        "valid_file_path = \"valid_dictionary.pickle\"\n",
        "\n",
        "if os.path.exists(train_file_path):\n",
        "    with open(train_file_path, \"rb\") as file:\n",
        "        train_graphs = pickle.load(file)\n",
        "else:\n",
        "    train_graphs = Create_Graph_Dict(train_df, train_PD) \n",
        "    with open(train_file_path, \"wb\") as file:\n",
        "        pickle.dump(train_graphs, file)\n",
        "\n",
        "if os.path.exists(valid_file_path):\n",
        "    with open(valid_file_path, \"rb\") as file:\n",
        "        valid_graphs = pickle.load(file)\n",
        "else:\n",
        "    valid_graphs = Create_Graph_Dict(valid_df, valid_PD)  \n",
        "\n",
        "    with open(valid_file_path, \"wb\") as file:\n",
        "        pickle.dump(valid_graphs, file)\n"
      ],
      "metadata": {
        "id": "kYCW_K7bixJE"
      },
      "execution_count": null,
      "outputs": []
    },
    {
      "cell_type": "code",
      "source": [
        "# Example: Print the nodes and edges for some random months\n",
        "random_months = random.sample(range(1, 101), 3)\n",
        "for month in random_months:\n",
        "    print(f\"Month: {month}\")\n",
        "    print(\"Nodes:\", train_graphs[month].nodes(data=True))\n",
        "    print(\"Edges:\", train_graphs[month].edges(data=True))\n",
        "    print()"
      ],
      "metadata": {
        "id": "griPIf-X0TDC",
        "colab": {
          "base_uri": "https://localhost:8080/"
        },
        "outputId": "5158f308-49f6-40f6-a383-034d058d31a3"
      },
      "execution_count": null,
      "outputs": [
        {
          "output_type": "stream",
          "name": "stdout",
          "text": [
            "Month: 64\n",
            "Nodes: [(64, {'ID': 64, 'rank': [3, 0.6666666666666666, 1, 0.5]}), (1738, {'ID': 1738, 'rank': [2, 0.25, 2, 1.0]}), (2684, {'ID': 2684, 'rank': [3, 0.8333333333333334, 3, 0.3333333333333333]}), (5136, {'ID': 5136, 'rank': [3, 0.6666666666666666, 2, 0.75]}), (134, {'ID': 134, 'rank': [2, 0.5, 2, 0.25]}), (1939, {'ID': 1939, 'rank': [2, 0.5, 2, 0.5]}), (7011, {'ID': 7011, 'rank': [2, 0.25, 2, 0.75]}), (157, {'ID': 157, 'rank': [2, 0.75, 2, 0.25]}), (888, {'ID': 888, 'rank': [1, 0.5, 1, 1.0]}), (5273, {'ID': 5273, 'rank': [0.0, 0.0, 2, 0.25]}), (186, {'ID': 186, 'rank': [1, 1.0, 1, 1.0]}), (2059, {'ID': 2059, 'rank': [1, 0.0, 1, 1.0]}), (219, {'ID': 219, 'rank': [5, 0.3, 2, 0.0]}), (330, {'ID': 330, 'rank': [1, 1.0, 4, 0.625]}), (1408, {'ID': 1408, 'rank': [2, 1.0, 2, 0.0]}), (1636, {'ID': 1636, 'rank': [2, 0.25, 5, 0.7]}), (2948, {'ID': 2948, 'rank': [1, 0.0, 4, 0.25]}), (5207, {'ID': 5207, 'rank': [4, 0.25, 4, 0.375]}), (325, {'ID': 325, 'rank': [1, 0.5, 1, 0.0]}), (4160, {'ID': 4160, 'rank': [1, 1.0, 2, 0.5]}), (329, {'ID': 329, 'rank': [2, 0.75, 1, 0.0]}), (2908, {'ID': 2908, 'rank': [3, 0.3333333333333333, 4, 0.375]}), (4523, {'ID': 4523, 'rank': [0.0, 0.0, 3, 0.6666666666666666]}), (1439, {'ID': 1439, 'rank': [1, 0.5, 4, 0.75]}), (334, {'ID': 334, 'rank': [1, 0.0, 1, 0.5]}), (2861, {'ID': 2861, 'rank': [3, 0.5, 1, 0.0]}), (446, {'ID': 446, 'rank': [1, 0.0, 0.0, 0.0]}), (872, {'ID': 872, 'rank': [0.0, 0.0, 2, 0.5]}), (511, {'ID': 511, 'rank': [2, 0.75, 2, 0.75]}), (3124, {'ID': 3124, 'rank': [5, 0.7, 2, 1.0]}), (541, {'ID': 541, 'rank': [2, 0.75, 2, 0.75]}), (2613, {'ID': 2613, 'rank': [1, 1.0, 2, 1.0]}), (7020, {'ID': 7020, 'rank': [1, 0.5, 1, 0.5]}), (592, {'ID': 592, 'rank': [2, 0.5, 2, 0.5]}), (2172, {'ID': 2172, 'rank': [1, 0.5, 1, 0.5]}), (2979, {'ID': 2979, 'rank': [1, 0.5, 1, 0.5]}), (692, {'ID': 692, 'rank': [1, 1.0, 1, 0.0]}), (970, {'ID': 970, 'rank': [2, 0.25, 2, 0.75]}), (702, {'ID': 702, 'rank': [2, 0.0, 1, 0.5]}), (3553, {'ID': 3553, 'rank': [2, 0.5, 2, 0.25]}), (4758, {'ID': 4758, 'rank': [2, 0.5, 2, 0.25]}), (802, {'ID': 802, 'rank': [2, 0.25, 2, 0.5]}), (1041, {'ID': 1041, 'rank': [2, 0.5, 1, 0.5]}), (934, {'ID': 934, 'rank': [2, 0.5, 4, 0.5]}), (5174, {'ID': 5174, 'rank': [1, 0.5, 4, 0.5]}), (5309, {'ID': 5309, 'rank': [3, 0.5, 3, 0.5]}), (937, {'ID': 937, 'rank': [2, 0.5, 2, 0.25]}), (3588, {'ID': 3588, 'rank': [0.0, 0.0, 1, 1.0]}), (5802, {'ID': 5802, 'rank': [2, 1.0, 3, 0.16666666666666666]}), (963, {'ID': 963, 'rank': [4, 0.375, 3, 0.3333333333333333]}), (1995, {'ID': 1995, 'rank': [5, 0.9, 5, 0.2]}), (3905, {'ID': 3905, 'rank': [4, 0.5, 3, 0.6666666666666666]}), (5798, {'ID': 5798, 'rank': [5, 0.5, 3, 0.8333333333333334]}), (6342, {'ID': 6342, 'rank': [2, 0.75, 5, 0.6]}), (966, {'ID': 966, 'rank': [1, 1.0, 2, 0.5]}), (5663, {'ID': 5663, 'rank': [0.0, 0.0, 2, 0.5]}), (978, {'ID': 978, 'rank': [1, 0.5, 1, 0.0]}), (4238, {'ID': 4238, 'rank': [2, 0.5, 2, 0.75]}), (3186, {'ID': 3186, 'rank': [2, 1.0, 2, 0.25]}), (983, {'ID': 983, 'rank': [1, 0.5, 2, 0.5]}), (5533, {'ID': 5533, 'rank': [0.0, 0.0, 1, 0.5]}), (993, {'ID': 993, 'rank': [3, 0.6666666666666666, 1, 0.0]}), (2025, {'ID': 2025, 'rank': [0.0, 0.0, 1, 1.0]}), (2036, {'ID': 2036, 'rank': [1, 0.5, 1, 0.5]}), (5190, {'ID': 5190, 'rank': [2, 1.0, 1, 0.5]}), (2934, {'ID': 2934, 'rank': [2, 0.5, 1, 0.5]}), (1098, {'ID': 1098, 'rank': [1, 0.0, 2, 0.0]}), (1175, {'ID': 1175, 'rank': [2, 0.75, 0.0, 0.0]}), (516, {'ID': 516, 'rank': [0.0, 0.0, 2, 1.0]}), (4753, {'ID': 4753, 'rank': [3, 0.6666666666666666, 3, 0.5]}), (1176, {'ID': 1176, 'rank': [1, 0.5, 1, 0.5]}), (2192, {'ID': 2192, 'rank': [1, 0.5, 1, 0.5]}), (1200, {'ID': 1200, 'rank': [3, 0.3333333333333333, 2, 1.0]}), (4303, {'ID': 4303, 'rank': [3, 0.5, 2, 0.25]}), (1284, {'ID': 1284, 'rank': [1, 0.5, 0.0, 0.0]}), (5369, {'ID': 5369, 'rank': [1, 1.0, 5, 0.6]}), (1336, {'ID': 1336, 'rank': [1, 0.0, 0.0, 0.0]}), (7256, {'ID': 7256, 'rank': [0.0, 0.0, 1, 0.0]}), (1357, {'ID': 1357, 'rank': [5, 0.6, 0.0, 0.0]}), (2187, {'ID': 2187, 'rank': [2, 0.5, 4, 0.25]}), (3392, {'ID': 3392, 'rank': [0.0, 0.0, 1, 1.0]}), (4308, {'ID': 4308, 'rank': [2, 0.75, 2, 0.5]}), (5609, {'ID': 5609, 'rank': [2, 0.75, 1, 1.0]}), (1451, {'ID': 1451, 'rank': [3, 0.3333333333333333, 3, 0.5]}), (2370, {'ID': 2370, 'rank': [4, 0.5, 4, 0.625]}), (4080, {'ID': 4080, 'rank': [3, 0.6666666666666666, 3, 0.5]}), (5248, {'ID': 5248, 'rank': [3, 0.8333333333333334, 3, 0.16666666666666666]}), (1535, {'ID': 1535, 'rank': [2, 0.5, 1, 1.0]}), (5470, {'ID': 5470, 'rank': [2, 0.0, 1, 0.5]}), (1557, {'ID': 1557, 'rank': [1, 0.0, 2, 0.5]}), (6665, {'ID': 6665, 'rank': [2, 0.75, 1, 0.0]}), (1565, {'ID': 1565, 'rank': [1, 0.5, 0.0, 0.0]}), (3726, {'ID': 3726, 'rank': [1, 1.0, 1, 0.5]}), (1573, {'ID': 1573, 'rank': [4, 0.5, 3, 0.5]}), (5815, {'ID': 5815, 'rank': [1, 1.0, 2, 0.5]}), (1591, {'ID': 1591, 'rank': [3, 0.5, 1, 0.5]}), (2131, {'ID': 2131, 'rank': [1, 1.0, 4, 0.25]}), (2491, {'ID': 2491, 'rank': [2, 0.75, 3, 0.8333333333333334]}), (4143, {'ID': 4143, 'rank': [2, 0.25, 2, 0.5]}), (1604, {'ID': 1604, 'rank': [3, 0.16666666666666666, 4, 0.5]}), (2780, {'ID': 2780, 'rank': [5, 0.6, 4, 0.5]}), (1606, {'ID': 1606, 'rank': [2, 0.5, 2, 0.25]}), (3782, {'ID': 3782, 'rank': [4, 0.625, 3, 0.3333333333333333]}), (4402, {'ID': 4402, 'rank': [3, 0.8333333333333334, 2, 0.25]}), (2720, {'ID': 2720, 'rank': [2, 0.5, 2, 0.75]}), (1717, {'ID': 1717, 'rank': [2, 0.5, 0.0, 0.0]}), (1724, {'ID': 1724, 'rank': [4, 0.75, 1, 1.0]}), (3665, {'ID': 3665, 'rank': [1, 0.5, 4, 0.5]}), (1823, {'ID': 1823, 'rank': [2, 0.25, 4, 0.75]}), (2520, {'ID': 2520, 'rank': [2, 0.75, 2, 0.5]}), (1979, {'ID': 1979, 'rank': [3, 0.5, 2, 0.5]}), (3096, {'ID': 3096, 'rank': [4, 0.5, 3, 0.6666666666666666]}), (4458, {'ID': 4458, 'rank': [2, 0.5, 3, 0.8333333333333334]}), (6698, {'ID': 6698, 'rank': [2, 0.5, 4, 0.625]}), (1881, {'ID': 1881, 'rank': [0.0, 0.0, 2, 0.25]}), (5064, {'ID': 5064, 'rank': [2, 0.75, 1, 0.0]}), (2121, {'ID': 2121, 'rank': [2, 0.5, 0.0, 0.0]}), (2656, {'ID': 2656, 'rank': [0.0, 0.0, 2, 0.25]}), (4770, {'ID': 4770, 'rank': [0.0, 0.0, 1, 0.5]}), (3657, {'ID': 3657, 'rank': [3, 0.5, 1, 0.5]}), (5068, {'ID': 5068, 'rank': [4, 0.75, 4, 0.375]}), (2215, {'ID': 2215, 'rank': [3, 0.3333333333333333, 3, 0.8333333333333334]}), (2259, {'ID': 2259, 'rank': [3, 1.0, 1, 0.0]}), (4060, {'ID': 4060, 'rank': [1, 0.0, 1, 1.0]}), (4062, {'ID': 4062, 'rank': [0.0, 0.0, 2, 1.0]}), (2264, {'ID': 2264, 'rank': [1, 1.0, 0.0, 0.0]}), (3484, {'ID': 3484, 'rank': [0.0, 0.0, 1, 1.0]}), (2449, {'ID': 2449, 'rank': [1, 0.0, 1, 0.5]}), (6432, {'ID': 6432, 'rank': [3, 0.6666666666666666, 1, 0.5]}), (6798, {'ID': 6798, 'rank': [1, 0.0, 1, 1.0]}), (2501, {'ID': 2501, 'rank': [2, 0.25, 0.0, 0.0]}), (4140, {'ID': 4140, 'rank': [2, 0.5, 1, 0.5]}), (6036, {'ID': 6036, 'rank': [2, 0.75, 1, 1.0]}), (4611, {'ID': 4611, 'rank': [3, 0.6666666666666666, 2, 0.5]}), (5341, {'ID': 5341, 'rank': [1, 0.5, 2, 1.0]}), (3032, {'ID': 3032, 'rank': [3, 0.5, 3, 0.6666666666666666]}), (4815, {'ID': 4815, 'rank': [4, 0.625, 3, 0.5]}), (3523, {'ID': 3523, 'rank': [2, 0.5, 2, 0.75]}), (5679, {'ID': 5679, 'rank': [1, 0.0, 2, 0.5]}), (7164, {'ID': 7164, 'rank': [0.0, 0.0, 1, 1.0]}), (2885, {'ID': 2885, 'rank': [1, 0.0, 0.0, 0.0]}), (5972, {'ID': 5972, 'rank': [1, 0.5, 2, 0.25]}), (2888, {'ID': 2888, 'rank': [3, 0.8333333333333334, 0.0, 0.0]}), (846, {'ID': 846, 'rank': [0.0, 0.0, 1, 1.0]}), (2901, {'ID': 2901, 'rank': [2, 0.25, 0.0, 0.0]}), (5346, {'ID': 5346, 'rank': [1, 1.0, 1, 0.0]}), (6502, {'ID': 6502, 'rank': [1, 0.0, 1, 1.0]}), (2965, {'ID': 2965, 'rank': [3, 0.6666666666666666, 1, 0.5]}), (195, {'ID': 195, 'rank': [0.0, 0.0, 1, 1.0]}), (2974, {'ID': 2974, 'rank': [1, 1.0, 3, 0.6666666666666666]}), (126, {'ID': 126, 'rank': [0.0, 0.0, 1, 1.0]}), (5152, {'ID': 5152, 'rank': [2, 0.75, 2, 0.75]}), (3053, {'ID': 3053, 'rank': [1, 0.0, 0.0, 0.0]}), (3516, {'ID': 3516, 'rank': [0.0, 0.0, 2, 0.0]}), (3339, {'ID': 3339, 'rank': [3, 0.6666666666666666, 2, 0.75]}), (6015, {'ID': 6015, 'rank': [1, 0.0, 2, 1.0]}), (3240, {'ID': 3240, 'rank': [4, 0.875, 1, 0.0]}), (3350, {'ID': 3350, 'rank': [0.0, 0.0, 1, 1.0]}), (4511, {'ID': 4511, 'rank': [3, 0.6666666666666666, 1, 1.0]}), (3331, {'ID': 3331, 'rank': [2, 0.25, 1, 0.5]}), (4055, {'ID': 4055, 'rank': [3, 0.3333333333333333, 2, 0.75]}), (3354, {'ID': 3354, 'rank': [2, 0.75, 2, 0.25]}), (5303, {'ID': 5303, 'rank': [0.0, 0.0, 1, 1.0]}), (6076, {'ID': 6076, 'rank': [2, 0.25, 2, 0.5]}), (3394, {'ID': 3394, 'rank': [3, 0.5, 2, 0.25]}), (7280, {'ID': 7280, 'rank': [0.0, 0.0, 1, 0.5]}), (2390, {'ID': 2390, 'rank': [0.0, 0.0, 1, 1.0]}), (2648, {'ID': 2648, 'rank': [0.0, 0.0, 1, 1.0]}), (3619, {'ID': 3619, 'rank': [1, 1.0, 1, 0.5]}), (3826, {'ID': 3826, 'rank': [1, 0.5, 2, 0.5]}), (2209, {'ID': 2209, 'rank': [0.0, 0.0, 2, 0.75]}), (3692, {'ID': 3692, 'rank': [2, 1.0, 0.0, 0.0]}), (2775, {'ID': 2775, 'rank': [0.0, 0.0, 2, 0.5]}), (5206, {'ID': 5206, 'rank': [0.0, 0.0, 1, 1.0]}), (6480, {'ID': 6480, 'rank': [1, 0.0, 1, 1.0]}), (5879, {'ID': 5879, 'rank': [2, 0.5, 1, 0.0]}), (1239, {'ID': 1239, 'rank': [0.0, 0.0, 1, 0.5]}), (3994, {'ID': 3994, 'rank': [1, 0.0, 3, 0.3333333333333333]}), (6864, {'ID': 6864, 'rank': [4, 0.25, 2, 0.5]}), (3006, {'ID': 3006, 'rank': [0.0, 0.0, 1, 0.0]}), (7059, {'ID': 7059, 'rank': [1, 0.5, 1, 1.0]}), (4169, {'ID': 4169, 'rank': [1, 0.0, 0.0, 0.0]}), (4173, {'ID': 4173, 'rank': [1, 0.5, 2, 1.0]}), (6743, {'ID': 6743, 'rank': [3, 0.16666666666666666, 2, 0.0]}), (4260, {'ID': 4260, 'rank': [2, 0.5, 1, 0.5]}), (6164, {'ID': 6164, 'rank': [3, 0.8333333333333334, 1, 1.0]}), (6126, {'ID': 6126, 'rank': [1, 1.0, 1, 0.5]}), (4323, {'ID': 4323, 'rank': [1, 0.0, 0.0, 0.0]}), (4343, {'ID': 4343, 'rank': [1, 0.5, 1, 0.5]}), (5474, {'ID': 5474, 'rank': [3, 0.8333333333333334, 1, 1.0]}), (4487, {'ID': 4487, 'rank': [1, 0.0, 0.0, 0.0]}), (5026, {'ID': 5026, 'rank': [0.0, 0.0, 1, 1.0]}), (4711, {'ID': 4711, 'rank': [2, 1.0, 3, 0.5]}), (5933, {'ID': 5933, 'rank': [2, 0.75, 1, 1.0]}), (6434, {'ID': 6434, 'rank': [0.0, 0.0, 1, 1.0]}), (5157, {'ID': 5157, 'rank': [0.0, 0.0, 1, 0.5]}), (6475, {'ID': 6475, 'rank': [0.0, 0.0, 1, 0.5]}), (6570, {'ID': 6570, 'rank': [0.0, 0.0, 1, 1.0]}), (5304, {'ID': 5304, 'rank': [2, 0.25, 0.0, 0.0]}), (5377, {'ID': 5377, 'rank': [1, 0.5, 0.0, 0.0]}), (7001, {'ID': 7001, 'rank': [2, 0.75, 2, 0.5]}), (5378, {'ID': 5378, 'rank': [1, 0.5, 0.0, 0.0]}), (5772, {'ID': 5772, 'rank': [1, 0.0, 0.0, 0.0]}), (5820, {'ID': 5820, 'rank': [1, 0.0, 0.0, 0.0]}), (5959, {'ID': 5959, 'rank': [1, 0.5, 0.0, 0.0]}), (1580, {'ID': 1580, 'rank': [0.0, 0.0, 1, 1.0]}), (3213, {'ID': 3213, 'rank': [0.0, 0.0, 2, 0.75]}), (2691, {'ID': 2691, 'rank': [0.0, 0.0, 1, 0.5]}), (4219, {'ID': 4219, 'rank': [0.0, 0.0, 1, 1.0]}), (7101, {'ID': 7101, 'rank': [0.0, 0.0, 1, 1.0]}), (6468, {'ID': 6468, 'rank': [3, 0.3333333333333333, 0.0, 0.0]}), (7285, {'ID': 7285, 'rank': [1, 0.5, 0.0, 0.0]})]\n",
            "Edges: [(64, 1738, {'score': 1.0}), (64, 2684, {'score': 0.0}), (64, 5136, {'score': 1.0}), (1738, 2684, {'score': 0.5}), (1738, 3665, {'score': 0.0}), (2684, 3665, {'score': 1.0}), (2684, 4611, {'score': 0.5}), (2684, 5341, {'score': 1.0}), (5136, 1738, {'score': 1.0}), (5136, 2684, {'score': 0.5}), (5136, 4611, {'score': 0.5}), (134, 1939, {'score': 0.5}), (134, 7011, {'score': 0.5}), (1939, 134, {'score': 0.5}), (1939, 2520, {'score': 0.5}), (7011, 134, {'score': 0.0}), (7011, 2520, {'score': 0.5}), (157, 888, {'score': 1.0}), (157, 5273, {'score': 0.5}), (888, 1041, {'score': 0.5}), (186, 2059, {'score': 1.0}), (2059, 5064, {'score': 0.0}), (219, 330, {'score': 0.0}), (219, 1408, {'score': 0.0}), (219, 1636, {'score': 1.0}), (219, 2948, {'score': 0.0}), (219, 5207, {'score': 0.5}), (330, 1439, {'score': 1.0}), (1408, 4753, {'score': 1.0}), (1408, 5609, {'score': 1.0}), (1636, 2720, {'score': 0.5}), (1636, 4402, {'score': 0.0}), (2948, 3782, {'score': 0.0}), (5207, 1408, {'score': 0.0}), (5207, 1606, {'score': 0.0}), (5207, 3032, {'score': 0.5}), (5207, 3339, {'score': 0.5}), (325, 4160, {'score': 0.5}), (4160, 7059, {'score': 1.0}), (329, 2908, {'score': 0.5}), (329, 4523, {'score': 1.0}), (2908, 1098, {'score': 0.0}), (2908, 1606, {'score': 0.5}), (2908, 4523, {'score': 0.5}), (1439, 5207, {'score': 0.5}), (334, 2861, {'score': 0.0}), (2861, 3523, {'score': 0.5}), (2861, 5679, {'score': 0.0}), (2861, 7164, {'score': 1.0}), (446, 872, {'score': 0.0}), (511, 1636, {'score': 0.5}), (511, 3124, {'score': 1.0}), (3124, 802, {'score': 0.0}), (3124, 1823, {'score': 1.0}), (3124, 3032, {'score': 1.0}), (3124, 3339, {'score': 1.0}), (3124, 5068, {'score': 0.5}), (541, 2613, {'score': 1.0}), (541, 7020, {'score': 0.5}), (2613, 6036, {'score': 1.0}), (7020, 4711, {'score': 0.5}), (592, 2172, {'score': 0.5}), (592, 2979, {'score': 0.5}), (2172, 592, {'score': 0.5}), (2979, 592, {'score': 0.5}), (692, 970, {'score': 1.0}), (970, 978, {'score': 0.0}), (970, 4238, {'score': 0.5}), (702, 3553, {'score': 0.0}), (702, 4758, {'score': 0.0}), (3553, 2648, {'score': 1.0}), (3553, 3240, {'score': 0.0}), (4758, 966, {'score': 0.5}), (4758, 4343, {'score': 0.5}), (802, 330, {'score': 0.5}), (802, 2948, {'score': 0.0}), (1041, 157, {'score': 0.5}), (1041, 2934, {'score': 0.5}), (934, 5174, {'score': 0.5}), (934, 5309, {'score': 0.5}), (5174, 5309, {'score': 0.5}), (5309, 1573, {'score': 0.5}), (5309, 1724, {'score': 1.0}), (5309, 4303, {'score': 0.0}), (937, 3588, {'score': 1.0}), (937, 5802, {'score': 0.0}), (5802, 2209, {'score': 1.0}), (5802, 2974, {'score': 1.0}), (963, 1995, {'score': 0.0}), (963, 3905, {'score': 0.5}), (963, 5798, {'score': 0.5}), (963, 6342, {'score': 0.5}), (1995, 2780, {'score': 1.0}), (1995, 3096, {'score': 1.0}), (1995, 4458, {'score': 1.0}), (1995, 6342, {'score': 1.0}), (1995, 6698, {'score': 0.5}), (3905, 1604, {'score': 1.0}), (3905, 1995, {'score': 0.0}), (3905, 2780, {'score': 0.5}), (3905, 6342, {'score': 0.5}), (5798, 1995, {'score': 0.5}), (5798, 2780, {'score': 0.5}), (5798, 3096, {'score': 0.5}), (5798, 4458, {'score': 0.5}), (5798, 6342, {'score': 0.5}), (6342, 4815, {'score': 0.5}), (6342, 6698, {'score': 1.0}), (966, 5663, {'score': 1.0}), (978, 3186, {'score': 0.5}), (4238, 6015, {'score': 1.0}), (4238, 6743, {'score': 0.0}), (3186, 4238, {'score': 1.0}), (3186, 6015, {'score': 1.0}), (983, 5533, {'score': 0.5}), (993, 2025, {'score': 1.0}), (993, 2036, {'score': 0.5}), (993, 5190, {'score': 0.5}), (2036, 1881, {'score': 0.5}), (5190, 541, {'score': 1.0}), (5190, 4711, {'score': 1.0}), (2934, 5273, {'score': 0.0}), (2934, 6502, {'score': 1.0}), (1098, 329, {'score': 0.0}), (1175, 516, {'score': 1.0}), (1175, 4753, {'score': 0.5}), (4753, 802, {'score': 1.0}), (4753, 4260, {'score': 0.5}), (4753, 5068, {'score': 0.5}), (1176, 2192, {'score': 0.5}), (2192, 5068, {'score': 0.5}), (1200, 934, {'score': 0.0}), (1200, 4303, {'score': 0.5}), (1200, 5309, {'score': 0.5}), (4303, 934, {'score': 0.5}), (4303, 1573, {'score': 0.5}), (4303, 5174, {'score': 0.5}), (1284, 5369, {'score': 0.5}), (5369, 3124, {'score': 1.0}), (1336, 7256, {'score': 0.0}), (1357, 937, {'score': 0.0}), (1357, 983, {'score': 0.5}), (1357, 2187, {'score': 0.5}), (1357, 3392, {'score': 1.0}), (1357, 4308, {'score': 1.0}), (2187, 3657, {'score': 0.5}), (2187, 5802, {'score': 0.5}), (4308, 5679, {'score': 1.0}), (4308, 6126, {'score': 0.5}), (5609, 330, {'score': 1.0}), (5609, 5369, {'score': 0.5}), (1451, 2370, {'score': 0.5}), (1451, 4080, {'score': 0.5}), (1451, 5248, {'score': 0.0}), (2370, 1451, {'score': 0.5}), (2370, 2215, {'score': 0.5}), (2370, 4080, {'score': 0.5}), (2370, 5248, {'score': 0.5}), (4080, 1451, {'score': 0.5}), (4080, 2215, {'score': 1.0}), (4080, 2370, {'score': 0.5}), (5248, 1451, {'score': 0.5}), (5248, 2215, {'score': 1.0}), (5248, 2370, {'score': 1.0}), (1535, 334, {'score': 0.5}), (1535, 5470, {'score': 0.5}), (5470, 1881, {'score': 0.0}), (5470, 2974, {'score': 0.0}), (1557, 6665, {'score': 0.0}), (6665, 4173, {'score': 1.0}), (6665, 7001, {'score': 0.5}), (1565, 3726, {'score': 0.5}), (3726, 6480, {'score': 1.0}), (1573, 934, {'score': 0.5}), (1573, 1200, {'score': 1.0}), (1573, 5174, {'score': 0.0}), (1573, 5815, {'score': 0.5}), (5815, 5174, {'score': 1.0}), (1591, 2131, {'score': 0.5}), (1591, 2491, {'score': 1.0}), (1591, 4143, {'score': 0.0}), (2131, 2491, {'score': 1.0}), (2491, 6432, {'score': 0.5}), (2491, 6798, {'score': 1.0}), (4143, 2131, {'score': 0.0}), (4143, 2491, {'score': 0.5}), (1604, 1995, {'score': 0.0}), (1604, 2780, {'score': 0.0}), (1604, 6342, {'score': 0.5}), (2780, 963, {'score': 0.5}), (2780, 3096, {'score': 0.5}), (2780, 4458, {'score': 1.0}), (2780, 4815, {'score': 0.5}), (2780, 6698, {'score': 0.5}), (1606, 3782, {'score': 0.5}), (1606, 4402, {'score': 0.5}), (3782, 511, {'score': 1.0}), (3782, 5369, {'score': 0.75}), (3782, 5879, {'score': 0.0}), (4402, 1439, {'score': 1.0}), (4402, 2948, {'score': 0.5}), (4402, 5474, {'score': 1.0}), (2720, 1823, {'score': 0.5}), (2720, 3032, {'score': 0.5}), (1717, 983, {'score': 0.5}), (1717, 4758, {'score': 0.5}), (1724, 934, {'score': 1.0}), (1724, 1200, {'score': 1.0}), (1724, 1573, {'score': 0.5}), (1724, 5815, {'score': 0.5}), (3665, 5136, {'score': 0.5}), (1823, 219, {'score': 0.0}), (1823, 1439, {'score': 0.5}), (2520, 1939, {'score': 0.5}), (2520, 7011, {'score': 1.0}), (1979, 1636, {'score': 0.5}), (1979, 1823, {'score': 0.5}), (1979, 5207, {'score': 0.5}), (3096, 963, {'score': 0.0}), (3096, 1604, {'score': 1.0}), (3096, 3905, {'score': 0.5}), (3096, 6698, {'score': 0.5}), (4458, 963, {'score': 0.5}), (4458, 4815, {'score': 0.5}), (6698, 1604, {'score': 0.0}), (6698, 5798, {'score': 1.0}), (5064, 186, {'score': 1.0}), (5064, 5157, {'score': 0.5}), (2121, 2656, {'score': 0.5}), (2121, 4770, {'score': 0.5}), (3657, 993, {'score': 0.0}), (3657, 2209, {'score': 0.5}), (3657, 2974, {'score': 1.0}), (5068, 2720, {'score': 1.0}), (5068, 2908, {'score': 0.5}), (5068, 6475, {'score': 0.5}), (5068, 6570, {'score': 1.0}), (2215, 2370, {'score': 0.5}), (2215, 4080, {'score': 0.5}), (2215, 5248, {'score': 0.0}), (2259, 872, {'score': 1.0}), (2259, 4060, {'score': 1.0}), (2259, 4062, {'score': 1.0}), (4060, 5663, {'score': 0.0}), (2264, 3484, {'score': 1.0}), (2449, 2656, {'score': 0.0}), (6432, 1591, {'score': 0.5}), (6432, 2131, {'score': 0.5}), (6432, 4143, {'score': 1.0}), (6798, 2131, {'score': 0.0}), (2501, 4140, {'score': 0.5}), (2501, 4753, {'score': 0.0}), (4140, 516, {'score': 1.0}), (4140, 3006, {'score': 0.0}), (6036, 1580, {'score': 1.0}), (6036, 3213, {'score': 0.5}), (4611, 64, {'score': 0.5}), (4611, 3665, {'score': 0.5}), (4611, 5341, {'score': 1.0}), (5341, 3665, {'score': 0.5}), (3032, 511, {'score': 0.5}), (3032, 1979, {'score': 0.5}), (3032, 5152, {'score': 0.5}), (4815, 1604, {'score': 0.0}), (4815, 1995, {'score': 0.5}), (4815, 3905, {'score': 1.0}), (4815, 5798, {'score': 1.0}), (3523, 2390, {'score': 1.0}), (3523, 3394, {'score': 0.0}), (5679, 3516, {'score': 0.0}), (2885, 5972, {'score': 0.0}), (5972, 702, {'score': 0.5}), (2888, 846, {'score': 1.0}), (2888, 937, {'score': 0.5}), (2888, 4062, {'score': 1.0}), (2901, 5346, {'score': 0.0}), (2901, 5972, {'score': 0.5}), (5346, 2613, {'score': 1.0}), (6502, 157, {'score': 0.0}), (2965, 195, {'score': 1.0}), (2965, 1979, {'score': 0.5}), (2965, 3782, {'score': 0.5}), (2974, 126, {'score': 1.0}), (5152, 1636, {'score': 1.0}), (5152, 2948, {'score': 0.5}), (3053, 3516, {'score': 0.0}), (3339, 330, {'score': 1.0}), (3339, 2908, {'score': 0.0}), (3339, 4055, {'score': 1.0}), (6015, 6743, {'score': 0.0}), (3240, 2187, {'score': 0.5}), (3240, 3350, {'score': 1.0}), (3240, 3523, {'score': 1.0}), (3240, 4511, {'score': 1.0}), (4511, 1535, {'score': 1.0}), (4511, 2187, {'score': 0.0}), (4511, 5026, {'score': 1.0}), (3331, 325, {'score': 0.0}), (3331, 4160, {'score': 0.5}), (4055, 1439, {'score': 0.5}), (4055, 1636, {'score': 0.5}), (4055, 6864, {'score': 0.0}), (3354, 5303, {'score': 1.0}), (3354, 6076, {'score': 0.5}), (6076, 2691, {'score': 0.5}), (6076, 4711, {'score': 0.0}), (3394, 541, {'score': 0.5}), (3394, 966, {'score': 0.5}), (3394, 7280, {'score': 0.5}), (3619, 3826, {'score': 1.0}), (3826, 1239, {'score': 0.5}), (3692, 2775, {'score': 1.0}), (3692, 5206, {'score': 1.0}), (6480, 2775, {'score': 0.0}), (5879, 2965, {'score': 0.5}), (5879, 5369, {'score': 0.5}), (3994, 2259, {'score': 0.0}), (6864, 219, {'score': 0.0}), (6864, 1823, {'score': 1.0}), (6864, 5068, {'score': 0.0}), (6864, 5207, {'score': 0.0}), (7059, 3331, {'score': 0.5}), (4169, 3994, {'score': 0.0}), (4173, 1557, {'score': 0.5}), (6743, 692, {'score': 0.0}), (6743, 970, {'score': 0.5}), (6743, 3186, {'score': 0.0}), (4260, 3994, {'score': 0.0}), (4260, 6164, {'score': 1.0}), (6164, 3354, {'score': 0.5}), (6164, 4219, {'score': 1.0}), (6164, 7101, {'score': 1.0}), (6126, 3213, {'score': 1.0}), (4323, 5802, {'score': 0.0}), (4343, 6076, {'score': 0.5}), (5474, 4055, {'score': 0.5}), (5474, 5152, {'score': 1.0}), (5474, 6864, {'score': 1.0}), (4487, 3354, {'score': 0.0}), (4711, 5933, {'score': 1.0}), (4711, 6434, {'score': 1.0}), (5933, 3394, {'score': 0.5}), (5933, 3994, {'score': 1.0}), (5304, 3619, {'score': 0.5}), (5304, 3826, {'score': 0.0}), (5377, 7001, {'score': 0.5}), (7001, 1557, {'score': 0.5}), (7001, 4173, {'score': 1.0}), (5378, 1176, {'score': 0.5}), (5772, 4308, {'score': 0.0}), (5820, 2187, {'score': 0.0}), (5959, 2449, {'score': 0.5}), (6468, 1098, {'score': 0.0}), (6468, 2908, {'score': 0.5}), (6468, 4523, {'score': 0.5}), (7285, 3553, {'score': 0.5})]\n",
            "\n",
            "Month: 36\n",
            "Nodes: [(0, {'ID': 0, 'rank': [2, 0.5, 0.0, 0.0]}), (4366, {'ID': 4366, 'rank': [3, 0.5, 6, 0.25]}), (4635, {'ID': 4635, 'rank': [0.0, 0.0, 4, 0.875]}), (36, {'ID': 36, 'rank': [2, 0.75, 1, 1.0]}), (4936, {'ID': 4936, 'rank': [0.0, 0.0, 1, 1.0]}), (5012, {'ID': 5012, 'rank': [0.0, 0.0, 1, 0.5]}), (53, {'ID': 53, 'rank': [5, 0.8, 3, 0.5]}), (872, {'ID': 872, 'rank': [3, 0.5, 5, 0.5]}), (3394, {'ID': 3394, 'rank': [5, 0.4, 4, 0.625]}), (4093, {'ID': 4093, 'rank': [4, 0.625, 6, 0.5833333333333334]}), (4644, {'ID': 4644, 'rank': [4, 0.5, 5, 0.5]}), (6468, {'ID': 6468, 'rank': [4, 0.25, 4, 0.5]}), (84, {'ID': 84, 'rank': [2, 0.5, 4, 0.75]}), (6181, {'ID': 6181, 'rank': [3, 0.3333333333333333, 3, 0.5]}), (134, {'ID': 134, 'rank': [3, 0.6666666666666666, 2, 0.5]}), (1357, {'ID': 1357, 'rank': [3, 0.6666666666666666, 2, 0.5]}), (1939, {'ID': 1939, 'rank': [2, 0.25, 3, 0.6666666666666666]}), (6449, {'ID': 6449, 'rank': [1, 1.0, 5, 0.4]}), (162, {'ID': 162, 'rank': [2, 0.0, 3, 0.3333333333333333]}), (3553, {'ID': 3553, 'rank': [2, 0.5, 2, 0.25]}), (5944, {'ID': 5944, 'rank': [2, 0.25, 3, 0.5]}), (180, {'ID': 180, 'rank': [1, 1.0, 1, 0.5]}), (4808, {'ID': 4808, 'rank': [3, 0.5, 2, 0.75]}), (223, {'ID': 223, 'rank': [1, 0.5, 1, 0.0]}), (6494, {'ID': 6494, 'rank': [1, 0.5, 2, 0.75]}), (224, {'ID': 224, 'rank': [1, 0.0, 1, 0.0]}), (1282, {'ID': 1282, 'rank': [3, 0.6666666666666666, 3, 0.5]}), (257, {'ID': 257, 'rank': [1, 0.0, 1, 1.0]}), (5043, {'ID': 5043, 'rank': [1, 0.5, 2, 0.5]}), (282, {'ID': 282, 'rank': [3, 0.5, 1, 0.5]}), (2941, {'ID': 2941, 'rank': [1, 0.0, 4, 0.25]}), (3473, {'ID': 3473, 'rank': [3, 0.3333333333333333, 2, 0.75]}), (4352, {'ID': 4352, 'rank': [2, 0.25, 3, 0.6666666666666666]}), (295, {'ID': 295, 'rank': [1, 1.0, 0.0, 0.0]}), (1150, {'ID': 1150, 'rank': [2, 0.25, 3, 1.0]}), (329, {'ID': 329, 'rank': [6, 0.5833333333333334, 4, 0.625]}), (4602, {'ID': 4602, 'rank': [4, 0.5, 3, 0.5]}), (6028, {'ID': 6028, 'rank': [3, 0.5, 2, 0.75]}), (348, {'ID': 348, 'rank': [3, 0.16666666666666666, 3, 0.5]}), (1408, {'ID': 1408, 'rank': [2, 0.75, 3, 0.3333333333333333]}), (4339, {'ID': 4339, 'rank': [2, 0.25, 4, 0.5]}), (6306, {'ID': 6306, 'rank': [4, 0.625, 3, 0.16666666666666666]}), (359, {'ID': 359, 'rank': [3, 0.16666666666666666, 2, 0.75]}), (3942, {'ID': 3942, 'rank': [1, 0.0, 2, 0.5]}), (4753, {'ID': 4753, 'rank': [6, 0.75, 1, 0.0]}), (5298, {'ID': 5298, 'rank': [3, 0.3333333333333333, 2, 0.75]}), (436, {'ID': 436, 'rank': [1, 1.0, 0.0, 0.0]}), (4668, {'ID': 4668, 'rank': [1, 1.0, 1, 1.0]}), (519, {'ID': 519, 'rank': [2, 0.75, 2, 0.5]}), (2994, {'ID': 2994, 'rank': [0.0, 0.0, 3, 1.0]}), (5078, {'ID': 5078, 'rank': [1, 0.0, 3, 0.5]}), (637, {'ID': 637, 'rank': [1, 0.5, 2, 1.0]}), (2515, {'ID': 2515, 'rank': [2, 0.0, 2, 0.5]}), (663, {'ID': 663, 'rank': [2, 0.75, 1, 0.5]}), (2392, {'ID': 2392, 'rank': [3, 0.6666666666666666, 3, 0.6666666666666666]}), (6651, {'ID': 6651, 'rank': [0.0, 0.0, 3, 0.6666666666666666]}), (690, {'ID': 690, 'rank': [1, 0.5, 3, 0.8333333333333334]}), (3041, {'ID': 3041, 'rank': [3, 0.8333333333333334, 2, 0.25]}), (739, {'ID': 739, 'rank': [2, 0.75, 2, 0.0]}), (5353, {'ID': 5353, 'rank': [2, 0.75, 2, 0.5]}), (6792, {'ID': 6792, 'rank': [1, 1.0, 3, 0.6666666666666666]}), (752, {'ID': 752, 'rank': [9, 0.5555555555555556, 4, 0.875]}), (1826, {'ID': 1826, 'rank': [5, 0.4, 4, 0.875]}), (2031, {'ID': 2031, 'rank': [4, 0.5, 4, 0.375]}), (2570, {'ID': 2570, 'rank': [5, 0.4, 5, 0.7]}), (3885, {'ID': 3885, 'rank': [5, 0.7, 5, 0.7]}), (4855, {'ID': 4855, 'rank': [3, 0.0, 7, 0.6428571428571429]}), (5860, {'ID': 5860, 'rank': [7, 0.6428571428571429, 6, 0.5]}), (6362, {'ID': 6362, 'rank': [1, 0.5, 7, 0.42857142857142855]}), (6395, {'ID': 6395, 'rank': [4, 0.375, 7, 0.5714285714285714]}), (7090, {'ID': 7090, 'rank': [5, 0.5, 6, 0.8333333333333334]}), (802, {'ID': 802, 'rank': [3, 0.6666666666666666, 2, 0.5]}), (6222, {'ID': 6222, 'rank': [3, 0.5, 4, 0.625]}), (847, {'ID': 847, 'rank': [2, 0.75, 0.0, 0.0]}), (4835, {'ID': 4835, 'rank': [2, 0.25, 2, 0.75]}), (6274, {'ID': 6274, 'rank': [1, 1.0, 2, 0.75]}), (900, {'ID': 900, 'rank': [1, 0.0, 2, 0.5]}), (939, {'ID': 939, 'rank': [1, 1.0, 3, 0.3333333333333333]}), (7042, {'ID': 7042, 'rank': [2, 0.75, 1, 1.0]}), (943, {'ID': 943, 'rank': [3, 0.5, 3, 0.3333333333333333]}), (3861, {'ID': 3861, 'rank': [1, 0.0, 1, 0.5]}), (4385, {'ID': 4385, 'rank': [6, 0.4166666666666667, 4, 0.75]}), (993, {'ID': 993, 'rank': [3, 0.8333333333333334, 2, 0.5]}), (1088, {'ID': 1088, 'rank': [1, 0.5, 1, 1.0]}), (2386, {'ID': 2386, 'rank': [1, 0.5, 3, 0.6666666666666666]}), (6119, {'ID': 6119, 'rank': [0.0, 0.0, 2, 0.5]}), (7252, {'ID': 7252, 'rank': [0.0, 0.0, 1, 0.5]}), (1192, {'ID': 1192, 'rank': [2, 0.5, 1, 0.5]}), (5630, {'ID': 5630, 'rank': [2, 1.0, 1, 0.0]}), (1218, {'ID': 1218, 'rank': [1, 0.5, 0.0, 0.0]}), (698, {'ID': 698, 'rank': [0.0, 0.0, 3, 0.6666666666666666]}), (1224, {'ID': 1224, 'rank': [1, 0.5, 1, 1.0]}), (7255, {'ID': 7255, 'rank': [2, 0.75, 4, 0.25]}), (2780, {'ID': 2780, 'rank': [2, 1.0, 2, 0.25]}), (4910, {'ID': 4910, 'rank': [1, 0.5, 1, 0.5]}), (5486, {'ID': 5486, 'rank': [2, 0.0, 2, 1.0]}), (1354, {'ID': 1354, 'rank': [1, 0.5, 0.0, 0.0]}), (4312, {'ID': 4312, 'rank': [0.0, 0.0, 3, 0.5]}), (2520, {'ID': 2520, 'rank': [2, 0.75, 3, 0.3333333333333333]}), (3296, {'ID': 3296, 'rank': [2, 0.5, 3, 1.0]}), (2364, {'ID': 2364, 'rank': [3, 0.5, 3, 0.6666666666666666]}), (7031, {'ID': 7031, 'rank': [4, 0.5, 3, 0.5]}), (1457, {'ID': 1457, 'rank': [1, 0.0, 2, 0.0]}), (3303, {'ID': 3303, 'rank': [2, 1.0, 3, 0.3333333333333333]}), (1460, {'ID': 1460, 'rank': [3, 0.3333333333333333, 3, 0.16666666666666666]}), (3525, {'ID': 3525, 'rank': [3, 0.6666666666666666, 3, 0.3333333333333333]}), (1509, {'ID': 1509, 'rank': [3, 0.3333333333333333, 3, 0.3333333333333333]}), (1512, {'ID': 1512, 'rank': [3, 1.0, 4, 0.125]}), (3855, {'ID': 3855, 'rank': [2, 0.25, 4, 0.625]}), (6261, {'ID': 6261, 'rank': [2, 0.25, 3, 0.6666666666666666]}), (1534, {'ID': 1534, 'rank': [2, 0.75, 1, 1.0]}), (1573, {'ID': 1573, 'rank': [3, 0.6666666666666666, 2, 1.0]}), (6418, {'ID': 6418, 'rank': [2, 0.5, 3, 0.3333333333333333]}), (1551, {'ID': 1551, 'rank': [2, 0.25, 4, 0.5]}), (2930, {'ID': 2930, 'rank': [2, 0.5, 4, 0.5]}), (6383, {'ID': 6383, 'rank': [3, 0.16666666666666666, 3, 0.6666666666666666]}), (5788, {'ID': 5788, 'rank': [1, 1.0, 1, 0.5]}), (6885, {'ID': 6885, 'rank': [1, 1.0, 3, 0.8333333333333334]}), (1620, {'ID': 1620, 'rank': [3, 0.3333333333333333, 2, 0.5]}), (1661, {'ID': 1661, 'rank': [3, 0.5, 2, 0.75]}), (6356, {'ID': 6356, 'rank': [1, 1.0, 3, 0.5]}), (6593, {'ID': 6593, 'rank': [3, 0.6666666666666666, 2, 0.5]}), (1701, {'ID': 1701, 'rank': [1, 0.5, 2, 0.5]}), (5771, {'ID': 5771, 'rank': [3, 0.16666666666666666, 1, 0.5]}), (1718, {'ID': 1718, 'rank': [2, 0.5, 1, 1.0]}), (674, {'ID': 674, 'rank': [0.0, 0.0, 1, 0.5]}), (2970, {'ID': 2970, 'rank': [6, 0.5833333333333334, 6, 0.75]}), (3528, {'ID': 3528, 'rank': [3, 0.5, 5, 0.6]}), (1860, {'ID': 1860, 'rank': [3, 0.5, 1, 1.0]}), (1869, {'ID': 1869, 'rank': [2, 0.5, 2, 0.5]}), (4544, {'ID': 4544, 'rank': [2, 0.5, 2, 0.25]}), (1889, {'ID': 1889, 'rank': [1, 1.0, 4, 0.375]}), (5596, {'ID': 5596, 'rank': [3, 0.5, 4, 0.75]}), (1930, {'ID': 1930, 'rank': [4, 1.0, 5, 0.2]}), (6085, {'ID': 6085, 'rank': [8, 0.8125, 4, 0.5]}), (1942, {'ID': 1942, 'rank': [1, 0.5, 1, 0.0]}), (6723, {'ID': 6723, 'rank': [1, 0.5, 3, 0.6666666666666666]}), (1978, {'ID': 1978, 'rank': [2, 0.25, 3, 0.16666666666666666]}), (3767, {'ID': 3767, 'rank': [2, 0.75, 1, 0.5]}), (4535, {'ID': 4535, 'rank': [2, 0.5, 1, 0.0]}), (2068, {'ID': 2068, 'rank': [3, 0.8333333333333334, 0.0, 0.0]}), (5274, {'ID': 5274, 'rank': [0.0, 0.0, 1, 0.5]}), (5468, {'ID': 5468, 'rank': [4, 0.875, 1, 1.0]}), (6308, {'ID': 6308, 'rank': [2, 0.75, 2, 0.5]}), (2150, {'ID': 2150, 'rank': [1, 0.0, 2, 0.75]}), (6996, {'ID': 6996, 'rank': [2, 0.75, 2, 0.25]}), (2192, {'ID': 2192, 'rank': [3, 0.8333333333333334, 2, 1.0]}), (5719, {'ID': 5719, 'rank': [1, 1.0, 1, 1.0]}), (2288, {'ID': 2288, 'rank': [1, 1.0, 1, 1.0]}), (4959, {'ID': 4959, 'rank': [0.0, 0.0, 1, 1.0]}), (2355, {'ID': 2355, 'rank': [2, 1.0, 3, 0.8333333333333334]}), (1428, {'ID': 1428, 'rank': [0.0, 0.0, 1, 1.0]}), (5727, {'ID': 5727, 'rank': [2, 0.5, 2, 0.75]}), (2359, {'ID': 2359, 'rank': [1, 0.0, 2, 0.25]}), (6721, {'ID': 6721, 'rank': [4, 0.5, 5, 0.6]}), (4442, {'ID': 4442, 'rank': [1, 1.0, 2, 0.75]}), (7190, {'ID': 7190, 'rank': [2, 0.75, 2, 0.75]}), (2417, {'ID': 2417, 'rank': [3, 0.5, 0.0, 0.0]}), (2424, {'ID': 2424, 'rank': [1, 0.5, 0.0, 0.0]}), (5282, {'ID': 5282, 'rank': [1, 0.5, 2, 0.5]}), (2434, {'ID': 2434, 'rank': [2, 0.5, 1, 0.5]}), (2723, {'ID': 2723, 'rank': [3, 0.5, 3, 0.5]}), (5835, {'ID': 5835, 'rank': [1, 0.0, 2, 0.75]}), (5880, {'ID': 5880, 'rank': [4, 0.875, 2, 0.0]}), (6598, {'ID': 6598, 'rank': [6, 0.5833333333333334, 5, 0.3]}), (2572, {'ID': 2572, 'rank': [1, 1.0, 1, 1.0]}), (3512, {'ID': 3512, 'rank': [2, 0.25, 2, 0.75]}), (2575, {'ID': 2575, 'rank': [1, 1.0, 2, 0.5]}), (673, {'ID': 673, 'rank': [0.0, 0.0, 1, 1.0]}), (3731, {'ID': 3731, 'rank': [3, 1.0, 2, 0.25]}), (6606, {'ID': 6606, 'rank': [0.0, 0.0, 2, 0.25]}), (2734, {'ID': 2734, 'rank': [4, 0.375, 2, 0.5]}), (2764, {'ID': 2764, 'rank': [2, 0.5, 1, 1.0]}), (363, {'ID': 363, 'rank': [0.0, 0.0, 2, 0.75]}), (3002, {'ID': 3002, 'rank': [1, 1.0, 1, 0.5]}), (2818, {'ID': 2818, 'rank': [3, 0.6666666666666666, 2, 0.75]}), (4186, {'ID': 4186, 'rank': [2, 0.5, 3, 0.5]}), (2823, {'ID': 2823, 'rank': [1, 1.0, 2, 0.5]}), (5389, {'ID': 5389, 'rank': [2, 0.5, 2, 0.75]}), (2864, {'ID': 2864, 'rank': [2, 0.5, 2, 0.5]}), (2880, {'ID': 2880, 'rank': [3, 0.8333333333333334, 1, 0.0]}), (3305, {'ID': 3305, 'rank': [3, 0.6666666666666666, 1, 1.0]}), (2926, {'ID': 2926, 'rank': [3, 0.3333333333333333, 1, 0.5]}), (6083, {'ID': 6083, 'rank': [1, 0.0, 2, 0.5]}), (5652, {'ID': 5652, 'rank': [8, 0.6875, 3, 0.3333333333333333]}), (3019, {'ID': 3019, 'rank': [1, 0.5, 1, 1.0]}), (3964, {'ID': 3964, 'rank': [1, 0.0, 2, 0.25]}), (3030, {'ID': 3030, 'rank': [1, 0.5, 1, 0.0]}), (6082, {'ID': 6082, 'rank': [2, 0.25, 4, 0.625]}), (3154, {'ID': 3154, 'rank': [2, 0.25, 2, 0.25]}), (7043, {'ID': 7043, 'rank': [2, 0.25, 1, 0.5]}), (3229, {'ID': 3229, 'rank': [1, 0.0, 0.0, 0.0]}), (3289, {'ID': 3289, 'rank': [1, 0.0, 0.0, 0.0]}), (7176, {'ID': 7176, 'rank': [1, 1.0, 1, 0.0]}), (3408, {'ID': 3408, 'rank': [2, 0.25, 1, 0.5]}), (4702, {'ID': 4702, 'rank': [3, 0.5, 3, 0.6666666666666666]}), (6322, {'ID': 6322, 'rank': [1, 0.5, 4, 0.25]}), (3434, {'ID': 3434, 'rank': [5, 0.7, 4, 0.625]}), (3688, {'ID': 3688, 'rank': [3, 0.3333333333333333, 1, 0.5]}), (4319, {'ID': 4319, 'rank': [3, 0.6666666666666666, 3, 0.5]}), (6675, {'ID': 6675, 'rank': [2, 0.5, 2, 0.75]}), (5759, {'ID': 5759, 'rank': [3, 0.6666666666666666, 2, 0.5]}), (3583, {'ID': 3583, 'rank': [2, 0.75, 0.0, 0.0]}), (3619, {'ID': 3619, 'rank': [3, 0.8333333333333334, 1, 0.5]}), (4095, {'ID': 4095, 'rank': [3, 0.16666666666666666, 3, 0.6666666666666666]}), (5261, {'ID': 5261, 'rank': [1, 0.5, 2, 0.25]}), (3975, {'ID': 3975, 'rank': [1, 0.0, 4, 0.25]}), (3887, {'ID': 3887, 'rank': [1, 0.5, 2, 0.5]}), (3954, {'ID': 3954, 'rank': [2, 0.0, 0.0, 0.0]}), (3978, {'ID': 3978, 'rank': [2, 0.25, 1, 1.0]}), (4160, {'ID': 4160, 'rank': [3, 0.5, 1, 0.5]}), (3996, {'ID': 3996, 'rank': [2, 0.25, 0.0, 0.0]}), (4034, {'ID': 4034, 'rank': [2, 0.5, 0.0, 0.0]}), (4070, {'ID': 4070, 'rank': [1, 0.5, 0.0, 0.0]}), (4739, {'ID': 4739, 'rank': [3, 1.0, 1, 0.5]}), (4082, {'ID': 4082, 'rank': [2, 0.5, 0.0, 0.0]}), (5069, {'ID': 5069, 'rank': [3, 0.3333333333333333, 2, 0.75]}), (4394, {'ID': 4394, 'rank': [1, 0.5, 2, 0.5]}), (4116, {'ID': 4116, 'rank': [2, 0.75, 1, 0.5]}), (6118, {'ID': 6118, 'rank': [4, 0.75, 2, 0.25]}), (1335, {'ID': 1335, 'rank': [0.0, 0.0, 1, 1.0]}), (5579, {'ID': 5579, 'rank': [2, 0.5, 2, 0.75]}), (6435, {'ID': 6435, 'rank': [2, 0.5, 2, 0.75]}), (6315, {'ID': 6315, 'rank': [1, 1.0, 2, 0.25]}), (4821, {'ID': 4821, 'rank': [1, 1.0, 0.0, 0.0]}), (5138, {'ID': 5138, 'rank': [0.0, 0.0, 1, 1.0]}), (2080, {'ID': 2080, 'rank': [0.0, 0.0, 1, 0.5]}), (4929, {'ID': 4929, 'rank': [3, 0.16666666666666666, 0.0, 0.0]}), (2335, {'ID': 2335, 'rank': [0.0, 0.0, 1, 0.5]}), (7072, {'ID': 7072, 'rank': [0.0, 0.0, 1, 0.5]}), (7107, {'ID': 7107, 'rank': [0.0, 0.0, 1, 0.0]}), (5096, {'ID': 5096, 'rank': [2, 1.0, 1, 1.0]}), (5189, {'ID': 5189, 'rank': [1, 0.0, 0.0, 0.0]}), (5260, {'ID': 5260, 'rank': [1, 1.0, 0.0, 0.0]}), (3946, {'ID': 3946, 'rank': [0.0, 0.0, 1, 0.5]}), (3717, {'ID': 3717, 'rank': [0.0, 0.0, 1, 0.5]}), (5517, {'ID': 5517, 'rank': [1, 0.5, 1, 0.5]}), (5749, {'ID': 5749, 'rank': [2, 0.25, 0.0, 0.0]}), (4260, {'ID': 4260, 'rank': [0.0, 0.0, 1, 0.0]}), (3240, {'ID': 3240, 'rank': [0.0, 0.0, 1, 0.5]}), (6002, {'ID': 6002, 'rank': [2, 0.5, 0.0, 0.0]}), (1658, {'ID': 1658, 'rank': [0.0, 0.0, 2, 0.75]}), (6287, {'ID': 6287, 'rank': [1, 1.0, 0.0, 0.0]}), (6392, {'ID': 6392, 'rank': [2, 1.0, 0.0, 0.0]}), (6728, {'ID': 6728, 'rank': [4, 0.5, 0.0, 0.0]}), (6763, {'ID': 6763, 'rank': [4, 0.625, 0.0, 0.0]}), (6842, {'ID': 6842, 'rank': [1, 1.0, 0.0, 0.0]}), (7148, {'ID': 7148, 'rank': [4, 0.5, 0.0, 0.0]}), (7288, {'ID': 7288, 'rank': [1, 1.0, 0.0, 0.0]})]\n",
            "Edges: [(0, 4366, {'score': 0.0}), (0, 4635, {'score': 1.0}), (4366, 2734, {'score': 0.5}), (4366, 3887, {'score': 0.0}), (4366, 4635, {'score': 1.0}), (36, 4936, {'score': 1.0}), (36, 5012, {'score': 0.5}), (53, 872, {'score': 1.0}), (53, 3394, {'score': 1.0}), (53, 4093, {'score': 0.5}), (53, 4644, {'score': 1.0}), (53, 6468, {'score': 0.5}), (872, 329, {'score': 0.5}), (872, 4093, {'score': 1.0}), (872, 4644, {'score': 0.0}), (3394, 872, {'score': 0.5}), (3394, 4093, {'score': 0.5}), (3394, 4644, {'score': 0.0}), (3394, 6322, {'score': 0.0}), (3394, 6468, {'score': 1.0}), (4093, 329, {'score': 0.5}), (4093, 5596, {'score': 1.0}), (4093, 6322, {'score': 0.5}), (4093, 6468, {'score': 0.5}), (4644, 4093, {'score': 1.0}), (4644, 6118, {'score': 0.5}), (4644, 6322, {'score': 0.5}), (4644, 6468, {'score': 0.0}), (6468, 872, {'score': 0.5}), (6468, 6118, {'score': 0.0}), (6468, 6322, {'score': 0.0}), (6468, 6721, {'score': 0.5}), (84, 4366, {'score': 0.0}), (84, 6181, {'score': 1.0}), (6181, 2734, {'score': 0.5}), (6181, 3525, {'score': 0.0}), (6181, 5596, {'score': 0.5}), (134, 1357, {'score': 0.5}), (134, 1939, {'score': 1.0}), (134, 6449, {'score': 0.5}), (1357, 2520, {'score': 0.5}), (1357, 3296, {'score': 1.0}), (1357, 6449, {'score': 0.5}), (1939, 2520, {'score': 0.5}), (1939, 6449, {'score': 0.0}), (6449, 3296, {'score': 1.0}), (162, 3553, {'score': 0.0}), (162, 5944, {'score': 0.0}), (3553, 5759, {'score': 0.5}), (3553, 5944, {'score': 0.5}), (5944, 900, {'score': 0.0}), (5944, 993, {'score': 0.5}), (180, 4808, {'score': 1.0}), (4808, 519, {'score': 0.5}), (4808, 637, {'score': 1.0}), (4808, 3303, {'score': 0.0}), (223, 6494, {'score': 0.5}), (6494, 5069, {'score': 0.5}), (224, 1282, {'score': 0.0}), (1282, 2780, {'score': 0.5}), (1282, 4910, {'score': 0.5}), (1282, 5486, {'score': 1.0}), (257, 5043, {'score': 0.0}), (5043, 4702, {'score': 0.5}), (282, 2941, {'score': 0.0}), (282, 3473, {'score': 1.0}), (282, 4352, {'score': 0.5}), (2941, 1978, {'score': 0.0}), (3473, 1978, {'score': 0.5}), (3473, 2941, {'score': 0.0}), (3473, 4352, {'score': 0.5}), (4352, 1978, {'score': 0.0}), (4352, 2941, {'score': 0.5}), (295, 1150, {'score': 1.0}), (1150, 6119, {'score': 0.0}), (1150, 7252, {'score': 0.5}), (329, 53, {'score': 0.5}), (329, 84, {'score': 1.0}), (329, 3394, {'score': 0.0}), (329, 4602, {'score': 0.5}), (329, 4644, {'score': 1.0}), (329, 6028, {'score': 0.5}), (4602, 1460, {'score': 0.5}), (4602, 1889, {'score': 0.5}), (4602, 6181, {'score': 0.5}), (4602, 7190, {'score': 0.5}), (6028, 84, {'score': 1.0}), (6028, 3525, {'score': 0.5}), (6028, 4366, {'score': 0.0}), (348, 1408, {'score': 0.0}), (348, 4339, {'score': 0.5}), (348, 6306, {'score': 0.0}), (1408, 2364, {'score': 0.5}), (1408, 7031, {'score': 1.0}), (4339, 1408, {'score': 0.5}), (4339, 1509, {'score': 0.0}), (6306, 1408, {'score': 0.5}), (6306, 1509, {'score': 0.5}), (6306, 2364, {'score': 1.0}), (6306, 4339, {'score': 0.5}), (359, 3942, {'score': 0.0}), (359, 4753, {'score': 0.0}), (359, 5298, {'score': 0.5}), (3942, 739, {'score': 0.0}), (4753, 257, {'score': 1.0}), (4753, 802, {'score': 0.5}), (4753, 1661, {'score': 0.5}), (4753, 2150, {'score': 1.0}), (4753, 5298, {'score': 1.0}), (4753, 6315, {'score': 0.5}), (5298, 802, {'score': 0.5}), (5298, 6222, {'score': 0.0}), (5298, 6792, {'score': 0.5}), (436, 4668, {'score': 1.0}), (4668, 1335, {'score': 1.0}), (519, 2994, {'score': 1.0}), (519, 5078, {'score': 0.5}), (5078, 6315, {'score': 0.0}), (637, 2515, {'score': 0.5}), (2515, 1457, {'score': 0.0}), (2515, 5880, {'score': 0.0}), (663, 2392, {'score': 1.0}), (663, 6651, {'score': 0.5}), (2392, 1889, {'score': 0.5}), (2392, 4442, {'score': 0.5}), (2392, 7190, {'score': 1.0}), (690, 3041, {'score': 0.5}), (3041, 6082, {'score': 1.0}), (3041, 6723, {'score': 1.0}), (3041, 7255, {'score': 0.5}), (739, 5353, {'score': 0.5}), (739, 6792, {'score': 1.0}), (5353, 359, {'score': 1.0}), (5353, 6222, {'score': 0.5}), (6792, 6222, {'score': 1.0}), (752, 1826, {'score': 1.0}), (752, 2031, {'score': 0.0}), (752, 2570, {'score': 1.0}), (752, 3885, {'score': 1.0}), (752, 4855, {'score': 0.0}), (752, 5860, {'score': 0.5}), (752, 6362, {'score': 0.5}), (752, 6395, {'score': 0.5}), (752, 7090, {'score': 0.5}), (1826, 2970, {'score': 1.0}), (1826, 3528, {'score': 0.0}), (1826, 4855, {'score': 0.5}), (1826, 6362, {'score': 0.5}), (1826, 6395, {'score': 0.0}), (2031, 2570, {'score': 0.5}), (2031, 2970, {'score': 1.0}), (2031, 5860, {'score': 0.5}), (2031, 6362, {'score': 0.0}), (2570, 1930, {'score': 0.5}), (2570, 2970, {'score': 0.0}), (2570, 3528, {'score': 0.5}), (2570, 4855, {'score': 1.0}), (2570, 6598, {'score': 0.0}), (3885, 2970, {'score': 1.0}), (3885, 4855, {'score': 0.0}), (3885, 5860, {'score': 0.5}), (3885, 6362, {'score': 1.0}), (3885, 6395, {'score': 1.0}), (4855, 6085, {'score': 0.0}), (4855, 6362, {'score': 0.0}), (4855, 6598, {'score': 0.0}), (5860, 1930, {'score': 0.0}), (5860, 2570, {'score': 0.5}), (5860, 2970, {'score': 1.0}), (5860, 3528, {'score': 1.0}), (5860, 4855, {'score': 1.0}), (5860, 6362, {'score': 0.5}), (5860, 6395, {'score': 0.5}), (6362, 1930, {'score': 0.5}), (6395, 1930, {'score': 0.0}), (6395, 2970, {'score': 0.5}), (6395, 4855, {'score': 1.0}), (6395, 6598, {'score': 0.0}), (7090, 1826, {'score': 0.5}), (7090, 2031, {'score': 0.0}), (7090, 3528, {'score': 0.5}), (7090, 4855, {'score': 1.0}), (7090, 5860, {'score': 0.5}), (802, 5353, {'score': 0.5}), (802, 6222, {'score': 1.0}), (802, 6792, {'score': 0.5}), (6222, 359, {'score': 0.5}), (6222, 739, {'score': 0.0}), (6222, 3942, {'score': 1.0}), (847, 4835, {'score': 1.0}), (847, 6274, {'score': 0.5}), (4835, 2080, {'score': 0.5}), (4835, 3964, {'score': 0.0}), (6274, 1658, {'score': 1.0}), (900, 162, {'score': 0.0}), (939, 7042, {'score': 1.0}), (7042, 2823, {'score': 1.0}), (7042, 4116, {'score': 0.5}), (943, 84, {'score': 0.5}), (943, 3861, {'score': 0.5}), (943, 4385, {'score': 0.5}), (3861, 4366, {'score': 0.0}), (4385, 939, {'score': 0.5}), (4385, 1460, {'score': 0.0}), (4385, 3855, {'score': 0.5}), (4385, 4366, {'score': 0.5}), (4385, 6028, {'score': 1.0}), (4385, 6181, {'score': 0.0}), (993, 162, {'score': 1.0}), (993, 900, {'score': 1.0}), (993, 3553, {'score': 0.5}), (1088, 2386, {'score': 0.5}), (2386, 6721, {'score': 0.5}), (1192, 1088, {'score': 1.0}), (1192, 5630, {'score': 0.0}), (5630, 1718, {'score': 1.0}), (5630, 2386, {'score': 1.0}), (1218, 698, {'score': 0.5}), (1224, 7255, {'score': 0.5}), (7255, 939, {'score': 0.5}), (7255, 6119, {'score': 1.0}), (2780, 2818, {'score': 1.0}), (2780, 4186, {'score': 1.0}), (4910, 4186, {'score': 0.5}), (5486, 2780, {'score': 0.0}), (5486, 4186, {'score': 0.0}), (1354, 4312, {'score': 0.5}), (2520, 134, {'score': 0.5}), (2520, 3296, {'score': 1.0}), (3296, 134, {'score': 0.5}), (3296, 3408, {'score': 0.5}), (2364, 348, {'score': 0.5}), (2364, 1620, {'score': 0.5}), (2364, 7031, {'score': 0.5}), (7031, 348, {'score': 0.5}), (7031, 1620, {'score': 0.5}), (7031, 4339, {'score': 0.5}), (7031, 6306, {'score': 0.5}), (1457, 3303, {'score': 0.0}), (3303, 2994, {'score': 1.0}), (3303, 4702, {'score': 1.0}), (1460, 84, {'score': 0.5}), (1460, 943, {'score': 0.0}), (1460, 3525, {'score': 0.5}), (3525, 329, {'score': 0.5}), (3525, 943, {'score': 0.5}), (3525, 6675, {'score': 1.0}), (1509, 348, {'score': 0.5}), (1509, 2364, {'score': 0.5}), (1509, 7031, {'score': 0.0}), (1512, 2392, {'score': 1.0}), (1512, 3855, {'score': 1.0}), (1512, 6261, {'score': 1.0}), (3855, 1889, {'score': 0.5}), (3855, 4093, {'score': 0.0}), (6261, 1889, {'score': 0.0}), (6261, 6675, {'score': 0.5}), (1534, 1573, {'score': 1.0}), (1534, 6418, {'score': 0.5}), (1573, 5788, {'score': 0.5}), (1573, 6418, {'score': 0.5}), (1573, 6885, {'score': 1.0}), (6418, 2575, {'score': 0.0}), (6418, 6885, {'score': 1.0}), (1551, 2930, {'score': 0.0}), (1551, 6383, {'score': 0.5}), (2930, 1869, {'score': 0.5}), (2930, 4544, {'score': 0.5}), (6383, 2864, {'score': 0.0}), (6383, 2880, {'score': 0.0}), (6383, 2930, {'score': 0.5}), (5788, 1534, {'score': 1.0}), (6885, 2575, {'score': 1.0}), (1620, 1509, {'score': 0.5}), (1620, 4339, {'score': 0.5}), (1620, 6306, {'score': 0.0}), (1661, 5078, {'score': 0.5}), (1661, 6356, {'score': 0.0}), (1661, 6593, {'score': 1.0}), (6356, 637, {'score': 1.0}), (6593, 2192, {'score': 1.0}), (6593, 5880, {'score': 0.0}), (6593, 6356, {'score': 1.0}), (1701, 5771, {'score': 0.5}), (5771, 3434, {'score': 0.0}), (5771, 4095, {'score': 0.5}), (5771, 7255, {'score': 0.0}), (1718, 674, {'score': 0.5}), (1718, 1192, {'score': 0.5}), (2970, 752, {'score': 1.0}), (2970, 1930, {'score': 0.0}), (2970, 5652, {'score': 0.0}), (2970, 6085, {'score': 0.5}), (2970, 6598, {'score': 1.0}), (2970, 7090, {'score': 1.0}), (3528, 6362, {'score': 0.5}), (3528, 6395, {'score': 0.5}), (3528, 6598, {'score': 0.5}), (1860, 1573, {'score': 1.0}), (1860, 6418, {'score': 0.0}), (1860, 6885, {'score': 0.5}), (1869, 1551, {'score': 1.0}), (1869, 4544, {'score': 0.0}), (4544, 1551, {'score': 0.5}), (4544, 6383, {'score': 0.5}), (1889, 5596, {'score': 1.0}), (5596, 1512, {'score': 0.5}), (5596, 3855, {'score': 0.5}), (5596, 4602, {'score': 0.5}), (1930, 752, {'score': 1.0}), (1930, 3885, {'score': 1.0}), (1930, 6085, {'score': 1.0}), (1930, 7090, {'score': 1.0}), (6085, 752, {'score': 1.0}), (6085, 1826, {'score': 1.0}), (6085, 2031, {'score': 1.0}), (6085, 2570, {'score': 1.0}), (6085, 3885, {'score': 0.5}), (6085, 5652, {'score': 0.5}), (6085, 6395, {'score': 0.5}), (6085, 7090, {'score': 1.0}), (1942, 6723, {'score': 0.5}), (6723, 2359, {'score': 0.5}), (1978, 3767, {'score': 0.5}), (1978, 4535, {'score': 0.0}), (3767, 3473, {'score': 0.5}), (3767, 4352, {'score': 1.0}), (4535, 282, {'score': 0.5}), (4535, 2941, {'score': 0.5}), (2068, 5274, {'score': 0.5}), (2068, 5468, {'score': 1.0}), (2068, 6308, {'score': 1.0}), (5468, 690, {'score': 1.0}), (5468, 1150, {'score': 1.0}), (5468, 4095, {'score': 1.0}), (5468, 5389, {'score': 0.5}), (6308, 690, {'score': 1.0}), (6308, 5517, {'score': 0.5}), (2150, 6996, {'score': 0.0}), (6996, 3978, {'score': 1.0}), (6996, 6356, {'score': 0.5}), (2192, 180, {'score': 0.5}), (2192, 5043, {'score': 1.0}), (2192, 5719, {'score': 1.0}), (5719, 2994, {'score': 1.0}), (2288, 4959, {'score': 1.0}), (2355, 1428, {'score': 1.0}), (2355, 5727, {'score': 1.0}), (5727, 2392, {'score': 0.0}), (5727, 6651, {'score': 1.0}), (2359, 7255, {'score': 0.0}), (6721, 53, {'score': 0.5}), (6721, 872, {'score': 0.0}), (6721, 3394, {'score': 1.0}), (6721, 4644, {'score': 0.5}), (4442, 2355, {'score': 1.0}), (7190, 4093, {'score': 0.5}), (7190, 4319, {'score': 1.0}), (2417, 1512, {'score': 0.0}), (2417, 4442, {'score': 1.0}), (2417, 6261, {'score': 0.5}), (2424, 5282, {'score': 0.5}), (5282, 3154, {'score': 0.5}), (2434, 2723, {'score': 0.5}), (2434, 5835, {'score': 0.5}), (2723, 673, {'score': 1.0}), (2723, 3731, {'score': 0.5}), (2723, 6606, {'score': 0.0}), (5835, 6082, {'score': 0.0}), (5880, 1661, {'score': 1.0}), (5880, 2192, {'score': 1.0}), (5880, 4702, {'score': 0.5}), (5880, 6435, {'score': 1.0}), (6598, 752, {'score': 0.5}), (6598, 3885, {'score': 0.5}), (6598, 5652, {'score': 0.5}), (6598, 5860, {'score': 0.5}), (6598, 6085, {'score': 0.5}), (6598, 7090, {'score': 1.0}), (2572, 3512, {'score': 1.0}), (3512, 939, {'score': 0.0}), (3512, 3434, {'score': 0.5}), (2575, 1860, {'score': 1.0}), (3731, 1150, {'score': 1.0}), (3731, 1224, {'score': 1.0}), (3731, 3975, {'score': 1.0}), (2734, 943, {'score': 0.5}), (2734, 1460, {'score': 0.0}), (2734, 1512, {'score': 0.0}), (2734, 4385, {'score': 1.0}), (2764, 363, {'score': 0.5}), (2764, 3002, {'score': 0.5}), (3002, 698, {'score': 1.0}), (2818, 224, {'score': 0.0}), (2818, 1282, {'score': 1.0}), (2818, 5486, {'score': 1.0}), (4186, 1282, {'score': 0.5}), (4186, 2818, {'score': 0.5}), (2823, 5389, {'score': 1.0}), (5389, 3512, {'score': 0.5}), (5389, 3717, {'score': 0.5}), (2864, 1551, {'score': 0.5}), (2864, 2930, {'score': 0.5}), (2880, 1869, {'score': 0.5}), (2880, 2930, {'score': 1.0}), (2880, 3305, {'score': 1.0}), (3305, 1551, {'score': 0.0}), (3305, 2864, {'score': 1.0}), (3305, 6383, {'score': 1.0}), (2926, 2823, {'score': 0.0}), (2926, 6083, {'score': 0.5}), (2926, 6651, {'score': 0.5}), (6083, 4319, {'score': 0.0}), (5652, 1826, {'score': 1.0}), (5652, 2031, {'score': 0.5}), (5652, 2570, {'score': 0.5}), (5652, 3528, {'score': 1.0}), (5652, 3885, {'score': 0.5}), (5652, 5860, {'score': 0.5}), (5652, 6395, {'score': 1.0}), (5652, 7090, {'score': 0.5}), (3019, 3964, {'score': 0.5}), (3964, 3154, {'score': 0.0}), (3030, 2386, {'score': 0.5}), (6082, 690, {'score': 0.5}), (6082, 2359, {'score': 0.0}), (3154, 4312, {'score': 0.0}), (3154, 7043, {'score': 0.5}), (7043, 3030, {'score': 0.0}), (7043, 6721, {'score': 0.5}), (3229, 6308, {'score': 0.0}), (3289, 7176, {'score': 0.0}), (7176, 5096, {'score': 1.0}), (3408, 1939, {'score': 0.5}), (3408, 6449, {'score': 0.0}), (4702, 2515, {'score': 0.5}), (4702, 5579, {'score': 0.5}), (4702, 6435, {'score': 0.5}), (6322, 872, {'score': 0.5}), (3434, 1701, {'score': 0.5}), (3434, 2355, {'score': 1.0}), (3434, 3688, {'score': 0.5}), (3434, 4319, {'score': 0.5}), (3434, 6082, {'score': 1.0}), (3688, 4095, {'score': 0.5}), (3688, 5261, {'score': 0.0}), (3688, 6723, {'score': 0.5}), (4319, 2572, {'score': 1.0}), (4319, 2926, {'score': 0.5}), (4319, 5596, {'score': 0.5}), (6675, 3855, {'score': 0.5}), (6675, 4385, {'score': 0.5}), (5759, 993, {'score': 0.5}), (5759, 3240, {'score': 0.5}), (5759, 5944, {'score': 1.0}), (3583, 698, {'score': 0.5}), (3583, 6274, {'score': 1.0}), (3619, 5835, {'score': 1.0}), (3619, 6083, {'score': 0.5}), (3619, 6494, {'score': 1.0}), (4095, 3041, {'score': 0.0}), (4095, 4394, {'score': 0.0}), (4095, 5261, {'score': 0.5}), (5261, 3946, {'score': 0.5}), (3975, 223, {'score': 0.0}), (3887, 4635, {'score': 0.5}), (3954, 3731, {'score': 0.0}), (3954, 3975, {'score': 0.0}), (3978, 4160, {'score': 0.5}), (3978, 6593, {'score': 0.0}), (4160, 519, {'score': 0.5}), (4160, 4808, {'score': 0.5}), (4160, 5078, {'score': 0.5}), (3996, 162, {'score': 0.0}), (3996, 5759, {'score': 0.5}), (4034, 663, {'score': 0.5}), (4034, 5727, {'score': 0.5}), (4070, 4739, {'score': 0.5}), (4739, 3887, {'score': 1.0}), (4739, 4366, {'score': 1.0}), (4739, 4635, {'score': 1.0}), (4082, 3975, {'score': 0.0}), (4082, 5069, {'score': 1.0}), (5069, 2335, {'score': 0.5}), (5069, 7072, {'score': 0.5}), (5069, 7107, {'score': 0.0}), (4394, 6082, {'score': 0.5}), (4116, 2355, {'score': 0.5}), (4116, 3434, {'score': 1.0}), (6118, 53, {'score': 0.5}), (6118, 329, {'score': 1.0}), (6118, 3394, {'score': 0.5}), (6118, 6721, {'score': 1.0}), (5579, 2150, {'score': 0.5}), (5579, 6996, {'score': 0.5}), (6435, 1457, {'score': 0.0}), (6435, 5579, {'score': 1.0}), (6315, 3303, {'score': 1.0}), (4821, 5138, {'score': 1.0}), (4929, 2434, {'score': 0.5}), (4929, 2723, {'score': 0.0}), (4929, 3975, {'score': 0.0}), (5096, 363, {'score': 1.0}), (5096, 2764, {'score': 1.0}), (5189, 1942, {'score': 0.0}), (5260, 2288, {'score': 1.0}), (5517, 1701, {'score': 0.5}), (5749, 4260, {'score': 0.0}), (5749, 5282, {'score': 0.5}), (6002, 3619, {'score': 0.5}), (6002, 6606, {'score': 0.5}), (6287, 36, {'score': 1.0}), (6392, 3434, {'score': 1.0}), (6392, 4394, {'score': 1.0}), (6728, 1357, {'score': 0.5}), (6728, 1939, {'score': 0.5}), (6728, 2520, {'score': 0.0}), (6728, 6449, {'score': 1.0}), (6763, 1658, {'score': 0.5}), (6763, 4312, {'score': 1.0}), (6763, 4835, {'score': 0.5}), (6763, 6721, {'score': 0.5}), (6842, 3019, {'score': 1.0}), (7148, 1512, {'score': 0.0}), (7148, 4385, {'score': 1.0}), (7148, 4602, {'score': 0.5}), (7148, 6261, {'score': 0.5}), (7288, 2723, {'score': 1.0})]\n",
            "\n",
            "Month: 25\n",
            "Nodes: [(84, {'ID': 84, 'rank': [2, 1.0, 1, 0.0]}), (1428, {'ID': 1428, 'rank': [0.0, 0.0, 2, 1.0]}), (1748, {'ID': 1748, 'rank': [3, 0.6666666666666666, 1, 1.0]}), (127, {'ID': 127, 'rank': [1, 0.5, 1, 1.0]}), (1256, {'ID': 1256, 'rank': [4, 0.25, 2, 0.5]}), (134, {'ID': 134, 'rank': [2, 0.5, 2, 0.75]}), (1472, {'ID': 1472, 'rank': [2, 0.5, 2, 0.75]}), (7011, {'ID': 7011, 'rank': [3, 1.0, 2, 0.25]}), (159, {'ID': 159, 'rank': [2, 0.5, 2, 1.0]}), (1394, {'ID': 1394, 'rank': [2, 0.75, 1, 1.0]}), (1509, {'ID': 1509, 'rank': [3, 0.16666666666666666, 3, 0.5]}), (180, {'ID': 180, 'rank': [3, 0.5, 1, 0.0]}), (5187, {'ID': 5187, 'rank': [3, 0.8333333333333334, 2, 0.25]}), (5798, {'ID': 5798, 'rank': [1, 0.0, 1, 0.5]}), (6885, {'ID': 6885, 'rank': [2, 0.75, 2, 0.25]}), (219, {'ID': 219, 'rank': [2, 0.5, 2, 0.5]}), (1219, {'ID': 1219, 'rank': [0.0, 0.0, 4, 0.75]}), (1662, {'ID': 1662, 'rank': [4, 0.75, 3, 0.6666666666666666]}), (265, {'ID': 265, 'rank': [1, 0.5, 1, 0.5]}), (3096, {'ID': 3096, 'rank': [1, 0.0, 1, 0.5]}), (297, {'ID': 297, 'rank': [1, 1.0, 0.0, 0.0]}), (5192, {'ID': 5192, 'rank': [3, 0.3333333333333333, 3, 0.8333333333333334]}), (311, {'ID': 311, 'rank': [1, 0.5, 1, 0.5]}), (2840, {'ID': 2840, 'rank': [5, 0.6, 3, 0.5]}), (359, {'ID': 359, 'rank': [1, 0.5, 0.0, 0.0]}), (4087, {'ID': 4087, 'rank': [1, 0.0, 3, 0.5]}), (448, {'ID': 448, 'rank': [1, 0.0, 1, 1.0]}), (6468, {'ID': 6468, 'rank': [1, 1.0, 2, 0.25]}), (515, {'ID': 515, 'rank': [3, 0.5, 4, 0.625]}), (2340, {'ID': 2340, 'rank': [3, 0.6666666666666666, 3, 0.16666666666666666]}), (4960, {'ID': 4960, 'rank': [2, 1.0, 4, 0.125]}), (5933, {'ID': 5933, 'rank': [2, 0.25, 4, 0.625]}), (611, {'ID': 611, 'rank': [1, 0.5, 3, 0.8333333333333334]}), (880, {'ID': 880, 'rank': [3, 0.6666666666666666, 2, 0.75]}), (667, {'ID': 667, 'rank': [1, 1.0, 0.0, 0.0]}), (3668, {'ID': 3668, 'rank': [3, 0.3333333333333333, 2, 0.75]}), (672, {'ID': 672, 'rank': [1, 0.0, 2, 0.5]}), (4093, {'ID': 4093, 'rank': [1, 1.0, 3, 0.6666666666666666]}), (675, {'ID': 675, 'rank': [1, 0.5, 1, 0.5]}), (1974, {'ID': 1974, 'rank': [3, 0.5, 3, 0.5]}), (727, {'ID': 727, 'rank': [6, 0.5833333333333334, 5, 0.5]}), (2754, {'ID': 2754, 'rank': [2, 0.25, 4, 0.625]}), (5179, {'ID': 5179, 'rank': [2, 0.5, 2, 0.5]}), (6235, {'ID': 6235, 'rank': [3, 0.6666666666666666, 2, 0.75]}), (6901, {'ID': 6901, 'rank': [3, 0.5, 3, 0.5]}), (7233, {'ID': 7233, 'rank': [3, 0.6666666666666666, 3, 0.8333333333333334]}), (739, {'ID': 739, 'rank': [2, 0.75, 2, 0.75]}), (2568, {'ID': 2568, 'rank': [1, 0.0, 2, 0.75]}), (4153, {'ID': 4153, 'rank': [0.0, 0.0, 2, 0.75]}), (741, {'ID': 741, 'rank': [2, 0.25, 2, 0.75]}), (847, {'ID': 847, 'rank': [2, 0.25, 5, 0.5]}), (7285, {'ID': 7285, 'rank': [3, 0.8333333333333334, 3, 0.3333333333333333]}), (779, {'ID': 779, 'rank': [2, 0.0, 4, 0.5]}), (4243, {'ID': 4243, 'rank': [3, 0.5, 3, 0.5]}), (802, {'ID': 802, 'rank': [1, 1.0, 1, 1.0]}), (1943, {'ID': 1943, 'rank': [0.0, 0.0, 2, 1.0]}), (810, {'ID': 810, 'rank': [2, 0.75, 0.0, 0.0]}), (1490, {'ID': 1490, 'rank': [2, 0.75, 6, 0.5833333333333334]}), (3748, {'ID': 3748, 'rank': [2, 0.25, 2, 0.75]}), (825, {'ID': 825, 'rank': [2, 1.0, 1, 0.5]}), (1632, {'ID': 1632, 'rank': [1, 0.5, 4, 0.5]}), (5044, {'ID': 5044, 'rank': [6, 0.75, 2, 1.0]}), (2663, {'ID': 2663, 'rank': [3, 0.3333333333333333, 2, 0.25]}), (5663, {'ID': 5663, 'rank': [3, 0.6666666666666666, 2, 0.5]}), (1782, {'ID': 1782, 'rank': [3, 0.6666666666666666, 5, 0.6]}), (4760, {'ID': 4760, 'rank': [1, 0.5, 3, 0.8333333333333334]}), (4911, {'ID': 4911, 'rank': [4, 0.375, 3, 0.6666666666666666]}), (916, {'ID': 916, 'rank': [2, 0.25, 2, 0.75]}), (2172, {'ID': 2172, 'rank': [0.0, 0.0, 2, 0.5]}), (3019, {'ID': 3019, 'rank': [1, 0.0, 3, 0.3333333333333333]}), (939, {'ID': 939, 'rank': [2, 0.5, 1, 0.5]}), (1179, {'ID': 1179, 'rank': [0.0, 0.0, 2, 0.75]}), (4753, {'ID': 4753, 'rank': [3, 0.6666666666666666, 4, 0.375]}), (983, {'ID': 983, 'rank': [2, 0.5, 3, 0.5]}), (1248, {'ID': 1248, 'rank': [0.0, 0.0, 2, 0.0]}), (2719, {'ID': 2719, 'rank': [3, 0.5, 1, 1.0]}), (998, {'ID': 998, 'rank': [2, 0.75, 1, 1.0]}), (5249, {'ID': 5249, 'rank': [3, 0.3333333333333333, 2, 0.75]}), (1008, {'ID': 1008, 'rank': [3, 0.8333333333333334, 4, 0.625]}), (3438, {'ID': 3438, 'rank': [0.0, 0.0, 2, 0.25]}), (4032, {'ID': 4032, 'rank': [1, 0.5, 3, 0.8333333333333334]}), (6278, {'ID': 6278, 'rank': [3, 0.3333333333333333, 4, 0.75]}), (1017, {'ID': 1017, 'rank': [1, 1.0, 2, 0.5]}), (5802, {'ID': 5802, 'rank': [2, 0.75, 3, 0.8333333333333334]}), (1192, {'ID': 1192, 'rank': [3, 0.8333333333333334, 2, 0.5]}), (1513, {'ID': 1513, 'rank': [0.0, 0.0, 1, 1.0]}), (1208, {'ID': 1208, 'rank': [3, 0.8333333333333334, 2, 0.75]}), (1310, {'ID': 1310, 'rank': [1, 0.0, 1, 0.5]}), (5109, {'ID': 5109, 'rank': [3, 0.8333333333333334, 1, 1.0]}), (6471, {'ID': 6471, 'rank': [2, 0.25, 2, 1.0]}), (1247, {'ID': 1247, 'rank': [3, 0.3333333333333333, 3, 1.0]}), (4403, {'ID': 4403, 'rank': [2, 0.75, 2, 0.75]}), (5174, {'ID': 5174, 'rank': [1, 0.5, 3, 0.5]}), (5309, {'ID': 5309, 'rank': [3, 0.3333333333333333, 2, 0.5]}), (1253, {'ID': 1253, 'rank': [3, 0.16666666666666666, 1, 0.0]}), (4895, {'ID': 4895, 'rank': [3, 0.3333333333333333, 3, 0.5]}), (5376, {'ID': 5376, 'rank': [3, 0.5, 3, 0.3333333333333333]}), (6787, {'ID': 6787, 'rank': [1, 0.5, 1, 0.0]}), (2839, {'ID': 2839, 'rank': [1, 0.5, 3, 0.6666666666666666]}), (2974, {'ID': 2974, 'rank': [0.0, 0.0, 2, 0.25]}), (4151, {'ID': 4151, 'rank': [3, 0.5, 3, 0.3333333333333333]}), (1283, {'ID': 1283, 'rank': [3, 0.5, 3, 0.8333333333333334]}), (1286, {'ID': 1286, 'rank': [2, 0.75, 5, 0.4]}), (1969, {'ID': 1969, 'rank': [4, 0.875, 2, 0.25]}), (5738, {'ID': 5738, 'rank': [1, 0.5, 2, 0.75]}), (4743, {'ID': 4743, 'rank': [3, 0.6666666666666666, 5, 0.5]}), (4136, {'ID': 4136, 'rank': [1, 0.0, 2, 0.25]}), (1347, {'ID': 1347, 'rank': [2, 0.5, 1, 0.5]}), (3782, {'ID': 3782, 'rank': [2, 0.75, 2, 0.5]}), (1357, {'ID': 1357, 'rank': [4, 0.625, 2, 0.75]}), (3110, {'ID': 3110, 'rank': [3, 0.6666666666666666, 2, 0.25]}), (5230, {'ID': 5230, 'rank': [1, 0.0, 3, 0.8333333333333334]}), (5893, {'ID': 5893, 'rank': [4, 0.75, 5, 0.3]}), (5668, {'ID': 5668, 'rank': [1, 1.0, 1, 1.0]}), (6276, {'ID': 6276, 'rank': [2, 0.75, 5, 0.4]}), (1408, {'ID': 1408, 'rank': [2, 1.0, 2, 0.5]}), (1410, {'ID': 1410, 'rank': [2, 0.25, 1, 0.5]}), (3994, {'ID': 3994, 'rank': [3, 0.6666666666666666, 1, 0.0]}), (1439, {'ID': 1439, 'rank': [2, 0.75, 2, 0.5]}), (6370, {'ID': 6370, 'rank': [3, 0.5, 3, 0.5]}), (1939, {'ID': 1939, 'rank': [1, 1.0, 1, 0.5]}), (1484, {'ID': 1484, 'rank': [1, 0.0, 2, 1.0]}), (4260, {'ID': 4260, 'rank': [2, 0.25, 2, 0.25]}), (5803, {'ID': 5803, 'rank': [5, 0.6, 3, 0.3333333333333333]}), (6224, {'ID': 6224, 'rank': [1, 0.0, 1, 0.5]}), (1523, {'ID': 1523, 'rank': [2, 0.75, 1, 1.0]}), (4513, {'ID': 4513, 'rank': [0.0, 0.0, 1, 1.0]}), (1547, {'ID': 1547, 'rank': [2, 0.25, 3, 0.6666666666666666]}), (1569, {'ID': 1569, 'rank': [3, 0.5, 1, 0.0]}), (3657, {'ID': 3657, 'rank': [2, 0.75, 4, 0.5]}), (6460, {'ID': 6460, 'rank': [0.0, 0.0, 3, 0.6666666666666666]}), (1573, {'ID': 1573, 'rank': [2, 0.75, 0.0, 0.0]}), (3895, {'ID': 3895, 'rank': [2, 0.75, 2, 0.25]}), (1582, {'ID': 1582, 'rank': [3, 0.6666666666666666, 3, 0.8333333333333334]}), (2613, {'ID': 2613, 'rank': [4, 0.875, 2, 0.75]}), (4343, {'ID': 4343, 'rank': [4, 0.25, 2, 1.0]}), (1606, {'ID': 1606, 'rank': [2, 0.5, 1, 0.0]}), (3199, {'ID': 3199, 'rank': [1, 0.5, 3, 0.16666666666666666]}), (1661, {'ID': 1661, 'rank': [1, 0.5, 3, 0.5]}), (1718, {'ID': 1718, 'rank': [2, 0.5, 3, 0.5]}), (2210, {'ID': 2210, 'rank': [2, 0.5, 3, 0.6666666666666666]}), (5514, {'ID': 5514, 'rank': [3, 0.6666666666666666, 3, 0.5]}), (1705, {'ID': 1705, 'rank': [3, 0.6666666666666666, 3, 0.3333333333333333]}), (4974, {'ID': 4974, 'rank': [2, 0.75, 1, 1.0]}), (5600, {'ID': 5600, 'rank': [1, 1.0, 2, 0.5]}), (1717, {'ID': 1717, 'rank': [1, 1.0, 0.0, 0.0]}), (6743, {'ID': 6743, 'rank': [3, 0.8333333333333334, 3, 0.5]}), (2684, {'ID': 2684, 'rank': [4, 0.625, 2, 0.75]}), (3547, {'ID': 3547, 'rank': [1, 0.0, 2, 0.5]}), (3942, {'ID': 3942, 'rank': [1, 0.5, 2, 0.5]}), (5439, {'ID': 5439, 'rank': [0.0, 0.0, 1, 1.0]}), (4515, {'ID': 4515, 'rank': [3, 0.6666666666666666, 2, 0.5]}), (1789, {'ID': 1789, 'rank': [2, 0.75, 2, 0.75]}), (4757, {'ID': 4757, 'rank': [1, 0.5, 3, 0.6666666666666666]}), (5116, {'ID': 5116, 'rank': [4, 0.75, 4, 0.375]}), (1860, {'ID': 1860, 'rank': [1, 0.5, 0.0, 0.0]}), (1867, {'ID': 1867, 'rank': [1, 0.5, 2, 0.75]}), (1892, {'ID': 1892, 'rank': [2, 0.75, 1, 1.0]}), (5658, {'ID': 5658, 'rank': [2, 0.5, 2, 1.0]}), (6721, {'ID': 6721, 'rank': [2, 1.0, 3, 0.5]}), (7057, {'ID': 7057, 'rank': [1, 0.5, 4, 0.375]}), (6318, {'ID': 6318, 'rank': [2, 0.75, 1, 0.5]}), (2087, {'ID': 2087, 'rank': [1, 0.5, 2, 0.5]}), (2094, {'ID': 2094, 'rank': [1, 0.5, 1, 0.5]}), (6724, {'ID': 6724, 'rank': [7, 0.7857142857142857, 4, 0.375]}), (2133, {'ID': 2133, 'rank': [2, 0.25, 0.0, 0.0]}), (5127, {'ID': 5127, 'rank': [1, 1.0, 1, 0.0]}), (6322, {'ID': 6322, 'rank': [3, 0.5, 1, 0.5]}), (2187, {'ID': 2187, 'rank': [2, 0.75, 3, 0.5]}), (2208, {'ID': 2208, 'rank': [3, 0.6666666666666666, 1, 0.5]}), (3728, {'ID': 3728, 'rank': [3, 0.3333333333333333, 1, 0.5]}), (2258, {'ID': 2258, 'rank': [3, 0.6666666666666666, 2, 0.0]}), (4644, {'ID': 4644, 'rank': [2, 0.75, 1, 0.5]}), (6931, {'ID': 6931, 'rank': [1, 1.0, 2, 0.5]}), (6978, {'ID': 6978, 'rank': [4, 0.5, 3, 0.6666666666666666]}), (2416, {'ID': 2416, 'rank': [1, 0.5, 2, 0.0]}), (2430, {'ID': 2430, 'rank': [3, 0.3333333333333333, 0.0, 0.0]}), (2475, {'ID': 2475, 'rank': [1, 1.0, 3, 0.6666666666666666]}), (5484, {'ID': 5484, 'rank': [1, 0.0, 2, 1.0]}), (2492, {'ID': 2492, 'rank': [1, 0.5, 2, 0.75]}), (2531, {'ID': 2531, 'rank': [2, 0.25, 3, 0.6666666666666666]}), (5619, {'ID': 5619, 'rank': [0.0, 0.0, 4, 0.125]}), (5182, {'ID': 5182, 'rank': [3, 0.5, 2, 1.0]}), (2672, {'ID': 2672, 'rank': [3, 0.5, 1, 0.0]}), (6265, {'ID': 6265, 'rank': [4, 0.375, 1, 1.0]}), (6333, {'ID': 6333, 'rank': [2, 0.75, 1, 0.0]}), (2715, {'ID': 2715, 'rank': [1, 1.0, 0.0, 0.0]}), (2737, {'ID': 2737, 'rank': [1, 1.0, 2, 0.75]}), (2973, {'ID': 2973, 'rank': [1, 0.5, 5, 0.5]}), (5224, {'ID': 5224, 'rank': [0.0, 0.0, 3, 0.3333333333333333]}), (2797, {'ID': 2797, 'rank': [1, 0.5, 0.0, 0.0]}), (5856, {'ID': 5856, 'rank': [4, 0.5, 2, 1.0]}), (2852, {'ID': 2852, 'rank': [3, 0.8333333333333334, 4, 0.625]}), (6874, {'ID': 6874, 'rank': [3, 0.5, 2, 0.5]}), (5032, {'ID': 5032, 'rank': [1, 1.0, 1, 0.0]}), (3024, {'ID': 3024, 'rank': [3, 0.16666666666666666, 3, 0.8333333333333334]}), (4702, {'ID': 4702, 'rank': [2, 0.75, 3, 0.5]}), (3051, {'ID': 3051, 'rank': [1, 0.0, 2, 0.75]}), (7124, {'ID': 7124, 'rank': [1, 0.5, 1, 0.0]}), (5925, {'ID': 5925, 'rank': [3, 0.5, 2, 0.75]}), (3166, {'ID': 3166, 'rank': [5, 0.7, 1, 1.0]}), (5705, {'ID': 5705, 'rank': [2, 0.0, 2, 0.5]}), (5788, {'ID': 5788, 'rank': [0.0, 0.0, 2, 0.5]}), (971, {'ID': 971, 'rank': [0.0, 0.0, 3, 0.8333333333333334]}), (3209, {'ID': 3209, 'rank': [4, 0.625, 0.0, 0.0]}), (3302, {'ID': 3302, 'rank': [3, 0.6666666666666666, 4, 0.5]}), (5784, {'ID': 5784, 'rank': [2, 0.0, 1, 1.0]}), (6593, {'ID': 6593, 'rank': [0.0, 0.0, 1, 0.5]}), (3346, {'ID': 3346, 'rank': [4, 0.5, 2, 0.5]}), (5132, {'ID': 5132, 'rank': [0.0, 0.0, 1, 0.0]}), (3354, {'ID': 3354, 'rank': [2, 0.5, 2, 0.75]}), (5969, {'ID': 5969, 'rank': [2, 0.5, 2, 1.0]}), (3376, {'ID': 3376, 'rank': [2, 0.75, 2, 0.5]}), (6973, {'ID': 6973, 'rank': [2, 0.5, 1, 1.0]}), (3394, {'ID': 3394, 'rank': [2, 0.75, 1, 0.0]}), (4633, {'ID': 4633, 'rank': [1, 0.0, 1, 1.0]}), (6728, {'ID': 6728, 'rank': [0.0, 0.0, 2, 0.5]}), (3621, {'ID': 3621, 'rank': [2, 1.0, 2, 0.75]}), (7003, {'ID': 7003, 'rank': [4, 0.375, 1, 0.5]}), (3695, {'ID': 3695, 'rank': [3, 0.6666666666666666, 1, 1.0]}), (6095, {'ID': 6095, 'rank': [0.0, 0.0, 1, 0.5]}), (3959, {'ID': 3959, 'rank': [1, 0.0, 1, 0.5]}), (4381, {'ID': 4381, 'rank': [1, 0.5, 5, 0.5]}), (3996, {'ID': 3996, 'rank': [2, 0.25, 2, 0.5]}), (6947, {'ID': 6947, 'rank': [3, 0.3333333333333333, 2, 0.5]}), (4234, {'ID': 4234, 'rank': [4, 0.625, 0.0, 0.0]}), (1576, {'ID': 1576, 'rank': [0.0, 0.0, 2, 1.0]}), (4493, {'ID': 4493, 'rank': [3, 0.3333333333333333, 1, 0.5]}), (6118, {'ID': 6118, 'rank': [1, 0.0, 1, 0.0]}), (4436, {'ID': 4436, 'rank': [2, 0.25, 1, 0.0]}), (4442, {'ID': 4442, 'rank': [2, 0.25, 1, 1.0]}), (4458, {'ID': 4458, 'rank': [2, 0.25, 0.0, 0.0]}), (4464, {'ID': 4464, 'rank': [1, 0.0, 0.0, 0.0]}), (4502, {'ID': 4502, 'rank': [1, 0.5, 0.0, 0.0]}), (4523, {'ID': 4523, 'rank': [2, 0.75, 0.0, 0.0]}), (4577, {'ID': 4577, 'rank': [1, 0.0, 0.0, 0.0]}), (6022, {'ID': 6022, 'rank': [2, 0.75, 3, 0.16666666666666666]}), (6231, {'ID': 6231, 'rank': [1, 0.5, 2, 0.75]}), (4773, {'ID': 4773, 'rank': [1, 0.5, 1, 0.5]}), (4850, {'ID': 4850, 'rank': [1, 0.0, 1, 1.0]}), (7179, {'ID': 7179, 'rank': [0.0, 0.0, 2, 0.5]}), (3670, {'ID': 3670, 'rank': [0.0, 0.0, 1, 1.0]}), (5039, {'ID': 5039, 'rank': [3, 0.6666666666666666, 0.0, 0.0]}), (5098, {'ID': 5098, 'rank': [1, 1.0, 2, 1.0]}), (6306, {'ID': 6306, 'rank': [3, 0.8333333333333334, 1, 0.5]}), (5049, {'ID': 5049, 'rank': [4, 0.875, 3, 0.5]}), (5118, {'ID': 5118, 'rank': [3, 0.8333333333333334, 1, 1.0]}), (2717, {'ID': 2717, 'rank': [0.0, 0.0, 1, 0.5]}), (5254, {'ID': 5254, 'rank': [1, 1.0, 0.0, 0.0]}), (5284, {'ID': 5284, 'rank': [1, 0.5, 2, 1.0]}), (53, {'ID': 53, 'rank': [0.0, 0.0, 1, 0.5]}), (5298, {'ID': 5298, 'rank': [1, 0.0, 0.0, 0.0]}), (5956, {'ID': 5956, 'rank': [2, 0.75, 1, 0.5]}), (2609, {'ID': 2609, 'rank': [0.0, 0.0, 3, 0.5]}), (5391, {'ID': 5391, 'rank': [4, 0.625, 1, 0.5]}), (5630, {'ID': 5630, 'rank': [1, 0.5, 2, 0.5]}), (3445, {'ID': 3445, 'rank': [0.0, 0.0, 2, 0.0]}), (5870, {'ID': 5870, 'rank': [1, 0.0, 0.0, 0.0]}), (6029, {'ID': 6029, 'rank': [1, 0.5, 1, 0.0]}), (6018, {'ID': 6018, 'rank': [2, 0.75, 0.0, 0.0]}), (6233, {'ID': 6233, 'rank': [2, 0.75, 0.0, 0.0]}), (6418, {'ID': 6418, 'rank': [2, 0.75, 1, 1.0]}), (3056, {'ID': 3056, 'rank': [0.0, 0.0, 1, 0.0]}), (3949, {'ID': 3949, 'rank': [0.0, 0.0, 1, 0.0]}), (6335, {'ID': 6335, 'rank': [2, 0.25, 0.0, 0.0]}), (3543, {'ID': 3543, 'rank': [0.0, 0.0, 1, 0.5]}), (6920, {'ID': 6920, 'rank': [1, 0.5, 0.0, 0.0]}), (7043, {'ID': 7043, 'rank': [1, 0.0, 0.0, 0.0]}), (7044, {'ID': 7044, 'rank': [2, 1.0, 0.0, 0.0]}), (2747, {'ID': 2747, 'rank': [0.0, 0.0, 1, 1.0]}), (7244, {'ID': 7244, 'rank': [1, 0.0, 0.0, 0.0]}), (7248, {'ID': 7248, 'rank': [4, 0.5, 0.0, 0.0]}), (7121, {'ID': 7121, 'rank': [0.0, 0.0, 1, 0.5]})]\n",
            "Edges: [(84, 1428, {'score': 1.0}), (84, 1748, {'score': 1.0}), (1748, 3547, {'score': 0.0}), (1748, 3942, {'score': 1.0}), (1748, 5439, {'score': 1.0}), (127, 1256, {'score': 0.5}), (1256, 741, {'score': 0.5}), (1256, 2839, {'score': 0.5}), (1256, 2974, {'score': 0.0}), (1256, 4151, {'score': 0.0}), (134, 1472, {'score': 0.5}), (134, 7011, {'score': 0.5}), (1472, 134, {'score': 0.5}), (1472, 1939, {'score': 0.5}), (7011, 134, {'score': 1.0}), (7011, 1286, {'score': 1.0}), (7011, 5284, {'score': 1.0}), (159, 1394, {'score': 1.0}), (159, 1509, {'score': 0.0}), (1394, 5668, {'score': 1.0}), (1394, 6276, {'score': 0.5}), (1509, 1632, {'score': 0.0}), (1509, 5803, {'score': 0.0}), (1509, 6224, {'score': 0.5}), (180, 5187, {'score': 0.5}), (180, 5798, {'score': 0.5}), (180, 6885, {'score': 0.5}), (5187, 1509, {'score': 1.0}), (5187, 2475, {'score': 1.0}), (5187, 5116, {'score': 0.5}), (5798, 6743, {'score': 0.0}), (6885, 1523, {'score': 1.0}), (6885, 6743, {'score': 0.5}), (219, 1219, {'score': 1.0}), (219, 1662, {'score': 0.0}), (1662, 1219, {'score': 1.0}), (1662, 1439, {'score': 0.5}), (1662, 2210, {'score': 0.5}), (1662, 5514, {'score': 1.0}), (265, 3096, {'score': 0.5}), (3096, 6885, {'score': 0.0}), (297, 5192, {'score': 1.0}), (5192, 1179, {'score': 1.0}), (5192, 1192, {'score': 0.0}), (5192, 4436, {'score': 0.0}), (311, 2840, {'score': 0.5}), (2840, 84, {'score': 0.0}), (2840, 1347, {'score': 0.5}), (2840, 3547, {'score': 1.0}), (2840, 5856, {'score': 1.0}), (2840, 6468, {'score': 0.5}), (359, 4087, {'score': 0.5}), (4087, 3942, {'score': 0.0}), (448, 6468, {'score': 0.0}), (6468, 802, {'score': 1.0}), (515, 2340, {'score': 0.0}), (515, 4960, {'score': 0.5}), (515, 5933, {'score': 1.0}), (2340, 1582, {'score': 1.0}), (2340, 2613, {'score': 1.0}), (2340, 4960, {'score': 0.0}), (4960, 1582, {'score': 1.0}), (4960, 5182, {'score': 1.0}), (5933, 1582, {'score': 0.5}), (5933, 4960, {'score': 0.0}), (611, 880, {'score': 0.5}), (880, 1782, {'score': 0.5}), (880, 4760, {'score': 1.0}), (880, 4911, {'score': 0.5}), (667, 3668, {'score': 1.0}), (3668, 1286, {'score': 0.0}), (3668, 2416, {'score': 0.0}), (3668, 7233, {'score': 1.0}), (672, 4093, {'score': 0.0}), (4093, 3621, {'score': 1.0}), (675, 1974, {'score': 0.5}), (1974, 939, {'score': 0.5}), (1974, 6318, {'score': 0.5}), (1974, 6901, {'score': 0.5}), (727, 1974, {'score': 0.5}), (727, 2754, {'score': 1.0}), (727, 5179, {'score': 0.5}), (727, 6235, {'score': 0.5}), (727, 6901, {'score': 0.5}), (727, 7233, {'score': 0.5}), (2754, 5224, {'score': 0.5}), (2754, 5893, {'score': 0.0}), (5179, 1974, {'score': 0.5}), (5179, 6947, {'score': 0.5}), (6235, 741, {'score': 1.0}), (6235, 2187, {'score': 0.0}), (6235, 6418, {'score': 1.0}), (6901, 739, {'score': 0.5}), (6901, 3346, {'score': 0.5}), (6901, 5049, {'score': 0.5}), (7233, 1286, {'score': 0.5}), (7233, 4153, {'score': 0.5}), (7233, 5098, {'score': 1.0}), (739, 2568, {'score': 0.5}), (739, 4153, {'score': 1.0}), (2568, 5619, {'score': 0.0}), (741, 847, {'score': 0.5}), (741, 7285, {'score': 0.0}), (847, 2663, {'score': 0.0}), (847, 5663, {'score': 0.5}), (7285, 5391, {'score': 0.5}), (7285, 6460, {'score': 1.0}), (7285, 6978, {'score': 1.0}), (779, 672, {'score': 0.0}), (779, 4243, {'score': 0.0}), (4243, 727, {'score': 0.5}), (4243, 1705, {'score': 0.5}), (4243, 6721, {'score': 0.5}), (802, 1943, {'score': 1.0}), (810, 1490, {'score': 0.5}), (810, 3748, {'score': 1.0}), (1490, 1247, {'score': 1.0}), (1490, 3748, {'score': 0.5}), (3748, 1867, {'score': 0.5}), (3748, 3895, {'score': 0.0}), (825, 1632, {'score': 1.0}), (825, 5044, {'score': 1.0}), (1632, 3199, {'score': 0.5}), (5044, 971, {'score': 1.0}), (5044, 2737, {'score': 1.0}), (5044, 2852, {'score': 1.0}), (5044, 5098, {'score': 1.0}), (5044, 5116, {'score': 0.0}), (5044, 6306, {'score': 0.5}), (2663, 1547, {'score': 0.5}), (2663, 2258, {'score': 0.0}), (2663, 4760, {'score': 0.5}), (5663, 4093, {'score': 1.0}), (5663, 5049, {'score': 0.5}), (5663, 5893, {'score': 0.5}), (1782, 2754, {'score': 1.0}), (1782, 4515, {'score': 0.5}), (1782, 5600, {'score': 0.5}), (4760, 4911, {'score': 0.5}), (4911, 727, {'score': 0.0}), (4911, 779, {'score': 0.5}), (4911, 847, {'score': 0.5}), (4911, 3354, {'score': 0.5}), (916, 2172, {'score': 0.0}), (916, 3019, {'score': 0.5}), (3019, 5032, {'score': 0.0}), (939, 1179, {'score': 0.5}), (939, 4753, {'score': 0.5}), (4753, 1283, {'score': 1.0}), (4753, 1410, {'score': 0.5}), (4753, 4381, {'score': 0.5}), (983, 1248, {'score': 0.0}), (983, 2719, {'score': 1.0}), (2719, 880, {'score': 1.0}), (2719, 2754, {'score': 0.0}), (2719, 4515, {'score': 0.5}), (998, 5044, {'score': 1.0}), (998, 5249, {'score': 0.5}), (5249, 1509, {'score': 0.5}), (5249, 2672, {'score': 0.0}), (5249, 2717, {'score': 0.5}), (1008, 3438, {'score': 0.5}), (1008, 4032, {'score': 1.0}), (1008, 6278, {'score': 1.0}), (4032, 6947, {'score': 0.5}), (6278, 3949, {'score': 0.0}), (6278, 3996, {'score': 0.5}), (6278, 4032, {'score': 0.5}), (1017, 5802, {'score': 1.0}), (5802, 672, {'score': 1.0}), (5802, 4243, {'score': 0.5}), (1192, 1513, {'score': 1.0}), (1192, 2172, {'score': 1.0}), (1192, 4753, {'score': 0.5}), (1208, 1310, {'score': 0.5}), (1208, 5109, {'score': 1.0}), (1208, 6471, {'score': 1.0}), (1310, 4136, {'score': 0.0}), (5109, 2568, {'score': 1.0}), (5109, 3302, {'score': 1.0}), (5109, 3346, {'score': 0.5}), (6471, 1283, {'score': 0.5}), (6471, 4743, {'score': 0.0}), (1247, 4403, {'score': 0.5}), (1247, 5174, {'score': 0.5}), (1247, 5309, {'score': 0.0}), (4403, 5174, {'score': 0.5}), (4403, 5309, {'score': 1.0}), (5174, 1408, {'score': 0.5}), (5309, 1606, {'score': 0.0}), (5309, 5174, {'score': 0.5}), (5309, 5956, {'score': 0.5}), (1253, 4895, {'score': 0.5}), (1253, 5376, {'score': 0.0}), (1253, 6787, {'score': 0.0}), (4895, 2973, {'score': 0.0}), (4895, 3199, {'score': 0.0}), (4895, 3670, {'score': 1.0}), (5376, 2609, {'score': 0.5}), (5376, 2973, {'score': 0.5}), (5376, 6724, {'score': 0.5}), (6787, 1208, {'score': 0.5}), (2839, 847, {'score': 0.5}), (4151, 847, {'score': 0.5}), (4151, 3376, {'score': 0.0}), (4151, 4911, {'score': 1.0}), (1283, 1286, {'score': 0.5}), (1283, 1969, {'score': 0.0}), (1283, 5738, {'score': 1.0}), (1286, 1969, {'score': 0.5}), (1286, 4743, {'score': 1.0}), (1969, 1208, {'score': 1.0}), (1969, 6471, {'score': 1.0}), (1969, 7057, {'score': 0.5}), (1969, 7233, {'score': 1.0}), (5738, 2609, {'score': 0.5}), (4743, 1428, {'score': 1.0}), (4743, 4753, {'score': 0.5}), (4743, 6231, {'score': 0.5}), (4136, 1286, {'score': 0.0}), (1347, 180, {'score': 0.0}), (1347, 3782, {'score': 1.0}), (3782, 916, {'score': 1.0}), (3782, 6095, {'score': 0.5}), (1357, 3110, {'score': 0.5}), (1357, 4743, {'score': 1.0}), (1357, 5230, {'score': 1.0}), (1357, 5893, {'score': 0.0}), (3110, 1718, {'score': 0.5}), (3110, 5925, {'score': 0.5}), (3110, 6235, {'score': 1.0}), (5230, 7011, {'score': 0.0}), (5893, 3051, {'score': 1.0}), (5893, 3354, {'score': 1.0}), (5893, 5803, {'score': 0.5}), (5893, 6022, {'score': 0.5}), (5668, 5118, {'score': 1.0}), (6276, 159, {'score': 1.0}), (6276, 4895, {'score': 0.5}), (1408, 1247, {'score': 1.0}), (1408, 4403, {'score': 1.0}), (1410, 2840, {'score': 0.5}), (1410, 3994, {'score': 0.0}), (3994, 675, {'score': 0.5}), (3994, 4381, {'score': 0.5}), (3994, 5192, {'score': 1.0}), (1439, 219, {'score': 0.5}), (1439, 6370, {'score': 1.0}), (6370, 1219, {'score': 0.5}), (6370, 1662, {'score': 1.0}), (6370, 5514, {'score': 0.0}), (1939, 1472, {'score': 1.0}), (1484, 4260, {'score': 0.0}), (4260, 4151, {'score': 0.5}), (4260, 6118, {'score': 0.0}), (5803, 727, {'score': 0.5}), (5803, 1576, {'score': 1.0}), (5803, 5116, {'score': 0.5}), (5803, 5738, {'score': 0.5}), (5803, 6874, {'score': 0.5}), (6224, 6276, {'score': 0.0}), (1523, 311, {'score': 0.5}), (1523, 4513, {'score': 1.0}), (1547, 3110, {'score': 0.0}), (1547, 4151, {'score': 0.5}), (1569, 983, {'score': 0.5}), (1569, 3657, {'score': 0.5}), (1569, 6460, {'score': 0.5}), (3657, 4243, {'score': 1.0}), (3657, 7003, {'score': 0.5}), (1573, 1490, {'score': 1.0}), (1573, 3895, {'score': 0.5}), (3895, 1490, {'score': 0.5}), (3895, 1867, {'score': 1.0}), (1582, 515, {'score': 0.5}), (1582, 2613, {'score': 0.5}), (1582, 4343, {'score': 1.0}), (2613, 515, {'score': 0.5}), (2613, 4343, {'score': 1.0}), (2613, 5182, {'score': 1.0}), (2613, 5933, {'score': 1.0}), (4343, 515, {'score': 0.5}), (4343, 2340, {'score': 0.5}), (4343, 4960, {'score': 0.0}), (4343, 5933, {'score': 0.0}), (1606, 1408, {'score': 0.5}), (1606, 1490, {'score': 0.5}), (3199, 971, {'score': 0.5}), (1661, 1718, {'score': 0.5}), (1718, 2684, {'score': 0.5}), (1718, 5802, {'score': 0.5}), (2210, 219, {'score': 0.5}), (2210, 2208, {'score': 0.5}), (5514, 1219, {'score': 0.5}), (5514, 1439, {'score': 0.5}), (5514, 2210, {'score': 1.0}), (1705, 1718, {'score': 0.5}), (1705, 4974, {'score': 1.0}), (1705, 5600, {'score': 0.5}), (4974, 779, {'score': 0.5}), (4974, 2492, {'score': 1.0}), (5600, 779, {'score': 1.0}), (1717, 6743, {'score': 1.0}), (6743, 1943, {'score': 1.0}), (6743, 6231, {'score': 1.0}), (6743, 6724, {'score': 0.5}), (2684, 1017, {'score': 0.5}), (2684, 2531, {'score': 1.0}), (2684, 4760, {'score': 1.0}), (2684, 6333, {'score': 0.0}), (3547, 4743, {'score': 0.0}), (3942, 4743, {'score': 0.5}), (4515, 611, {'score': 1.0}), (4515, 3657, {'score': 0.5}), (4515, 4260, {'score': 0.5}), (1789, 4757, {'score': 1.0}), (1789, 5116, {'score': 0.5}), (4757, 2973, {'score': 0.5}), (5116, 1008, {'score': 1.0}), (5116, 4702, {'score': 0.5}), (5116, 5049, {'score': 0.5}), (5116, 6278, {'score': 1.0}), (1860, 265, {'score': 0.5}), (1867, 1490, {'score': 0.5}), (1892, 5658, {'score': 1.0}), (1892, 6721, {'score': 0.5}), (5658, 1248, {'score': 0.0}), (5658, 5925, {'score': 1.0}), (6721, 1547, {'score': 1.0}), (6721, 3376, {'score': 1.0}), (7057, 5788, {'score': 0.5}), (6318, 3024, {'score': 1.0}), (6318, 4381, {'score': 0.5}), (2087, 5893, {'score': 0.5}), (2094, 6724, {'score': 0.5}), (6724, 448, {'score': 1.0}), (6724, 916, {'score': 0.5}), (6724, 3166, {'score': 1.0}), (6724, 4087, {'score': 1.0}), (6724, 5179, {'score': 0.5}), (6724, 5284, {'score': 1.0}), (6724, 6901, {'score': 0.5}), (2133, 5127, {'score': 0.0}), (2133, 6322, {'score': 0.5}), (5127, 611, {'score': 1.0}), (6322, 1017, {'score': 0.5}), (6322, 2684, {'score': 1.0}), (6322, 6978, {'score': 0.0}), (2187, 1892, {'score': 1.0}), (2187, 7285, {'score': 0.5}), (2208, 1662, {'score': 1.0}), (2208, 3728, {'score': 0.5}), (2208, 6370, {'score': 0.5}), (3728, 2210, {'score': 0.5}), (3728, 5514, {'score': 0.5}), (3728, 6370, {'score': 0.0}), (2258, 4644, {'score': 0.5}), (2258, 6931, {'score': 0.5}), (2258, 6978, {'score': 1.0}), (4644, 1256, {'score': 0.5}), (4644, 3695, {'score': 1.0}), (6931, 2187, {'score': 1.0}), (6978, 611, {'score': 0.5}), (6978, 3394, {'score': 0.0}), (6978, 5630, {'score': 1.0}), (6978, 6728, {'score': 0.5}), (2416, 4136, {'score': 0.5}), (2430, 983, {'score': 0.5}), (2430, 1357, {'score': 0.5}), (2430, 1705, {'score': 0.0}), (2475, 5484, {'score': 1.0}), (5484, 5619, {'score': 0.0}), (2492, 1547, {'score': 0.5}), (2531, 779, {'score': 0.0}), (2531, 847, {'score': 0.5}), (5182, 515, {'score': 1.0}), (5182, 2340, {'score': 0.0}), (5182, 5933, {'score': 0.5}), (2672, 1632, {'score': 0.0}), (2672, 3668, {'score': 0.5}), (2672, 6265, {'score': 1.0}), (6265, 3056, {'score': 0.0}), (6265, 3302, {'score': 0.5}), (6265, 4381, {'score': 0.5}), (6265, 5230, {'score': 0.5}), (6333, 3657, {'score': 0.5}), (6333, 4093, {'score': 1.0}), (2715, 4757, {'score': 1.0}), (2737, 2973, {'score': 1.0}), (2973, 2852, {'score': 0.5}), (2797, 2754, {'score': 0.5}), (5856, 2094, {'score': 0.5}), (5856, 2737, {'score': 0.5}), (5856, 3199, {'score': 0.0}), (5856, 5484, {'score': 1.0}), (2852, 1632, {'score': 1.0}), (2852, 1789, {'score': 1.0}), (2852, 6874, {'score': 0.5}), (6874, 2087, {'score': 0.0}), (6874, 3543, {'score': 0.5}), (6874, 5230, {'score': 1.0}), (5032, 1192, {'score': 1.0}), (3024, 1008, {'score': 0.0}), (3024, 4702, {'score': 0.5}), (3024, 5187, {'score': 0.0}), (4702, 6278, {'score': 0.5}), (4702, 7057, {'score': 1.0}), (3051, 7124, {'score': 0.0}), (7124, 2475, {'score': 0.5}), (5925, 983, {'score': 0.5}), (5925, 2258, {'score': 0.0}), (5925, 4442, {'score': 1.0}), (3166, 1008, {'score': 1.0}), (3166, 3024, {'score': 1.0}), (3166, 5705, {'score': 0.5}), (3166, 5788, {'score': 0.5}), (3166, 5803, {'score': 0.5}), (5705, 3445, {'score': 0.0}), (5705, 7057, {'score': 0.0}), (3209, 1357, {'score': 1.0}), (3209, 1782, {'score': 0.5}), (3209, 3657, {'score': 0.5}), (3209, 6721, {'score': 0.5}), (3302, 1008, {'score': 0.5}), (3302, 5784, {'score': 1.0}), (3302, 6593, {'score': 0.5}), (5784, 1253, {'score': 0.0}), (5784, 5619, {'score': 0.0}), (3346, 739, {'score': 1.0}), (3346, 2475, {'score': 0.5}), (3346, 3024, {'score': 0.5}), (3346, 5132, {'score': 0.0}), (3354, 5224, {'score': 0.0}), (3354, 5969, {'score': 1.0}), (5969, 2974, {'score': 0.5}), (5969, 6460, {'score': 0.5}), (3376, 2492, {'score': 0.5}), (3376, 6973, {'score': 1.0}), (6973, 2531, {'score': 0.5}), (6973, 3621, {'score': 0.5}), (3394, 4633, {'score': 1.0}), (3394, 6728, {'score': 0.5}), (4633, 6022, {'score': 0.0}), (3621, 1661, {'score': 1.0}), (3621, 5969, {'score': 1.0}), (7003, 1705, {'score': 0.5}), (7003, 1782, {'score': 0.5}), (7003, 3445, {'score': 0.0}), (7003, 5224, {'score': 0.5}), (3695, 1661, {'score': 0.0}), (3695, 2839, {'score': 1.0}), (3695, 5658, {'score': 1.0}), (3959, 4753, {'score': 0.0}), (4381, 2852, {'score': 0.5}), (3996, 727, {'score': 0.5}), (3996, 7057, {'score': 0.0}), (6947, 3438, {'score': 0.0}), (6947, 3996, {'score': 0.5}), (6947, 6278, {'score': 0.5}), (4234, 1576, {'score': 1.0}), (4234, 2973, {'score': 0.5}), (4234, 4381, {'score': 0.5}), (4234, 4493, {'score': 0.5}), (4493, 2852, {'score': 0.5}), (4493, 3302, {'score': 0.0}), (4493, 5619, {'score': 0.5}), (6118, 6022, {'score': 0.0}), (4436, 3959, {'score': 0.5}), (4436, 6724, {'score': 0.0}), (4442, 1569, {'score': 0.0}), (4442, 2839, {'score': 0.5}), (4458, 3019, {'score': 0.5}), (4458, 3782, {'score': 0.0}), (4464, 6276, {'score': 0.0}), (4502, 6276, {'score': 0.5}), (4523, 1782, {'score': 1.0}), (4523, 7285, {'score': 0.5}), (4577, 4757, {'score': 0.0}), (6022, 1484, {'score': 1.0}), (6022, 6931, {'score': 0.5}), (6231, 4895, {'score': 0.5}), (4773, 4702, {'score': 0.5}), (4850, 7179, {'score': 0.0}), (5039, 1789, {'score': 0.5}), (5039, 5376, {'score': 0.5}), (5039, 5856, {'score': 1.0}), (5098, 159, {'score': 1.0}), (6306, 727, {'score': 1.0}), (6306, 998, {'score': 1.0}), (6306, 3302, {'score': 0.5}), (5049, 2087, {'score': 1.0}), (5049, 4032, {'score': 1.0}), (5049, 5249, {'score': 1.0}), (5049, 5376, {'score': 0.5}), (5118, 1283, {'score': 1.0}), (5118, 2840, {'score': 0.5}), (5118, 6276, {'score': 1.0}), (5254, 7179, {'score': 1.0}), (5284, 53, {'score': 0.5}), (5298, 4087, {'score': 0.0}), (5956, 1247, {'score': 1.0}), (5956, 1490, {'score': 0.5}), (5391, 1661, {'score': 0.5}), (5391, 1782, {'score': 0.5}), (5391, 5802, {'score': 1.0}), (5391, 5893, {'score': 0.5}), (5630, 2663, {'score': 0.5}), (5870, 6029, {'score': 0.0}), (6029, 2187, {'score': 0.5}), (6018, 127, {'score': 1.0}), (6018, 5663, {'score': 0.5}), (6233, 971, {'score': 1.0}), (6233, 5705, {'score': 0.5}), (6418, 1484, {'score': 1.0}), (6418, 2531, {'score': 0.5}), (6335, 3019, {'score': 0.0}), (6335, 5192, {'score': 0.5}), (6920, 825, {'score': 0.5}), (7043, 5630, {'score': 0.0}), (7044, 2747, {'score': 1.0}), (7044, 4850, {'score': 1.0}), (7244, 2416, {'score': 0.0}), (7248, 2609, {'score': 0.5}), (7248, 3051, {'score': 0.5}), (7248, 4773, {'score': 0.5}), (7248, 7121, {'score': 0.5})]\n",
            "\n"
          ]
        }
      ]
    },
    {
      "cell_type": "code",
      "source": [
        "# Sort the list of nxGraphID-nxGraph tuples based on ID (month)\n",
        "train_graph_tuples = sorted( [(graph_id, graph) for graph_id, graph in train_graphs.items()], key=lambda x: x[0] )\n",
        "valid_graph_tuples = sorted( [(graph_id, graph) for graph_id, graph in valid_graphs.items()], key=lambda x: x[0] )\n",
        "\n",
        "# Get a sorted list of nx Graphs\n",
        "train_nxGraph_list = [graph for _, graph in train_graph_tuples]\n",
        "valid_nxGraph_list = [graph for _, graph in valid_graph_tuples]\n",
        "\n",
        "# Extract the sorted graphs and convert them to pytorch Data\n",
        "train_Data_list = [from_networkx(graph) for graph in train_nxGraph_list]\n",
        "valid_Data_list = [from_networkx(graph) for graph in valid_nxGraph_list]"
      ],
      "metadata": {
        "id": "8WKKimMEC9lz"
      },
      "execution_count": null,
      "outputs": []
    },
    {
      "cell_type": "code",
      "source": [
        "test_graph = train_Data_list[-1].clone()\n",
        "\n",
        "mask_size = 300 # mask 300 edges\n",
        "mask = torch.ones(test_graph.score.size(0), dtype=torch.bool)\n",
        "mask[-mask_size:] = False"
      ],
      "metadata": {
        "id": "sfMprET1FXxR"
      },
      "execution_count": null,
      "outputs": []
    },
    {
      "cell_type": "markdown",
      "source": [
        "## Exploration"
      ],
      "metadata": {
        "id": "zF4TBeeLC5QP"
      }
    },
    {
      "cell_type": "code",
      "source": [
        "def plot_degree_distribution(G):\n",
        "    degree_sequence = sorted((d for n, d in G.degree()), reverse=True)\n",
        "    plt.bar(*np.unique(degree_sequence, return_counts=True))\n",
        "    plt.xlabel(\"Degree\")\n",
        "    plt.show()"
      ],
      "metadata": {
        "id": "B1iFTzxCNX8L"
      },
      "execution_count": null,
      "outputs": []
    },
    {
      "cell_type": "code",
      "source": [
        "def print_graph_stats(G):\n",
        "    print(\"Number of nodes:\", G.number_of_nodes())\n",
        "    print(\"Number of edges:\", G.number_of_edges())\n",
        "    print(\"\")\n",
        "\n",
        "    communities = nx.community.louvain_communities(G)\n",
        "    print(\"Number of clusters:\", len(communities))\n",
        "    print(\"Modularity:\", nx.community.modularity(G, communities))\n",
        "    print(\"Average clustering coefficient:\", nx.average_clustering(G))\n",
        "    print(\"\")\n",
        "\n",
        "    print(\"Graph is strongly connected:\", nx.is_strongly_connected(G))\n",
        "    print(\"Graph is weakly connected:\", nx.is_weakly_connected(G))\n",
        "    print(\"Number of strongly connected components:\", nx.number_strongly_connected_components(G))\n",
        "    print(\"Number of weakly connected components:\", nx.number_weakly_connected_components(G))"
      ],
      "metadata": {
        "id": "-DpMgOKQRSoR"
      },
      "execution_count": null,
      "outputs": []
    },
    {
      "cell_type": "markdown",
      "source": [
        "### Analysis of Different Months"
      ],
      "metadata": {
        "id": "wTzrrnfLNVgU"
      }
    },
    {
      "cell_type": "code",
      "source": [
        "# The goal here is to see whether all months have a similar number of players/games\n",
        "\n",
        "num_nodes = []\n",
        "num_edges = []\n",
        "for month in train_graphs:\n",
        "    G = train_graphs[month]\n",
        "    num_nodes.append(G.number_of_nodes())\n",
        "    num_edges.append(G.number_of_edges())\n",
        "\n",
        "plt.figure(1)\n",
        "plt.hist(num_nodes, bins=100)\n",
        "plt.xlabel(\"Number of nodes\")\n",
        "\n",
        "plt.figure(2)\n",
        "plt.hist(num_edges, bins=100)\n",
        "plt.xlabel(\"Number of edges\")\n",
        "\n",
        "plt.show()"
      ],
      "metadata": {
        "colab": {
          "base_uri": "https://localhost:8080/",
          "height": 881
        },
        "id": "47knttXO8oYE",
        "outputId": "1e324584-2d9d-4536-a8a2-ae82fdd99dbf"
      },
      "execution_count": null,
      "outputs": [
        {
          "output_type": "display_data",
          "data": {
            "text/plain": [
              "<Figure size 640x480 with 1 Axes>"
            ],
            "image/png": "[encoded data removed]"
          },
          "metadata": {}
        },
        {
          "output_type": "display_data",
          "data": {
            "text/plain": [
              "<Figure size 640x480 with 1 Axes>"
            ],
            "image/png": "[encoded data removed]"
          },
          "metadata": {}
        }
      ]
    },
    {
      "cell_type": "code",
      "source": [
        "print(\"Month 100 has \" + str(train_graphs[100].number_of_nodes()) + \" nodes and \"\n",
        " + str(train_graphs[100].number_of_edges()) + \" edges.\")"
      ],
      "metadata": {
        "colab": {
          "base_uri": "https://localhost:8080/"
        },
        "id": "i5_XI8zIZFqW",
        "outputId": "c201ea9c-40c4-466e-a285-01cdad6a5fb7"
      },
      "execution_count": null,
      "outputs": [
        {
          "output_type": "stream",
          "name": "stdout",
          "text": [
            "Month 100 has 1231 nodes and 1938 edges.\n"
          ]
        }
      ]
    },
    {
      "cell_type": "code",
      "source": [
        "node_freq = {}\n",
        "for month in train_graphs:\n",
        "    G = train_graphs[month]\n",
        "    for u in G.nodes():\n",
        "        if u not in node_freq:\n",
        "            node_freq[u] = 1\n",
        "        else:\n",
        "            node_freq[u] += 1\n",
        "\n",
        "vals = node_freq.values()\n",
        "plt.hist(vals, bins=100)\n",
        "plt.xlabel(\"Number of monthly appearances\")\n",
        "plt.show()"
      ],
      "metadata": {
        "colab": {
          "base_uri": "https://localhost:8080/"
        },
        "id": "WxOGvHVjC4L2",
        "outputId": "d7ef7f9c-252b-4851-b302-ba5ec1934f6d"
      },
      "execution_count": null,
      "outputs": [
        {
          "output_type": "display_data",
          "data": {
            "text/plain": [
              "<Figure size 640x480 with 1 Axes>"
            ],
            "image/png": "[encoded data removed]"
          },
          "metadata": {}
        }
      ]
    },
    {
      "cell_type": "markdown",
      "source": [
        "### Analysis of the Full Graph"
      ],
      "metadata": {
        "id": "_5F19sIkAR7q"
      }
    },
    {
      "cell_type": "code",
      "source": [
        "# Analysis of the graph that contains all 100 months\n",
        "G_all = train_graphs[1]\n",
        "for i in range(2, 101):\n",
        "    G_all = nx.compose(G_all, train_graphs[i])"
      ],
      "metadata": {
        "id": "Smw8KEEZAZS2"
      },
      "execution_count": null,
      "outputs": []
    },
    {
      "cell_type": "code",
      "source": [
        "print_graph_stats(G_all)"
      ],
      "metadata": {
        "colab": {
          "base_uri": "https://localhost:8080/"
        },
        "id": "twFHQCysCSJl",
        "outputId": "da4a62f3-9249-4e3e-9e1e-6ff8398f5fc9"
      },
      "execution_count": null,
      "outputs": [
        {
          "output_type": "stream",
          "name": "stdout",
          "text": [
            "Number of nodes: 7301\n",
            "Number of edges: 60046\n",
            "\n",
            "Number of clusters: 523\n",
            "Modularity: 0.49972620442525784\n",
            "Average clustering coefficient: 0.10465317728453757\n",
            "\n",
            "Graph is strongly connected: False\n",
            "Graph is weakly connected: False\n",
            "Number of strongly connected components: 1625\n",
            "Number of weakly connected components: 77\n"
          ]
        }
      ]
    },
    {
      "cell_type": "code",
      "source": [
        "plot_degree_distribution(G_all)"
      ],
      "metadata": {
        "colab": {
          "base_uri": "https://localhost:8080/"
        },
        "id": "HopL-XzyQoDu",
        "outputId": "3cdec921-7f2f-43f9-e283-86387dd1b590"
      },
      "execution_count": null,
      "outputs": [
        {
          "output_type": "display_data",
          "data": {
            "text/plain": [
              "<Figure size 640x480 with 1 Axes>"
            ],
            "image/png": "[encoded data removed]"
          },
          "metadata": {}
        }
      ]
    },
    {
      "cell_type": "code",
      "source": [
        "all_comps = nx.weakly_connected_components(G_all)\n",
        "num_nodes = []\n",
        "num_edges = []\n",
        "for G in all_comps:\n",
        "    G = G_all.subgraph(list(G))\n",
        "    num_nodes.append(G.number_of_nodes())\n",
        "    num_edges.append(G.number_of_edges())\n",
        "\n",
        "plt.figure(1)\n",
        "plt.hist(num_nodes, bins=100)\n",
        "plt.xlabel(\"Number of nodes\")\n",
        "plt.figure(2)\n",
        "plt.hist(num_edges, bins=100)\n",
        "plt.xlabel(\"Number of edges\")\n",
        "\n",
        "plt.title(\"Histograms of the different components of the full graph\")\n",
        "\n",
        "plt.show()"
      ],
      "metadata": {
        "colab": {
          "base_uri": "https://localhost:8080/"
        },
        "id": "1zSdf1Eh_mE0",
        "outputId": "a65c7430-c3fb-4a3c-cc71-a9ba2648d7d1"
      },
      "execution_count": null,
      "outputs": [
        {
          "output_type": "display_data",
          "data": {
            "text/plain": [
              "<Figure size 640x480 with 1 Axes>"
            ],
            "image/png": "[encoded data removed]"
          },
          "metadata": {}
        },
        {
          "output_type": "display_data",
          "data": {
            "text/plain": [
              "<Figure size 640x480 with 1 Axes>"
            ],
            "image/png": "[encoded data removed]"
          },
          "metadata": {}
        }
      ]
    },
    {
      "cell_type": "markdown",
      "source": [
        "#### Analysis of Giant Component"
      ],
      "metadata": {
        "id": "pGn2i29eQKQL"
      }
    },
    {
      "cell_type": "code",
      "source": [
        "#Let's further analyze the giant component of G_all\n",
        "largest_cc = max(nx.weakly_connected_components(G_all), key=len)\n",
        "G_cc = nx.induced_subgraph(G_all, list(largest_cc))"
      ],
      "metadata": {
        "id": "tp6MjK6aNLMF"
      },
      "execution_count": null,
      "outputs": []
    },
    {
      "cell_type": "code",
      "source": [
        "print_graph_stats(G_cc)"
      ],
      "metadata": {
        "colab": {
          "base_uri": "https://localhost:8080/"
        },
        "id": "1jcMBcvhRP64",
        "outputId": "c3a9f62a-594b-41ca-9d9a-6a919c9c2603"
      },
      "execution_count": null,
      "outputs": [
        {
          "output_type": "stream",
          "name": "stdout",
          "text": [
            "Number of nodes: 7115\n",
            "Number of edges: 59921\n",
            "\n",
            "Number of clusters: 507\n",
            "Modularity: 0.48659266517807215\n",
            "Average clustering coefficient: 0.10642860351666558\n",
            "\n",
            "Graph is strongly connected: False\n",
            "Graph is weakly connected: True\n",
            "Number of strongly connected components: 1449\n",
            "Number of weakly connected components: 1\n"
          ]
        }
      ]
    },
    {
      "cell_type": "code",
      "source": [
        "plot_degree_distribution(G_cc)"
      ],
      "metadata": {
        "colab": {
          "base_uri": "https://localhost:8080/"
        },
        "id": "lvOgs7n9UOgj",
        "outputId": "a33c3e35-f55b-42b4-e183-e85ed1aed49e"
      },
      "execution_count": null,
      "outputs": [
        {
          "output_type": "display_data",
          "data": {
            "text/plain": [
              "<Figure size 640x480 with 1 Axes>"
            ],
            "image/png": "[encoded data removed]"
          },
          "metadata": {}
        }
      ]
    },
    {
      "cell_type": "markdown",
      "source": [
        "### Link Analysis"
      ],
      "metadata": {
        "id": "kjxS6zzcWMRa"
      }
    },
    {
      "cell_type": "code",
      "source": [
        "scores = []\n",
        "for e in G_all.edges.data():\n",
        "    scores.append(e[2]['score'])\n",
        "plt.hist(scores)\n",
        "plt.show()"
      ],
      "metadata": {
        "colab": {
          "base_uri": "https://localhost:8080/"
        },
        "id": "i23SKS69WQkh",
        "outputId": "ded32da6-2db4-488f-848e-54df379953b4"
      },
      "execution_count": null,
      "outputs": [
        {
          "output_type": "display_data",
          "data": {
            "text/plain": [
              "<Figure size 640x480 with 1 Axes>"
            ],
            "image/png": "[encoded data removed]"
          },
          "metadata": {}
        }
      ]
    },
    {
      "cell_type": "markdown",
      "metadata": {
        "id": "lsNPmZEewYm0"
      },
      "source": [
        "## Baseline 1: Matrix Completion"
      ]
    },
    {
      "cell_type": "code",
      "execution_count": null,
      "metadata": {
        "id": "opSLlYibwYm0"
      },
      "outputs": [],
      "source": [
        "# get data for the last month games\n",
        "month_100 = train_df[train_df['Month #'] == 100]\n",
        "players_100 = np.union1d(month_100['White Player #'].unique(), month_100['Black Player #'].unique())\n",
        "players_100_map = dict(zip(players_100, range(len(players_100))))  # create a special mapping for the last players\n",
        "\n",
        "month_100['White Player #'] = month_100['White Player #'].map(players_100_map)\n",
        "month_100['Black Player #'] = month_100['Black Player #'].map(players_100_map)\n",
        "\n",
        "\n",
        "# initialize array C with dimensions (#players in month_100, #players in month_100)\n",
        "# entry (i,j) is the result of the game where player i played as white against player j\n",
        "C = np.full((len(players_100), len(players_100)), np.nan, dtype=np.float32)\n",
        "\n",
        "# update C array with game results for each row in the dataframe\n",
        "for _, row in month_100.iterrows():\n",
        "    playerA_index = int(row['White Player #'])  \n",
        "    playerB_index = int(row['Black Player #'])  \n",
        "\n",
        "    if np.isnan(C[playerA_index, playerB_index]):  # if no game result has been recorded yet\n",
        "        C[playerA_index, playerB_index] = np.float32(row['Score'])\n",
        "    else:  # if a game result has already been recorded for this month\n",
        "        count = np.count_nonzero(~np.isnan(C[playerA_index, playerB_index]))  # count the number of non-NaN values\n",
        "        total_score = C[playerA_index, playerB_index] * count + np.float32(row['Score'])  # calculate the sum of scores\n",
        "        C[playerA_index, playerB_index] = total_score / (count + 1)  # calculate the average score"
      ]
    },
    {
      "cell_type": "code",
      "execution_count": null,
      "metadata": {
        "id": "_HI_IUNewYm1"
      },
      "outputs": [],
      "source": [
        "# Alternating Least Squares for Completion of Matrices with nan values\n",
        "def als(X, rank=10, max_iter=10):\n",
        "    '''\n",
        "    X: matrix to be completed\n",
        "    rank: rank of the factorizing matrices, W and Z\n",
        "    max_iter: maximum number of iterations\n",
        "    '''\n",
        "\n",
        "    m, n = X.shape\n",
        "    W = np.random.rand(m, rank)\n",
        "    Z = np.random.rand(n, rank)\n",
        "\n",
        "    for _ in range(max_iter):\n",
        "        # fix W, optimize Z\n",
        "        for j in range(n):\n",
        "            non_nan = np.where(~np.isnan(X[:, j]))[0]\n",
        "            Z[j,:] = np.linalg.lstsq(W[non_nan,:], X[non_nan,j], rcond=None)[0]\n",
        "\n",
        "        # fix Z, optimize W\n",
        "        for i in range(m):\n",
        "            non_nan = np.where(~np.isnan(X[i, :]))[0]\n",
        "            W[i,:] = np.linalg.lstsq(Z[non_nan,:], X[i,non_nan], rcond=None)[0]\n",
        "\n",
        "    non_nan = np.where(~np.isnan(X))\n",
        "    L = norm(X[non_nan] - np.dot(W, Z.T)[non_nan])**2\n",
        "    return W, Z, L/2\n",
        "\n",
        "# Example usage\n",
        "# X = np.array([[1, np.nan, 0], [3, 0, 4], [0, 5, np.nan]])\n",
        "# W, Z, L = als(X)\n",
        "# print(\"W:\\n\", W)\n",
        "# print(\"Z:\\n\", Z)\n",
        "# print(\"L(W,Z) = \", L)\n"
      ]
    },
    {
      "cell_type": "code",
      "source": [
        "masked_edges_in_C = [(players_100_map[ test_graph.ID[u].item() ], players_100_map[ test_graph.ID[v].item() ]) for u,v in test_graph.edge_index[:,-mask_size:].T]\n",
        "C_masked = C.copy()\n",
        "\n",
        "for i,j in masked_edges_in_C:\n",
        "  C_masked[i,j] = np.nan # set masked edge scores to nan"
      ],
      "metadata": {
        "id": "_hmQr45KNP_6"
      },
      "execution_count": null,
      "outputs": []
    },
    {
      "cell_type": "code",
      "execution_count": null,
      "metadata": {
        "id": "Tco1ciPPwYm1",
        "colab": {
          "base_uri": "https://localhost:8080/"
        },
        "outputId": "76b84a80-cbcc-4d7a-a598-5375a5fc0b46"
      },
      "outputs": [
        {
          "output_type": "stream",
          "name": "stdout",
          "text": [
            "[[0.  0.  0.  ... 0.  0.  0. ]\n",
            " [0.  0.  0.  ... 0.  0.  0. ]\n",
            " [0.  0.5 0.  ... 0.  0.5 0.5]\n",
            " ...\n",
            " [0.  1.  0.  ... 0.  0.  1. ]\n",
            " [0.  0.5 0.  ... 0.  0.  0.5]\n",
            " [0.  0.5 0.  ... 0.  0.  0. ]]\n"
          ]
        }
      ],
      "source": [
        "# fill in missing values in C\n",
        "C_filled = np.zeros(C.shape, dtype=np.float32)\n",
        "\n",
        "W, Z, L = als(C_masked)\n",
        "C_filled = np.dot(W, Z.T)\n",
        "\n",
        "# digitize the values\n",
        "C_filled[C_filled < 1/3] = 0\n",
        "C_filled[C_filled > 2/3] = 1\n",
        "C_filled[(C_filled >= 1/3) & (C_filled <= 2/3)] = 0.5\n",
        "\n",
        "print(C_filled)"
      ]
    },
    {
      "cell_type": "markdown",
      "source": [
        "Before calculating the accuracy of the predicted scores by the filled matrix, let us make sure that the matrix really approximated C_masked on non-nan entries"
      ],
      "metadata": {
        "id": "AquEjfqWPNJM"
      }
    },
    {
      "cell_type": "code",
      "execution_count": null,
      "metadata": {
        "id": "_IXiKGEywYm2",
        "outputId": "a7b6522d-8be0-4bbe-cbdf-f153c7be06c6",
        "colab": {
          "base_uri": "https://localhost:8080/"
        }
      },
      "outputs": [
        {
          "output_type": "stream",
          "name": "stdout",
          "text": [
            "Squared Frobenius norm of the residual matrix:  1.0702636172709536e-28\n"
          ]
        }
      ],
      "source": [
        "# test the performance of the C_filled by comparing it to the C_masked on non-nan entries\n",
        "print(\"Squared Frobenius norm of the residual matrix: \", L)\n"
      ]
    },
    {
      "cell_type": "markdown",
      "source": [
        "With a decent performance, we can now test the accuracy of our first baseline model"
      ],
      "metadata": {
        "id": "cKdNfbT4QErK"
      }
    },
    {
      "cell_type": "code",
      "source": [
        "predicted_scores = [ C_filled[i,j] for i,j in masked_edges_in_C ]\n",
        "ground_truth = [ C[i,j] for i,j in masked_edges_in_C ]\n",
        "\n",
        "correct_predictions = sum(1 for pred, true in zip(predicted_scores, ground_truth) if pred == true)\n",
        "total_predictions = len(predicted_scores)\n",
        "accuracy = correct_predictions / total_predictions * 100\n",
        "\n",
        "print(\"Accuracy: {:.2f}%\".format(accuracy))"
      ],
      "metadata": {
        "colab": {
          "base_uri": "https://localhost:8080/"
        },
        "id": "CNIiR_3LQEF6",
        "outputId": "61f9a936-041a-4e95-f8ff-2b91177740f2"
      },
      "execution_count": null,
      "outputs": [
        {
          "output_type": "stream",
          "name": "stdout",
          "text": [
            "Accuracy: 29.00%\n"
          ]
        }
      ]
    },
    {
      "cell_type": "markdown",
      "source": [
        "## Baseline 2:  Standard GCN"
      ],
      "metadata": {
        "id": "AY9oBnclTB4S"
      }
    },
    {
      "cell_type": "code",
      "source": [
        "class GCN(torch.nn.Module):\n",
        "    def __init__(self, in_channels=4, out_channels=8):\n",
        "        super(GCN, self).__init__()\n",
        "\n",
        "        #node embedding\n",
        "        self.conv1 = GCNConv(in_channels, 4 * in_channels)\n",
        "        self.conv2 = GCNConv(4 * in_channels, 4 * out_channels)\n",
        "        self.conv3 = GCNConv(4 * out_channels, 4 * out_channels)\n",
        "        self.conv4 = GCNConv(4 * out_channels, 2 * out_channels)\n",
        "\n",
        "        self.fc = torch.nn.Linear(2 * out_channels, out_channels)\n",
        "\n",
        "        self.dropout = torch.nn.Dropout(p=0.1)\n",
        "        \n",
        "        #edge embedding and classification\n",
        "        self.mlp = nn.Sequential(\n",
        "            nn.Linear(2*out_channels, 8 * out_channels),\n",
        "            nn.ELU(),  \n",
        "\n",
        "            nn.Linear(8 * out_channels, 16 * out_channels),\n",
        "            nn.ELU(),\n",
        "\n",
        "            nn.Linear(16 * out_channels, 32 * out_channels),\n",
        "            nn.ELU(),\n",
        "\n",
        "            nn.Linear(32 * out_channels, 16 * out_channels),\n",
        "            nn.ELU(),\n",
        "\n",
        "            nn.Linear(16 * out_channels, 8 * out_channels),\n",
        "            nn.ELU(),\n",
        "\n",
        "            nn.Linear(8 * out_channels, 4 * out_channels),\n",
        "            nn.ELU(),\n",
        "\n",
        "            nn.Linear(4 * out_channels, 3),\n",
        "        )\n",
        "\n",
        "    \n",
        "    def forward(self, data):\n",
        "        node_features, edge_index = data.rank.view(-1,data.rank.shape[1]).to(torch.float), data.edge_index\n",
        "\n",
        "        node_features = self.conv1(node_features, edge_index)\n",
        "        node_features = F.elu(node_features)\n",
        "        node_features = self.dropout(node_features)\n",
        "\n",
        "        node_features = self.conv2(node_features, edge_index)\n",
        "        node_features = F.elu(node_features)\n",
        "        node_features = self.dropout(node_features)\n",
        "\n",
        "        node_features = self.conv3(node_features, edge_index)\n",
        "        node_features = F.elu(node_features)\n",
        "        node_features = self.dropout(node_features)\n",
        "\n",
        "        node_features = self.conv4(node_features, edge_index)\n",
        "        node_features = F.elu(node_features)\n",
        "\n",
        "        node_features = self.fc(node_features)\n",
        "\n",
        "        # Concatenate node embeddings to compute edge features\n",
        "        src, dst = edge_index\n",
        "        edge_features = torch.cat([node_features[src], node_features[dst]], dim=1)\n",
        "        edge_features = self.mlp(edge_features)\n",
        "\n",
        "        return edge_features\n"
      ],
      "metadata": {
        "id": "OM5gUo6bTJKG"
      },
      "execution_count": null,
      "outputs": []
    },
    {
      "cell_type": "markdown",
      "source": [
        "### Training"
      ],
      "metadata": {
        "id": "jxzp4wqMXZKx"
      }
    },
    {
      "cell_type": "code",
      "source": [
        "# function used to classify the scores to classes\n",
        "def send_to_class(tensor):\n",
        "    tensor_mapped = torch.zeros_like(tensor, device=tensor.device) \n",
        "    tensor_mapped[tensor < 1/3] = 0\n",
        "    tensor_mapped[(tensor >= 1/3) & (tensor < 2/3)] = 1\n",
        "    tensor_mapped[tensor >= 2/3] = 2\n",
        "    return tensor_mapped.long()"
      ],
      "metadata": {
        "id": "KG7RP4dweJkn"
      },
      "execution_count": null,
      "outputs": []
    },
    {
      "cell_type": "code",
      "source": [
        "def train_gcn(train_Data_list, valid_Data_list, early_stopping_rounds=10, num_epochs=20):\n",
        "    device = torch.device('cuda' if torch.cuda.is_available() else 'cpu')\n",
        "\n",
        "    # Initialize model and optimizer\n",
        "    model = GCN().to(device)  \n",
        "    optimizer = torch.optim.Adam(model.parameters(), lr=0.005, weight_decay=1e-4)\n",
        "    loss_fn = nn.CrossEntropyLoss()  \n",
        "\n",
        "    # Initialize variables for tracking best validation loss and early stopping\n",
        "    best_valid_loss = float('inf')\n",
        "    early_stopping_counter = 0\n",
        "\n",
        "    # Train for a fixed number of epochs\n",
        "    for epoch in range(num_epochs):\n",
        "        train_loss = 0\n",
        "        valid_loss = 0\n",
        "        train_correct = 0\n",
        "        valid_correct = 0\n",
        "        train_samples = 0\n",
        "        valid_samples = 0\n",
        "\n",
        "        # Train on training dataset\n",
        "        model.train()\n",
        "        for i, graph in enumerate(train_Data_list):\n",
        "            graph = graph.to(device)\n",
        "            optimizer.zero_grad()\n",
        "            out = model(graph)\n",
        "\n",
        "            if i == 99:  # if it's the test graph, use the mask\n",
        "                loss = loss_fn(out[mask, :], send_to_class(graph.score[mask]))  \n",
        "                train_samples += graph.edge_index.size(1) - mask_size\n",
        "            else:\n",
        "                loss = loss_fn(out, send_to_class(graph.score))  \n",
        "                train_samples += graph.edge_index.size(1)\n",
        "\n",
        "            loss.backward()\n",
        "            optimizer.step()\n",
        "            train_loss += loss.item()\n",
        "\n",
        "            # Calculate training accuracy\n",
        "            _, predicted_classes = torch.max(out, 1)\n",
        "            correct = (predicted_classes == send_to_class(graph.score)).sum()\n",
        "            train_correct += correct.item()\n",
        "\n",
        "        # Evaluate on validation dataset\n",
        "        model.eval()\n",
        "        with torch.no_grad():\n",
        "            for graph in valid_Data_list:\n",
        "                graph = graph.to(device)\n",
        "                out = model(graph)\n",
        "\n",
        "                # Calculate validation loss\n",
        "                valid_loss += loss_fn(out, send_to_class(graph.score)).item()  \n",
        "\n",
        "                # Calculate validation accuracy\n",
        "                _, predicted_classes = torch.max(out, 1)\n",
        "                correct = (predicted_classes == send_to_class(graph.score)).sum()\n",
        "                valid_correct += correct.item()\n",
        "                valid_samples += graph.edge_index.size(1)\n",
        "\n",
        "        # Calculate average loss and accuracy for epoch\n",
        "        train_loss /= len(train_Data_list)\n",
        "        valid_loss /= len(valid_Data_list)\n",
        "        train_accuracy = train_correct / train_samples\n",
        "        valid_accuracy = valid_correct / valid_samples\n",
        "\n",
        "        # Print loss and accuracy for epoch\n",
        "        print(f\"Epoch {epoch + 1}/{num_epochs}, Train Loss: {train_loss:.4f}, Train Accuracy: {train_accuracy:.4f}, \"\n",
        "              f\"Valid Accuracy: {valid_accuracy:.4f}\")\n",
        "\n",
        "        # Check if validation loss has improved\n",
        "        if valid_loss < best_valid_loss:\n",
        "            best_valid_loss = valid_loss\n",
        "            early_stopping_counter = 0\n",
        "\n",
        "            # Save the model weights\n",
        "            torch.save(model.state_dict(), 'best_GCN_model_weights.pth')\n",
        "\n",
        "        else:\n",
        "            early_stopping_counter += 1\n",
        "\n",
        "        # Check if early stopping criteria has been met\n",
        "        if early_stopping_counter >= early_stopping_rounds:\n",
        "            print(f\"Validation loss did not improve for {early_stopping_rounds} epochs. Training stopped.\")\n",
        "            break\n",
        "\n",
        "    # Load the best model weights\n",
        "    model.load_state_dict(torch.load('best_GCN_model_weights.pth'))\n",
        "\n",
        "    return model\n"
      ],
      "metadata": {
        "id": "Ff8z3ZtSXb9H"
      },
      "execution_count": null,
      "outputs": []
    },
    {
      "cell_type": "code",
      "source": [
        "trained_gcn = train_gcn(train_Data_list, valid_Data_list)"
      ],
      "metadata": {
        "colab": {
          "base_uri": "https://localhost:8080/"
        },
        "id": "R-jpX9mBYet_",
        "outputId": "6f760e5b-3061-494c-baab-ac1fb87bfd88"
      },
      "execution_count": null,
      "outputs": [
        {
          "output_type": "stream",
          "name": "stdout",
          "text": [
            "Epoch 1/20, Train Loss: 1.0584, Train Accuracy: 0.4535, Valid Accuracy: 0.5293\n",
            "Epoch 2/20, Train Loss: 1.0355, Train Accuracy: 0.4753, Valid Accuracy: 0.5338\n",
            "Epoch 3/20, Train Loss: 1.0323, Train Accuracy: 0.4768, Valid Accuracy: 0.5120\n",
            "Epoch 4/20, Train Loss: 1.0262, Train Accuracy: 0.4793, Valid Accuracy: 0.5379\n",
            "Epoch 5/20, Train Loss: 1.0226, Train Accuracy: 0.4818, Valid Accuracy: 0.5397\n",
            "Epoch 6/20, Train Loss: 1.0187, Train Accuracy: 0.4855, Valid Accuracy: 0.5438\n",
            "Epoch 7/20, Train Loss: 1.0236, Train Accuracy: 0.4783, Valid Accuracy: 0.5243\n",
            "Epoch 8/20, Train Loss: 1.0229, Train Accuracy: 0.4835, Valid Accuracy: 0.5432\n",
            "Epoch 9/20, Train Loss: 1.0191, Train Accuracy: 0.4860, Valid Accuracy: 0.5435\n",
            "Epoch 10/20, Train Loss: 1.0158, Train Accuracy: 0.4864, Valid Accuracy: 0.5413\n",
            "Epoch 11/20, Train Loss: 1.0124, Train Accuracy: 0.4887, Valid Accuracy: 0.5527\n",
            "Epoch 12/20, Train Loss: 1.0159, Train Accuracy: 0.4890, Valid Accuracy: 0.5527\n",
            "Epoch 13/20, Train Loss: 1.0140, Train Accuracy: 0.4888, Valid Accuracy: 0.5539\n",
            "Epoch 14/20, Train Loss: 1.0122, Train Accuracy: 0.4906, Valid Accuracy: 0.5546\n",
            "Epoch 15/20, Train Loss: 1.0082, Train Accuracy: 0.4924, Valid Accuracy: 0.5479\n",
            "Epoch 16/20, Train Loss: 1.0078, Train Accuracy: 0.4928, Valid Accuracy: 0.5508\n",
            "Epoch 17/20, Train Loss: 1.0091, Train Accuracy: 0.4929, Valid Accuracy: 0.5521\n",
            "Epoch 18/20, Train Loss: 1.0066, Train Accuracy: 0.4944, Valid Accuracy: 0.5527\n",
            "Epoch 19/20, Train Loss: 1.0075, Train Accuracy: 0.4931, Valid Accuracy: 0.5590\n",
            "Epoch 20/20, Train Loss: 1.0055, Train Accuracy: 0.4954, Valid Accuracy: 0.5593\n"
          ]
        }
      ]
    },
    {
      "cell_type": "code",
      "source": [
        "device = torch.device('cuda' if torch.cuda.is_available() else 'cpu')\n",
        "\n",
        "trained_gcn.eval()\n",
        "with torch.no_grad():\n",
        "    test_graph = test_graph.to(device)\n",
        "    results = trained_gcn(test_graph)\n",
        "\n",
        "    # Calculate accuracy\n",
        "    _, predicted_classes = torch.max(results, 1)\n",
        "    correct = (predicted_classes[~mask] == send_to_class(test_graph.score[~mask])).sum().item()\n",
        "    accuracy = correct / test_graph.score[~mask].size(0) * 100\n",
        "\n",
        "    print(f'Accuracy: {accuracy:.4} %')\n"
      ],
      "metadata": {
        "colab": {
          "base_uri": "https://localhost:8080/"
        },
        "id": "lkgihrZPYhQQ",
        "outputId": "82f810f1-a1f1-492e-9d95-f0a3ecda2612"
      },
      "execution_count": null,
      "outputs": [
        {
          "output_type": "stream",
          "name": "stdout",
          "text": [
            "Accuracy: 62.33 %\n"
          ]
        }
      ]
    },
    {
      "cell_type": "markdown",
      "metadata": {
        "id": "XJnsSm4cwYm3"
      },
      "source": [
        "## SAGE Encoder-Decoder"
      ]
    },
    {
      "cell_type": "markdown",
      "source": [
        "### Model"
      ],
      "metadata": {
        "id": "FQo4jo927t_a"
      }
    },
    {
      "cell_type": "code",
      "execution_count": null,
      "metadata": {
        "id": "3i6g8hYHwYm3"
      },
      "outputs": [],
      "source": [
        "class BidirectionalSAGE(torch.nn.Module):\n",
        "    def __init__(self, in_channels=4, out_channels=8):\n",
        "        super(BidirectionalSAGE, self).__init__()\n",
        "\n",
        "        #node embedding\n",
        "        self.conv1 = SAGEConv(in_channels, 4 * in_channels)\n",
        "        self.conv2 = SAGEConv(4 * in_channels, 4 * out_channels)\n",
        "        self.conv3 = SAGEConv(4 * out_channels, 4 * out_channels)\n",
        "        self.conv4 = SAGEConv(4 * out_channels, 2 * out_channels)\n",
        "\n",
        "        self.fc = torch.nn.Linear(2 * out_channels, out_channels)\n",
        "\n",
        "        self.dropout = torch.nn.Dropout(p=0.1)\n",
        "        \n",
        "        #edge embedding and classification\n",
        "        self.mlp = nn.Sequential(\n",
        "            nn.Linear(out_channels, 4 * out_channels),\n",
        "            nn.ELU(),  \n",
        "\n",
        "            nn.Linear(4 * out_channels, 8 * out_channels),\n",
        "            nn.ELU(),\n",
        "\n",
        "            nn.Linear(8 * out_channels, 16 * out_channels),\n",
        "            nn.ELU(),\n",
        "\n",
        "            nn.Linear(16 * out_channels, 32 * out_channels),\n",
        "            nn.ELU(),\n",
        "\n",
        "            nn.Linear(32 * out_channels, 16 * out_channels),\n",
        "            nn.ELU(),\n",
        "\n",
        "            nn.Linear(16 * out_channels, 8 * out_channels),\n",
        "            nn.ELU(),\n",
        "\n",
        "            nn.Linear(8 * out_channels, 4 * out_channels),\n",
        "            nn.ELU(),\n",
        "\n",
        "            nn.Linear(4 * out_channels, 1),\n",
        "            nn.Sigmoid()\n",
        "        )\n",
        "\n",
        "    \n",
        "    def forward(self, data, encode=True):\n",
        "        node_features, edge_index = data.rank.view(-1,data.rank.shape[1]).to(torch.float), data.edge_index\n",
        "\n",
        "        if encode:\n",
        "            #encoder\n",
        "\n",
        "            # Forward message passing: source to target\n",
        "            out1 = self.conv1(node_features, edge_index)\n",
        "            out1 = F.elu(out1)\n",
        "            out1 = self.dropout(out1)\n",
        "\n",
        "            out1 = self.conv2(out1, edge_index)\n",
        "            out1 = F.elu(out1)\n",
        "            out1 = self.dropout(out1)\n",
        "\n",
        "            out1 = self.conv3(out1, edge_index)\n",
        "            out1 = F.elu(out1)\n",
        "            out1 = self.dropout(out1)\n",
        "\n",
        "            out1 = self.conv4(out1, edge_index)\n",
        "            out1 = F.elu(out1)\n",
        "\n",
        "            # Reverse the edge direction\n",
        "            edge_index_reverse = torch.flip(edge_index, [0])\n",
        "\n",
        "            # Backward message passing: target to source\n",
        "            out2 = self.conv1(node_features, edge_index)\n",
        "            out2 = F.elu(out2)\n",
        "            out2 = self.dropout(out2)\n",
        "\n",
        "            out2 = self.conv2(out2, edge_index)\n",
        "            out2 = F.elu(out2)\n",
        "            out2 = self.dropout(out2)\n",
        "\n",
        "            out2 = self.conv3(out2, edge_index)\n",
        "            out2 = F.elu(out2)\n",
        "            out2 = self.dropout(out2)\n",
        "\n",
        "            out2 = self.conv4(out2, edge_index)\n",
        "            out2 = F.elu(out2)\n",
        "\n",
        "            # Combine the results\n",
        "            node_features = out1 + out2\n",
        "            node_features = self.fc(node_features)\n",
        "\n",
        "        #decoder\n",
        "        # Concatenate node embeddings to compute edge features\n",
        "        src, dst = edge_index\n",
        "        out_channels = node_features.shape[1]\n",
        "        edge_features = torch.cat([node_features[src][:, :out_channels//2], node_features[dst][:, out_channels//2:]], dim=1)\n",
        "        edge_features = self.mlp(edge_features)\n",
        "\n",
        "        return node_features, edge_features\n"
      ]
    },
    {
      "cell_type": "markdown",
      "source": [
        "### Training"
      ],
      "metadata": {
        "id": "cV0T4RXK46yM"
      }
    },
    {
      "cell_type": "code",
      "source": [
        "# function used to segment values between [0,1] to {0, 0.5, 1}\n",
        "def segment_values(values, eps=0.1):\n",
        "    bins = np.array([0, 1/3-eps, 2/3+eps, 1.1])\n",
        "    values_cpu = values.detach().cpu().numpy()  # Detach gradients and move tensor to CPU\n",
        "    segments = np.digitize(values_cpu, bins)\n",
        "    segments = (segments - 1) * 0.5  # Scale segments to range {0, 0.5, 1}\n",
        "    return torch.from_numpy(segments).to(values.device)  # Move segments back to the original device"
      ],
      "metadata": {
        "id": "m0W0O140eNQM"
      },
      "execution_count": null,
      "outputs": []
    },
    {
      "cell_type": "code",
      "source": [
        "def train_gnn(train_Data_list, valid_Data_list, early_stopping_rounds=10, num_epochs=20):\n",
        "    device = torch.device('cuda' if torch.cuda.is_available() else 'cpu')\n",
        "\n",
        "    # Initialize model and optimizer\n",
        "    model = BidirectionalSAGE().to(device)\n",
        "    optimizer = torch.optim.Adam(model.parameters(), lr=0.01, weight_decay=5e-2)\n",
        "    loss_fn = nn.MSELoss()\n",
        "\n",
        "    # Initialize variables for tracking best validation loss and early stopping\n",
        "    best_valid_loss = float('inf')\n",
        "    early_stopping_counter = 0\n",
        "\n",
        "    # Train for a fixed number of epochs\n",
        "    for epoch in range(num_epochs):\n",
        "        train_loss = 0\n",
        "        valid_loss = 0\n",
        "        train_correct = 0\n",
        "        valid_correct = 0\n",
        "        train_samples = 0\n",
        "        valid_samples = 0\n",
        "\n",
        "        # Train on training dataset\n",
        "        model.train()\n",
        "        for i, graph in enumerate(train_Data_list):\n",
        "            graph = graph.to(device)\n",
        "            optimizer.zero_grad()\n",
        "            _, out = model(graph)\n",
        "\n",
        "            if i == 99: #if its the test graph, use the mask\n",
        "              loss = loss_fn(100*out[mask], 100*graph.score[mask].view(-1, 1).to(torch.float))\n",
        "              train_samples += graph.edge_index.size(1) - mask_size\n",
        "           \n",
        "            else:\n",
        "              loss = loss_fn(100*out, 100*graph.score.view(-1, 1).to(torch.float))\n",
        "              train_samples += graph.edge_index.size(1)\n",
        "            \n",
        "            loss.backward()\n",
        "            optimizer.step()\n",
        "            train_loss += loss.item()\n",
        "            \n",
        "            # Calculate training accuracy\n",
        "            predicted_scores = segment_values(out)\n",
        "            correct = (predicted_scores == graph.score.view(-1, 1)).sum()\n",
        "            train_correct += correct.item()\n",
        "\n",
        "        # Evaluate on validation dataset\n",
        "        model.eval()\n",
        "        with torch.no_grad():\n",
        "            for graph in valid_Data_list:\n",
        "                graph = graph.to(device)\n",
        "                _, out = model(graph)\n",
        "\n",
        "                # Calculate validation loss\n",
        "                valid_loss += loss_fn(out, graph.score.view(-1, 1).to(torch.float)).item()\n",
        "\n",
        "                # Calculate validation accuracy\n",
        "                predicted_scores = segment_values(out)\n",
        "                correct = (predicted_scores == graph.score.view(-1, 1)).sum()\n",
        "                valid_correct += correct.item()\n",
        "                valid_samples += graph.edge_index.size(1)\n",
        "\n",
        "        # Calculate average loss and accuracy for epoch\n",
        "        train_loss /= len(train_Data_list)\n",
        "        valid_loss /= len(valid_Data_list)\n",
        "        train_accuracy = train_correct / train_samples\n",
        "        valid_accuracy = valid_correct / valid_samples\n",
        "\n",
        "        # Print loss and accuracy for epoch\n",
        "        print(f\"Epoch {epoch + 1}/{num_epochs}, Train Loss: {train_loss:.4f}, Train Accuracy: {train_accuracy:.4f}, \"\n",
        "              f\"Valid Accuracy: {valid_accuracy:.4f}\")\n",
        "\n",
        "        # Check if validation loss has improved\n",
        "        if valid_loss < best_valid_loss:\n",
        "            best_valid_loss = valid_loss\n",
        "            early_stopping_counter = 0\n",
        "            \n",
        "            # Save the model weights\n",
        "            torch.save(model.state_dict(), 'best_model_weights.pth')\n",
        "\n",
        "        else:\n",
        "            early_stopping_counter += 1\n",
        "\n",
        "        # Check if early stopping criteria has been met\n",
        "        if early_stopping_counter >= early_stopping_rounds:\n",
        "            print(f\"Validation loss did not improve for {early_stopping_rounds} epochs. Training stopped.\")\n",
        "            break\n",
        "    \n",
        "    # Load the best model weights\n",
        "    model.load_state_dict(torch.load('best_model_weights.pth'))\n",
        "\n",
        "    return model\n"
      ],
      "metadata": {
        "id": "zfPkjNbh0RAR"
      },
      "execution_count": null,
      "outputs": []
    },
    {
      "cell_type": "code",
      "source": [
        "trained_gnn = train_gnn(train_Data_list, valid_Data_list)"
      ],
      "metadata": {
        "id": "iCRI8AVtLJqb",
        "colab": {
          "base_uri": "https://localhost:8080/"
        },
        "outputId": "d6614c03-0539-40d3-ed6d-92ef28a15ac4"
      },
      "execution_count": null,
      "outputs": [
        {
          "output_type": "stream",
          "name": "stdout",
          "text": [
            "Epoch 1/20, Train Loss: 1024.6626, Train Accuracy: 0.6009, Valid Accuracy: 0.8205\n",
            "Epoch 2/20, Train Loss: 437.3184, Train Accuracy: 0.7891, Valid Accuracy: 0.8637\n",
            "Epoch 3/20, Train Loss: 371.9141, Train Accuracy: 0.8156, Valid Accuracy: 0.8700\n",
            "Epoch 4/20, Train Loss: 362.7039, Train Accuracy: 0.8186, Valid Accuracy: 0.8697\n",
            "Epoch 5/20, Train Loss: 359.1158, Train Accuracy: 0.8192, Valid Accuracy: 0.8773\n",
            "Epoch 6/20, Train Loss: 351.8124, Train Accuracy: 0.8235, Valid Accuracy: 0.8754\n",
            "Epoch 7/20, Train Loss: 351.6292, Train Accuracy: 0.8229, Valid Accuracy: 0.8738\n",
            "Epoch 8/20, Train Loss: 347.6505, Train Accuracy: 0.8249, Valid Accuracy: 0.8754\n",
            "Epoch 9/20, Train Loss: 340.5530, Train Accuracy: 0.8288, Valid Accuracy: 0.8773\n",
            "Epoch 10/20, Train Loss: 342.0206, Train Accuracy: 0.8259, Valid Accuracy: 0.8729\n",
            "Epoch 11/20, Train Loss: 344.4028, Train Accuracy: 0.8267, Valid Accuracy: 0.8770\n",
            "Epoch 12/20, Train Loss: 334.2426, Train Accuracy: 0.8316, Valid Accuracy: 0.8792\n",
            "Epoch 13/20, Train Loss: 337.4284, Train Accuracy: 0.8311, Valid Accuracy: 0.8814\n",
            "Epoch 14/20, Train Loss: 326.9920, Train Accuracy: 0.8340, Valid Accuracy: 0.8741\n",
            "Epoch 15/20, Train Loss: 338.4744, Train Accuracy: 0.8301, Valid Accuracy: 0.8785\n",
            "Epoch 16/20, Train Loss: 326.9576, Train Accuracy: 0.8342, Valid Accuracy: 0.8817\n",
            "Epoch 17/20, Train Loss: 328.2120, Train Accuracy: 0.8358, Valid Accuracy: 0.8811\n",
            "Epoch 18/20, Train Loss: 325.1177, Train Accuracy: 0.8359, Valid Accuracy: 0.8817\n",
            "Epoch 19/20, Train Loss: 322.3684, Train Accuracy: 0.8373, Valid Accuracy: 0.8836\n",
            "Epoch 20/20, Train Loss: 329.4497, Train Accuracy: 0.8335, Valid Accuracy: 0.8744\n"
          ]
        }
      ]
    },
    {
      "cell_type": "markdown",
      "source": [
        "### Updating Node Embeddings"
      ],
      "metadata": {
        "id": "65PGzejA4-YW"
      }
    },
    {
      "cell_type": "code",
      "source": [
        "# Update the features for all nodes over all months by the node embedding \n",
        "# learned by the model\n",
        "\n",
        "device = torch.device('cuda' if torch.cuda.is_available() else 'cpu')\n",
        "updated_graphs = []\n",
        "\n",
        "for graph in train_Data_list: #exclude month 100\n",
        "    graph = graph.to(device)\n",
        "\n",
        "    # Forward pass through the GNN model to get updated node features\n",
        "    updated_node_features, _ = trained_gnn(graph)\n",
        "    \n",
        "    # Create a new graph with the updated node features\n",
        "    updated_graph = graph.clone()  # Clone the original graph\n",
        "    updated_graph.rank = updated_node_features  # Assign the updated node features\n",
        "    \n",
        "    # Append the updated graph to the list of updated graphs\n",
        "    updated_graphs.append(updated_graph)\n"
      ],
      "metadata": {
        "id": "CXxZfup0WEec"
      },
      "execution_count": null,
      "outputs": []
    },
    {
      "cell_type": "code",
      "source": [
        "# Store features of a node over all months played in a dictionary with key as node ID\n",
        "node_dict = {}\n",
        "\n",
        "for graph in updated_graphs:\n",
        "    for node_id, node_features in zip(graph.ID, graph.rank):\n",
        "        node_id= node_id.item()\n",
        "        node_features= node_features.view(8,1)\n",
        "        if node_id not in node_dict:\n",
        "            node_dict[node_id] = node_features\n",
        "        else:\n",
        "            # concatinate the features horizontally, with recent features on the right\n",
        "            node_dict[node_id] = torch.cat((node_dict[node_id], node_features), dim=1)"
      ],
      "metadata": {
        "id": "JYoWY5KYdv_d"
      },
      "execution_count": null,
      "outputs": []
    },
    {
      "cell_type": "code",
      "source": [
        "# Moving Average Weights\n",
        "\n",
        "# Simple Moving Average \n",
        "def calculate_sma_weights(n):\n",
        "    weights = torch.ones(n) / n\n",
        "    return weights\n",
        "\n",
        "# Weighted Moving Average \n",
        "def calculate_wma_weights(n):\n",
        "    weights = torch.arange(1, n + 1, dtype=torch.float32)\n",
        "    weights /= torch.sum(weights)\n",
        "    return weights\n",
        "\n",
        "# Exponential Moving Average \n",
        "def calculate_ema_weights(n):\n",
        "    alpha = 2 / (n + 1)\n",
        "    weights = torch.pow(1 - alpha, torch.arange(n - 1, -1, -1))\n",
        "    weights /= torch.sum(weights)\n",
        "    return weights\n",
        "\n",
        "# Non Moving Average: do not account for previous months\n",
        "def calculate_nma_weights(N):\n",
        "    tensor = torch.zeros(N)\n",
        "    tensor[-1] = 1\n",
        "    return tensor\n",
        "\n",
        "nb_months = 2\n",
        "sma_weights = calculate_sma_weights(nb_months)\n",
        "wma_weights = calculate_wma_weights(nb_months)\n",
        "ema_weights = calculate_ema_weights(nb_months)\n",
        "nma_weights = calculate_nma_weights(nb_months)"
      ],
      "metadata": {
        "id": "rhyOdGB-BnYp"
      },
      "execution_count": null,
      "outputs": []
    },
    {
      "cell_type": "code",
      "source": [
        "# Create a separate graph for each aggregation method\n",
        "if test_graph.rank.size(1)==4:\n",
        "  test_graph.rank = test_graph.rank.repeat(1, 2) # node embeddings has size 8\n",
        "\n",
        "test_graph_nma = test_graph.clone()\n",
        "test_graph_sma = test_graph.clone()\n",
        "test_graph_wma = test_graph.clone()\n",
        "test_graph_ema = test_graph.clone()\n",
        "\n",
        "removed_player_indices = list(set( test_graph.edge_index[:, ~mask][0].tolist() + test_graph.edge_index[:, ~mask][1].tolist() ))\n",
        "\n",
        "# aggregate the monthly node embeddings\n",
        "for node_idx in removed_player_indices:\n",
        "      recent_features = node_dict[ test_graph.ID[node_idx].item() ][:, -nb_months:].to('cpu')\n",
        "\n",
        "      test_graph_nma.rank[node_idx,:] = torch.sum(recent_features * nma_weights, dim=1)\n",
        "      test_graph_sma.rank[node_idx,:] = torch.sum(recent_features * sma_weights, dim=1)\n",
        "      test_graph_wma.rank[node_idx,:] = torch.sum(recent_features * wma_weights, dim=1)\n",
        "      test_graph_ema.rank[node_idx,:] = torch.sum(recent_features * ema_weights, dim=1)"
      ],
      "metadata": {
        "id": "Mnhk9E-xPzg8"
      },
      "execution_count": null,
      "outputs": []
    },
    {
      "cell_type": "markdown",
      "source": [
        "### Testing"
      ],
      "metadata": {
        "id": "O2pKhKLw5E3O"
      }
    },
    {
      "cell_type": "markdown",
      "source": [
        "Using the learned node embeddings (encode = False)"
      ],
      "metadata": {
        "id": "BX0YQUmt7IXr"
      }
    },
    {
      "cell_type": "code",
      "source": [
        "testing_graphs = [test_graph_sma, test_graph_wma, test_graph_ema, test_graph_nma]\n",
        "testing_methods = ['Simple Moving Average', 'Weighted Moving Average', 'Exponential Moving Average', 'Non Moving Average']\n",
        "trained_gnn.eval()\n",
        "with torch.no_grad():\n",
        "    for graph, method in zip(testing_graphs, testing_methods):\n",
        "        graph = graph.to(device)\n",
        "        _, results = trained_gnn(graph, encode=False)\n",
        "\n",
        "        # Calculate accuracy\n",
        "        predicted_scores = segment_values(results).to(torch.float).to(device)\n",
        "        correct = (predicted_scores[~mask] == segment_values(graph.score)[~mask].view(-1, 1)).sum().item()\n",
        "        accuracy = correct / graph.score[~mask].size(0) * 100\n",
        "\n",
        "        print(f'Accuracy over {method}: {accuracy:.4} %')\n"
      ],
      "metadata": {
        "colab": {
          "base_uri": "https://localhost:8080/"
        },
        "id": "sVV3neIZm6VH",
        "outputId": "e3fcc2a1-95db-4a5d-ff14-e440d08e19ce"
      },
      "execution_count": null,
      "outputs": [
        {
          "output_type": "stream",
          "name": "stdout",
          "text": [
            "Accuracy over Simple Moving Average: 62.0 %\n",
            "Accuracy over Weighted Moving Average: 76.33 %\n",
            "Accuracy over Exponential Moving Average: 82.33 %\n",
            "Accuracy over Non Moving Average: 91.0 %\n"
          ]
        }
      ]
    }
  ],
  "metadata": {
    "kernelspec": {
      "display_name": "Python 3",
      "name": "python3"
    },
    "language_info": {
      "codemirror_mode": {
        "name": "ipython",
        "version": 3
      },
      "file_extension": ".py",
      "mimetype": "text/x-python",
      "name": "python",
      "nbconvert_exporter": "python",
      "pygments_lexer": "ipython3",
      "version": "3.9.11"
    },
    "orig_nbformat": 4,
    "colab": {
      "provenance": [],
      "collapsed_sections": [
        "zF4TBeeLC5QP",
        "lsNPmZEewYm0"
      ],
      "gpuType": "T4"
    }
  },
  "nbformat": 4,
  "nbformat_minor": 0
}