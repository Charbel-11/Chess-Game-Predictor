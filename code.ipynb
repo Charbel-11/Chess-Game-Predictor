{
  "cells": [
    {
      "cell_type": "code",
      "source": [
        "!pip install torch_geometric\n",
        "! gdown --id 13a_iNnu-ck76mHZ1gW6DP6zCjKZQE_QM\n",
        "! gdown --id 1J_0fYPou7fl2rPPSHjdFZkGiq2DmU-5c\n",
        "! gdown --id 1OrmrjmecPSGRoH5HzdB7NsFXWP8MgtPI\n",
        "! gdown --id 1_zz68sRVfEtDTHTOqI1w0ZhdDrUTHhCo\n",
        "\n",
        "import os\n",
        "import pandas as pd\n",
        "import numpy as np\n",
        "import random\n",
        "import pickle\n",
        "from numpy.linalg import norm\n",
        "from collections import Counter\n",
        "import networkx as nx\n",
        "import torch\n",
        "import torch.nn as nn\n",
        "import torch.nn.functional as F\n",
        "import matplotlib.pyplot as plt\n",
        "from torch_geometric.data import Data\n",
        "from torch_geometric.nn import GCNConv, GATConv, SAGEConv\n",
        "from torch_geometric.utils import from_networkx, to_networkx\n",
        "from IPython.display import clear_output\n",
        "\n",
        "clear_output()"
      ],
      "metadata": {
        "id": "Ep9Lcwj_wwJ8"
      },
      "execution_count": null,
      "outputs": []
    },
    {
      "cell_type": "code",
      "execution_count": null,
      "metadata": {
        "id": "q4ola33-wYmu",
        "colab": {
          "base_uri": "https://localhost:8080/",
          "height": 395
        },
        "outputId": "c3c104b3-1b22-478a-e223-e81c8fc02636"
      },
      "outputs": [
        {
          "output_type": "display_data",
          "data": {
            "text/plain": [
              "   Month #  White Player #  Black Player #  Score\n",
              "0        1              73            1246    0.5\n",
              "1        1              73            5097    0.5\n",
              "2        1              73            5104    0.5\n",
              "3        1              73            7321    1.0\n",
              "4        1              73            7375    0.5"
            ],
            "text/html": [
              "\n",
              "  <div id=\"df-ea9c4527-0a95-4247-ae85-4e88c533b421\">\n",
              "    <div class=\"colab-df-container\">\n",
              "      <div>\n",
              "<style scoped>\n",
              "    .dataframe tbody tr th:only-of-type {\n",
              "        vertical-align: middle;\n",
              "    }\n",
              "\n",
              "    .dataframe tbody tr th {\n",
              "        vertical-align: top;\n",
              "    }\n",
              "\n",
              "    .dataframe thead th {\n",
              "        text-align: right;\n",
              "    }\n",
              "</style>\n",
              "<table border=\"1\" class=\"dataframe\">\n",
              "  <thead>\n",
              "    <tr style=\"text-align: right;\">\n",
              "      <th></th>\n",
              "      <th>Month #</th>\n",
              "      <th>White Player #</th>\n",
              "      <th>Black Player #</th>\n",
              "      <th>Score</th>\n",
              "    </tr>\n",
              "  </thead>\n",
              "  <tbody>\n",
              "    <tr>\n",
              "      <th>0</th>\n",
              "      <td>1</td>\n",
              "      <td>73</td>\n",
              "      <td>1246</td>\n",
              "      <td>0.5</td>\n",
              "    </tr>\n",
              "    <tr>\n",
              "      <th>1</th>\n",
              "      <td>1</td>\n",
              "      <td>73</td>\n",
              "      <td>5097</td>\n",
              "      <td>0.5</td>\n",
              "    </tr>\n",
              "    <tr>\n",
              "      <th>2</th>\n",
              "      <td>1</td>\n",
              "      <td>73</td>\n",
              "      <td>5104</td>\n",
              "      <td>0.5</td>\n",
              "    </tr>\n",
              "    <tr>\n",
              "      <th>3</th>\n",
              "      <td>1</td>\n",
              "      <td>73</td>\n",
              "      <td>7321</td>\n",
              "      <td>1.0</td>\n",
              "    </tr>\n",
              "    <tr>\n",
              "      <th>4</th>\n",
              "      <td>1</td>\n",
              "      <td>73</td>\n",
              "      <td>7375</td>\n",
              "      <td>0.5</td>\n",
              "    </tr>\n",
              "  </tbody>\n",
              "</table>\n",
              "</div>\n",
              "      <button class=\"colab-df-convert\" onclick=\"convertToInteractive('df-ea9c4527-0a95-4247-ae85-4e88c533b421')\"\n",
              "              title=\"Convert this dataframe to an interactive table.\"\n",
              "              style=\"display:none;\">\n",
              "        \n",
              "  <svg xmlns=\"http://www.w3.org/2000/svg\" height=\"24px\"viewBox=\"0 0 24 24\"\n",
              "       width=\"24px\">\n",
              "    <path d=\"M0 0h24v24H0V0z\" fill=\"none\"/>\n",
              "    <path d=\"M18.56 5.44l.94 2.06.94-2.06 2.06-.94-2.06-.94-.94-2.06-.94 2.06-2.06.94zm-11 1L8.5 8.5l.94-2.06 2.06-.94-2.06-.94L8.5 2.5l-.94 2.06-2.06.94zm10 10l.94 2.06.94-2.06 2.06-.94-2.06-.94-.94-2.06-.94 2.06-2.06.94z\"/><path d=\"M17.41 7.96l-1.37-1.37c-.4-.4-.92-.59-1.43-.59-.52 0-1.04.2-1.43.59L10.3 9.45l-7.72 7.72c-.78.78-.78 2.05 0 2.83L4 21.41c.39.39.9.59 1.41.59.51 0 1.02-.2 1.41-.59l7.78-7.78 2.81-2.81c.8-.78.8-2.07 0-2.86zM5.41 20L4 18.59l7.72-7.72 1.47 1.35L5.41 20z\"/>\n",
              "  </svg>\n",
              "      </button>\n",
              "      \n",
              "  <style>\n",
              "    .colab-df-container {\n",
              "      display:flex;\n",
              "      flex-wrap:wrap;\n",
              "      gap: 12px;\n",
              "    }\n",
              "\n",
              "    .colab-df-convert {\n",
              "      background-color: #E8F0FE;\n",
              "      border: none;\n",
              "      border-radius: 50%;\n",
              "      cursor: pointer;\n",
              "      display: none;\n",
              "      fill: #1967D2;\n",
              "      height: 32px;\n",
              "      padding: 0 0 0 0;\n",
              "      width: 32px;\n",
              "    }\n",
              "\n",
              "    .colab-df-convert:hover {\n",
              "      background-color: #E2EBFA;\n",
              "      box-shadow: 0px 1px 2px rgba(60, 64, 67, 0.3), 0px 1px 3px 1px rgba(60, 64, 67, 0.15);\n",
              "      fill: #174EA6;\n",
              "    }\n",
              "\n",
              "    [theme=dark] .colab-df-convert {\n",
              "      background-color: #3B4455;\n",
              "      fill: #D2E3FC;\n",
              "    }\n",
              "\n",
              "    [theme=dark] .colab-df-convert:hover {\n",
              "      background-color: #434B5C;\n",
              "      box-shadow: 0px 1px 3px 1px rgba(0, 0, 0, 0.15);\n",
              "      filter: drop-shadow(0px 1px 2px rgba(0, 0, 0, 0.3));\n",
              "      fill: #FFFFFF;\n",
              "    }\n",
              "  </style>\n",
              "\n",
              "      <script>\n",
              "        const buttonEl =\n",
              "          document.querySelector('#df-ea9c4527-0a95-4247-ae85-4e88c533b421 button.colab-df-convert');\n",
              "        buttonEl.style.display =\n",
              "          google.colab.kernel.accessAllowed ? 'block' : 'none';\n",
              "\n",
              "        async function convertToInteractive(key) {\n",
              "          const element = document.querySelector('#df-ea9c4527-0a95-4247-ae85-4e88c533b421');\n",
              "          const dataTable =\n",
              "            await google.colab.kernel.invokeFunction('convertToInteractive',\n",
              "                                                     [key], {});\n",
              "          if (!dataTable) return;\n",
              "\n",
              "          const docLinkHtml = 'Like what you see? Visit the ' +\n",
              "            '<a target=\"_blank\" href=https://colab.research.google.com/notebooks/data_table.ipynb>data table notebook</a>'\n",
              "            + ' to learn more about interactive tables.';\n",
              "          element.innerHTML = '';\n",
              "          dataTable['output_type'] = 'display_data';\n",
              "          await google.colab.output.renderOutput(dataTable, element);\n",
              "          const docLink = document.createElement('div');\n",
              "          docLink.innerHTML = docLinkHtml;\n",
              "          element.appendChild(docLink);\n",
              "        }\n",
              "      </script>\n",
              "    </div>\n",
              "  </div>\n",
              "  "
            ]
          },
          "metadata": {}
        },
        {
          "output_type": "display_data",
          "data": {
            "text/plain": [
              "   Month #  White Player #  Black Player #  Score\n",
              "0       96               4            2084    0.5\n",
              "1       96              36            4562    0.5\n",
              "2       96              36            4960    0.0\n",
              "3       96              56            2552    0.5\n",
              "4       96             143            2042    1.0"
            ],
            "text/html": [
              "\n",
              "  <div id=\"df-8e4e0dca-5211-4c92-a40a-85e885341a47\">\n",
              "    <div class=\"colab-df-container\">\n",
              "      <div>\n",
              "<style scoped>\n",
              "    .dataframe tbody tr th:only-of-type {\n",
              "        vertical-align: middle;\n",
              "    }\n",
              "\n",
              "    .dataframe tbody tr th {\n",
              "        vertical-align: top;\n",
              "    }\n",
              "\n",
              "    .dataframe thead th {\n",
              "        text-align: right;\n",
              "    }\n",
              "</style>\n",
              "<table border=\"1\" class=\"dataframe\">\n",
              "  <thead>\n",
              "    <tr style=\"text-align: right;\">\n",
              "      <th></th>\n",
              "      <th>Month #</th>\n",
              "      <th>White Player #</th>\n",
              "      <th>Black Player #</th>\n",
              "      <th>Score</th>\n",
              "    </tr>\n",
              "  </thead>\n",
              "  <tbody>\n",
              "    <tr>\n",
              "      <th>0</th>\n",
              "      <td>96</td>\n",
              "      <td>4</td>\n",
              "      <td>2084</td>\n",
              "      <td>0.5</td>\n",
              "    </tr>\n",
              "    <tr>\n",
              "      <th>1</th>\n",
              "      <td>96</td>\n",
              "      <td>36</td>\n",
              "      <td>4562</td>\n",
              "      <td>0.5</td>\n",
              "    </tr>\n",
              "    <tr>\n",
              "      <th>2</th>\n",
              "      <td>96</td>\n",
              "      <td>36</td>\n",
              "      <td>4960</td>\n",
              "      <td>0.0</td>\n",
              "    </tr>\n",
              "    <tr>\n",
              "      <th>3</th>\n",
              "      <td>96</td>\n",
              "      <td>56</td>\n",
              "      <td>2552</td>\n",
              "      <td>0.5</td>\n",
              "    </tr>\n",
              "    <tr>\n",
              "      <th>4</th>\n",
              "      <td>96</td>\n",
              "      <td>143</td>\n",
              "      <td>2042</td>\n",
              "      <td>1.0</td>\n",
              "    </tr>\n",
              "  </tbody>\n",
              "</table>\n",
              "</div>\n",
              "      <button class=\"colab-df-convert\" onclick=\"convertToInteractive('df-8e4e0dca-5211-4c92-a40a-85e885341a47')\"\n",
              "              title=\"Convert this dataframe to an interactive table.\"\n",
              "              style=\"display:none;\">\n",
              "        \n",
              "  <svg xmlns=\"http://www.w3.org/2000/svg\" height=\"24px\"viewBox=\"0 0 24 24\"\n",
              "       width=\"24px\">\n",
              "    <path d=\"M0 0h24v24H0V0z\" fill=\"none\"/>\n",
              "    <path d=\"M18.56 5.44l.94 2.06.94-2.06 2.06-.94-2.06-.94-.94-2.06-.94 2.06-2.06.94zm-11 1L8.5 8.5l.94-2.06 2.06-.94-2.06-.94L8.5 2.5l-.94 2.06-2.06.94zm10 10l.94 2.06.94-2.06 2.06-.94-2.06-.94-.94-2.06-.94 2.06-2.06.94z\"/><path d=\"M17.41 7.96l-1.37-1.37c-.4-.4-.92-.59-1.43-.59-.52 0-1.04.2-1.43.59L10.3 9.45l-7.72 7.72c-.78.78-.78 2.05 0 2.83L4 21.41c.39.39.9.59 1.41.59.51 0 1.02-.2 1.41-.59l7.78-7.78 2.81-2.81c.8-.78.8-2.07 0-2.86zM5.41 20L4 18.59l7.72-7.72 1.47 1.35L5.41 20z\"/>\n",
              "  </svg>\n",
              "      </button>\n",
              "      \n",
              "  <style>\n",
              "    .colab-df-container {\n",
              "      display:flex;\n",
              "      flex-wrap:wrap;\n",
              "      gap: 12px;\n",
              "    }\n",
              "\n",
              "    .colab-df-convert {\n",
              "      background-color: #E8F0FE;\n",
              "      border: none;\n",
              "      border-radius: 50%;\n",
              "      cursor: pointer;\n",
              "      display: none;\n",
              "      fill: #1967D2;\n",
              "      height: 32px;\n",
              "      padding: 0 0 0 0;\n",
              "      width: 32px;\n",
              "    }\n",
              "\n",
              "    .colab-df-convert:hover {\n",
              "      background-color: #E2EBFA;\n",
              "      box-shadow: 0px 1px 2px rgba(60, 64, 67, 0.3), 0px 1px 3px 1px rgba(60, 64, 67, 0.15);\n",
              "      fill: #174EA6;\n",
              "    }\n",
              "\n",
              "    [theme=dark] .colab-df-convert {\n",
              "      background-color: #3B4455;\n",
              "      fill: #D2E3FC;\n",
              "    }\n",
              "\n",
              "    [theme=dark] .colab-df-convert:hover {\n",
              "      background-color: #434B5C;\n",
              "      box-shadow: 0px 1px 3px 1px rgba(0, 0, 0, 0.15);\n",
              "      filter: drop-shadow(0px 1px 2px rgba(0, 0, 0, 0.3));\n",
              "      fill: #FFFFFF;\n",
              "    }\n",
              "  </style>\n",
              "\n",
              "      <script>\n",
              "        const buttonEl =\n",
              "          document.querySelector('#df-8e4e0dca-5211-4c92-a40a-85e885341a47 button.colab-df-convert');\n",
              "        buttonEl.style.display =\n",
              "          google.colab.kernel.accessAllowed ? 'block' : 'none';\n",
              "\n",
              "        async function convertToInteractive(key) {\n",
              "          const element = document.querySelector('#df-8e4e0dca-5211-4c92-a40a-85e885341a47');\n",
              "          const dataTable =\n",
              "            await google.colab.kernel.invokeFunction('convertToInteractive',\n",
              "                                                     [key], {});\n",
              "          if (!dataTable) return;\n",
              "\n",
              "          const docLinkHtml = 'Like what you see? Visit the ' +\n",
              "            '<a target=\"_blank\" href=https://colab.research.google.com/notebooks/data_table.ipynb>data table notebook</a>'\n",
              "            + ' to learn more about interactive tables.';\n",
              "          element.innerHTML = '';\n",
              "          dataTable['output_type'] = 'display_data';\n",
              "          await google.colab.output.renderOutput(dataTable, element);\n",
              "          const docLink = document.createElement('div');\n",
              "          docLink.innerHTML = docLinkHtml;\n",
              "          element.appendChild(docLink);\n",
              "        }\n",
              "      </script>\n",
              "    </div>\n",
              "  </div>\n",
              "  "
            ]
          },
          "metadata": {}
        }
      ],
      "source": [
        "# Read the data\n",
        "train_df = pd.read_csv('training_data.csv')\n",
        "valid_df = pd.read_csv('cross_validation_dataset.csv')\n",
        "\n",
        "display(train_df.head())\n",
        "display(valid_df.head())"
      ]
    },
    {
      "cell_type": "markdown",
      "metadata": {
        "id": "5HJfDzhowYmx"
      },
      "source": [
        "## Pre-processing"
      ]
    },
    {
      "cell_type": "code",
      "source": [
        "players = np.union1d(train_df['White Player #'].unique(), train_df['Black Player #'].unique()) # get all unique player IDs\n",
        "player_map = dict(zip(players, range(len(players))))  # create a mapping from player ID to new index\n",
        "\n",
        "train_df['White Player #'] = train_df['White Player #'].map(player_map)  # map player A IDs to new index\n",
        "train_df['Black Player #'] = train_df['Black Player #'].map(player_map)  # map player B IDs to new index\n",
        "\n",
        "valid_df['White Player #'] = valid_df['White Player #'].map(player_map)  # all players in valid_df are present in train_df\n",
        "valid_df['Black Player #'] = valid_df['Black Player #'].map(player_map)"
      ],
      "metadata": {
        "id": "XlQe49BRRFrK"
      },
      "execution_count": null,
      "outputs": []
    },
    {
      "cell_type": "code",
      "execution_count": null,
      "metadata": {
        "id": "OjeCMEGwwYmz",
        "colab": {
          "base_uri": "https://localhost:8080/",
          "height": 206
        },
        "outputId": "17ea59fe-ea11-407e-d249-f044a26b4166"
      },
      "outputs": [
        {
          "output_type": "execute_result",
          "data": {
            "text/plain": [
              "  Month # Player #                                  Feature_Vector\n",
              "0       1       61                 [5, 0.6, 3, 0.3333333333333333]\n",
              "1       1       75  [3, 0.8333333333333334, 3, 0.6666666666666666]\n",
              "2       1      130                              [1, 0.0, 0.0, 0.0]\n",
              "3       1      134                                [1, 1.0, 1, 0.5]\n",
              "4       1      159                              [1, 1.0, 0.0, 0.0]"
            ],
            "text/html": [
              "\n",
              "  <div id=\"df-3158aab8-17c9-42a2-8d8c-f69a838ab98c\">\n",
              "    <div class=\"colab-df-container\">\n",
              "      <div>\n",
              "<style scoped>\n",
              "    .dataframe tbody tr th:only-of-type {\n",
              "        vertical-align: middle;\n",
              "    }\n",
              "\n",
              "    .dataframe tbody tr th {\n",
              "        vertical-align: top;\n",
              "    }\n",
              "\n",
              "    .dataframe thead th {\n",
              "        text-align: right;\n",
              "    }\n",
              "</style>\n",
              "<table border=\"1\" class=\"dataframe\">\n",
              "  <thead>\n",
              "    <tr style=\"text-align: right;\">\n",
              "      <th></th>\n",
              "      <th>Month #</th>\n",
              "      <th>Player #</th>\n",
              "      <th>Feature_Vector</th>\n",
              "    </tr>\n",
              "  </thead>\n",
              "  <tbody>\n",
              "    <tr>\n",
              "      <th>0</th>\n",
              "      <td>1</td>\n",
              "      <td>61</td>\n",
              "      <td>[5, 0.6, 3, 0.3333333333333333]</td>\n",
              "    </tr>\n",
              "    <tr>\n",
              "      <th>1</th>\n",
              "      <td>1</td>\n",
              "      <td>75</td>\n",
              "      <td>[3, 0.8333333333333334, 3, 0.6666666666666666]</td>\n",
              "    </tr>\n",
              "    <tr>\n",
              "      <th>2</th>\n",
              "      <td>1</td>\n",
              "      <td>130</td>\n",
              "      <td>[1, 0.0, 0.0, 0.0]</td>\n",
              "    </tr>\n",
              "    <tr>\n",
              "      <th>3</th>\n",
              "      <td>1</td>\n",
              "      <td>134</td>\n",
              "      <td>[1, 1.0, 1, 0.5]</td>\n",
              "    </tr>\n",
              "    <tr>\n",
              "      <th>4</th>\n",
              "      <td>1</td>\n",
              "      <td>159</td>\n",
              "      <td>[1, 1.0, 0.0, 0.0]</td>\n",
              "    </tr>\n",
              "  </tbody>\n",
              "</table>\n",
              "</div>\n",
              "      <button class=\"colab-df-convert\" onclick=\"convertToInteractive('df-3158aab8-17c9-42a2-8d8c-f69a838ab98c')\"\n",
              "              title=\"Convert this dataframe to an interactive table.\"\n",
              "              style=\"display:none;\">\n",
              "        \n",
              "  <svg xmlns=\"http://www.w3.org/2000/svg\" height=\"24px\"viewBox=\"0 0 24 24\"\n",
              "       width=\"24px\">\n",
              "    <path d=\"M0 0h24v24H0V0z\" fill=\"none\"/>\n",
              "    <path d=\"M18.56 5.44l.94 2.06.94-2.06 2.06-.94-2.06-.94-.94-2.06-.94 2.06-2.06.94zm-11 1L8.5 8.5l.94-2.06 2.06-.94-2.06-.94L8.5 2.5l-.94 2.06-2.06.94zm10 10l.94 2.06.94-2.06 2.06-.94-2.06-.94-.94-2.06-.94 2.06-2.06.94z\"/><path d=\"M17.41 7.96l-1.37-1.37c-.4-.4-.92-.59-1.43-.59-.52 0-1.04.2-1.43.59L10.3 9.45l-7.72 7.72c-.78.78-.78 2.05 0 2.83L4 21.41c.39.39.9.59 1.41.59.51 0 1.02-.2 1.41-.59l7.78-7.78 2.81-2.81c.8-.78.8-2.07 0-2.86zM5.41 20L4 18.59l7.72-7.72 1.47 1.35L5.41 20z\"/>\n",
              "  </svg>\n",
              "      </button>\n",
              "      \n",
              "  <style>\n",
              "    .colab-df-container {\n",
              "      display:flex;\n",
              "      flex-wrap:wrap;\n",
              "      gap: 12px;\n",
              "    }\n",
              "\n",
              "    .colab-df-convert {\n",
              "      background-color: #E8F0FE;\n",
              "      border: none;\n",
              "      border-radius: 50%;\n",
              "      cursor: pointer;\n",
              "      display: none;\n",
              "      fill: #1967D2;\n",
              "      height: 32px;\n",
              "      padding: 0 0 0 0;\n",
              "      width: 32px;\n",
              "    }\n",
              "\n",
              "    .colab-df-convert:hover {\n",
              "      background-color: #E2EBFA;\n",
              "      box-shadow: 0px 1px 2px rgba(60, 64, 67, 0.3), 0px 1px 3px 1px rgba(60, 64, 67, 0.15);\n",
              "      fill: #174EA6;\n",
              "    }\n",
              "\n",
              "    [theme=dark] .colab-df-convert {\n",
              "      background-color: #3B4455;\n",
              "      fill: #D2E3FC;\n",
              "    }\n",
              "\n",
              "    [theme=dark] .colab-df-convert:hover {\n",
              "      background-color: #434B5C;\n",
              "      box-shadow: 0px 1px 3px 1px rgba(0, 0, 0, 0.15);\n",
              "      filter: drop-shadow(0px 1px 2px rgba(0, 0, 0, 0.3));\n",
              "      fill: #FFFFFF;\n",
              "    }\n",
              "  </style>\n",
              "\n",
              "      <script>\n",
              "        const buttonEl =\n",
              "          document.querySelector('#df-3158aab8-17c9-42a2-8d8c-f69a838ab98c button.colab-df-convert');\n",
              "        buttonEl.style.display =\n",
              "          google.colab.kernel.accessAllowed ? 'block' : 'none';\n",
              "\n",
              "        async function convertToInteractive(key) {\n",
              "          const element = document.querySelector('#df-3158aab8-17c9-42a2-8d8c-f69a838ab98c');\n",
              "          const dataTable =\n",
              "            await google.colab.kernel.invokeFunction('convertToInteractive',\n",
              "                                                     [key], {});\n",
              "          if (!dataTable) return;\n",
              "\n",
              "          const docLinkHtml = 'Like what you see? Visit the ' +\n",
              "            '<a target=\"_blank\" href=https://colab.research.google.com/notebooks/data_table.ipynb>data table notebook</a>'\n",
              "            + ' to learn more about interactive tables.';\n",
              "          element.innerHTML = '';\n",
              "          dataTable['output_type'] = 'display_data';\n",
              "          await google.colab.output.renderOutput(dataTable, element);\n",
              "          const docLink = document.createElement('div');\n",
              "          docLink.innerHTML = docLinkHtml;\n",
              "          element.appendChild(docLink);\n",
              "        }\n",
              "      </script>\n",
              "    </div>\n",
              "  </div>\n",
              "  "
            ]
          },
          "metadata": {},
          "execution_count": 4
        }
      ],
      "source": [
        "# For each month and each player, create a feature\n",
        "# list [# games played as white, mean score for white games, #...black, ...black games]\n",
        "\n",
        "def PlayerData(dataFrame):\n",
        "    PlayerData = pd.DataFrame(columns=['Month #', 'Player #', 'Feature_Vector'])\n",
        "\n",
        "    # Grouping the data by month and player separately\n",
        "    grouped_white = dataFrame.groupby(['Month #', 'White Player #'])\n",
        "    grouped_black = dataFrame.groupby(['Month #', 'Black Player #'])\n",
        "\n",
        "    # Iterating over the groups\n",
        "    for name_white, group_white in grouped_white:\n",
        "        month, white_player = name_white\n",
        "\n",
        "        # Computing feature vectors for white player\n",
        "        white_games_count = len(group_white)\n",
        "        white_avg_score = group_white['Score'].mean()\n",
        "\n",
        "        # Checking if the white player also played as black in the same month\n",
        "        if (month, white_player) in grouped_black.groups:\n",
        "            group_black = grouped_black.get_group((month, white_player))\n",
        "            black_games_count = len(group_black)\n",
        "            black_avg_score = group_black['Score'].mean()\n",
        "        else:\n",
        "            black_games_count = 0.0\n",
        "            black_avg_score = 0.0\n",
        "\n",
        "        # Creating the feature vector\n",
        "        feature_vector = [white_games_count, white_avg_score, black_games_count, black_avg_score]\n",
        "\n",
        "        # Appending the row to PlayerData dataframe\n",
        "        PlayerData = pd.concat([PlayerData,\n",
        "                                pd.DataFrame({'Month #': [month],\n",
        "                                              'Player #': [white_player],\n",
        "                                              'Feature_Vector': [feature_vector]})],\n",
        "                              ignore_index=True)\n",
        "\n",
        "    # Handling players who played as black but not white\n",
        "    for name_black, group_black in grouped_black:\n",
        "        month, black_player = name_black\n",
        "\n",
        "        # Checking if the black player did not play as white in the same month\n",
        "        if (month, black_player) not in grouped_white.groups:\n",
        "            black_games_count = len(group_black)\n",
        "            black_avg_score = group_black['Score'].mean()\n",
        "\n",
        "            # Creating the feature vector\n",
        "            feature_vector = [0.0, 0.0, black_games_count, black_avg_score]\n",
        "\n",
        "            # Appending the row to PlayerData dataframe\n",
        "            PlayerData = pd.concat([PlayerData,\n",
        "                                    pd.DataFrame({'Month #': [month],\n",
        "                                                  'Player #': [black_player],\n",
        "                                                  'Feature_Vector': [feature_vector]})],\n",
        "                                  ignore_index=True)\n",
        "    return PlayerData\n",
        "\n",
        "train_PD = PlayerData(train_df)\n",
        "valid_PD = PlayerData(valid_df)\n",
        "\n",
        "train_PD.head()"
      ]
    },
    {
      "cell_type": "code",
      "source": [
        "# average the scores for games with same players (preserving White vs Black)\n",
        "train_df = train_df.groupby(['Month #', \"White Player #\", \"Black Player #\"]).mean().reset_index()\n",
        "valid_df = valid_df.groupby(['Month #', \"White Player #\", \"Black Player #\"]).mean().reset_index()\n",
        "\n",
        "train_df.head()"
      ],
      "metadata": {
        "id": "qvGD9jzuRJ7q",
        "colab": {
          "base_uri": "https://localhost:8080/",
          "height": 206
        },
        "outputId": "04027b10-b0e5-4ad3-f656-4bc1de7c3e4e"
      },
      "execution_count": null,
      "outputs": [
        {
          "output_type": "execute_result",
          "data": {
            "text/plain": [
              "   Month #  White Player #  Black Player #  Score\n",
              "0        1              61            1066    0.5\n",
              "1        1              61            4303    0.5\n",
              "2        1              61            4308    0.5\n",
              "3        1              61            6195    1.0\n",
              "4        1              61            6243    0.5"
            ],
            "text/html": [
              "\n",
              "  <div id=\"df-0f787e50-fdd8-4f99-bcc3-156a04fbd91e\">\n",
              "    <div class=\"colab-df-container\">\n",
              "      <div>\n",
              "<style scoped>\n",
              "    .dataframe tbody tr th:only-of-type {\n",
              "        vertical-align: middle;\n",
              "    }\n",
              "\n",
              "    .dataframe tbody tr th {\n",
              "        vertical-align: top;\n",
              "    }\n",
              "\n",
              "    .dataframe thead th {\n",
              "        text-align: right;\n",
              "    }\n",
              "</style>\n",
              "<table border=\"1\" class=\"dataframe\">\n",
              "  <thead>\n",
              "    <tr style=\"text-align: right;\">\n",
              "      <th></th>\n",
              "      <th>Month #</th>\n",
              "      <th>White Player #</th>\n",
              "      <th>Black Player #</th>\n",
              "      <th>Score</th>\n",
              "    </tr>\n",
              "  </thead>\n",
              "  <tbody>\n",
              "    <tr>\n",
              "      <th>0</th>\n",
              "      <td>1</td>\n",
              "      <td>61</td>\n",
              "      <td>1066</td>\n",
              "      <td>0.5</td>\n",
              "    </tr>\n",
              "    <tr>\n",
              "      <th>1</th>\n",
              "      <td>1</td>\n",
              "      <td>61</td>\n",
              "      <td>4303</td>\n",
              "      <td>0.5</td>\n",
              "    </tr>\n",
              "    <tr>\n",
              "      <th>2</th>\n",
              "      <td>1</td>\n",
              "      <td>61</td>\n",
              "      <td>4308</td>\n",
              "      <td>0.5</td>\n",
              "    </tr>\n",
              "    <tr>\n",
              "      <th>3</th>\n",
              "      <td>1</td>\n",
              "      <td>61</td>\n",
              "      <td>6195</td>\n",
              "      <td>1.0</td>\n",
              "    </tr>\n",
              "    <tr>\n",
              "      <th>4</th>\n",
              "      <td>1</td>\n",
              "      <td>61</td>\n",
              "      <td>6243</td>\n",
              "      <td>0.5</td>\n",
              "    </tr>\n",
              "  </tbody>\n",
              "</table>\n",
              "</div>\n",
              "      <button class=\"colab-df-convert\" onclick=\"convertToInteractive('df-0f787e50-fdd8-4f99-bcc3-156a04fbd91e')\"\n",
              "              title=\"Convert this dataframe to an interactive table.\"\n",
              "              style=\"display:none;\">\n",
              "        \n",
              "  <svg xmlns=\"http://www.w3.org/2000/svg\" height=\"24px\"viewBox=\"0 0 24 24\"\n",
              "       width=\"24px\">\n",
              "    <path d=\"M0 0h24v24H0V0z\" fill=\"none\"/>\n",
              "    <path d=\"M18.56 5.44l.94 2.06.94-2.06 2.06-.94-2.06-.94-.94-2.06-.94 2.06-2.06.94zm-11 1L8.5 8.5l.94-2.06 2.06-.94-2.06-.94L8.5 2.5l-.94 2.06-2.06.94zm10 10l.94 2.06.94-2.06 2.06-.94-2.06-.94-.94-2.06-.94 2.06-2.06.94z\"/><path d=\"M17.41 7.96l-1.37-1.37c-.4-.4-.92-.59-1.43-.59-.52 0-1.04.2-1.43.59L10.3 9.45l-7.72 7.72c-.78.78-.78 2.05 0 2.83L4 21.41c.39.39.9.59 1.41.59.51 0 1.02-.2 1.41-.59l7.78-7.78 2.81-2.81c.8-.78.8-2.07 0-2.86zM5.41 20L4 18.59l7.72-7.72 1.47 1.35L5.41 20z\"/>\n",
              "  </svg>\n",
              "      </button>\n",
              "      \n",
              "  <style>\n",
              "    .colab-df-container {\n",
              "      display:flex;\n",
              "      flex-wrap:wrap;\n",
              "      gap: 12px;\n",
              "    }\n",
              "\n",
              "    .colab-df-convert {\n",
              "      background-color: #E8F0FE;\n",
              "      border: none;\n",
              "      border-radius: 50%;\n",
              "      cursor: pointer;\n",
              "      display: none;\n",
              "      fill: #1967D2;\n",
              "      height: 32px;\n",
              "      padding: 0 0 0 0;\n",
              "      width: 32px;\n",
              "    }\n",
              "\n",
              "    .colab-df-convert:hover {\n",
              "      background-color: #E2EBFA;\n",
              "      box-shadow: 0px 1px 2px rgba(60, 64, 67, 0.3), 0px 1px 3px 1px rgba(60, 64, 67, 0.15);\n",
              "      fill: #174EA6;\n",
              "    }\n",
              "\n",
              "    [theme=dark] .colab-df-convert {\n",
              "      background-color: #3B4455;\n",
              "      fill: #D2E3FC;\n",
              "    }\n",
              "\n",
              "    [theme=dark] .colab-df-convert:hover {\n",
              "      background-color: #434B5C;\n",
              "      box-shadow: 0px 1px 3px 1px rgba(0, 0, 0, 0.15);\n",
              "      filter: drop-shadow(0px 1px 2px rgba(0, 0, 0, 0.3));\n",
              "      fill: #FFFFFF;\n",
              "    }\n",
              "  </style>\n",
              "\n",
              "      <script>\n",
              "        const buttonEl =\n",
              "          document.querySelector('#df-0f787e50-fdd8-4f99-bcc3-156a04fbd91e button.colab-df-convert');\n",
              "        buttonEl.style.display =\n",
              "          google.colab.kernel.accessAllowed ? 'block' : 'none';\n",
              "\n",
              "        async function convertToInteractive(key) {\n",
              "          const element = document.querySelector('#df-0f787e50-fdd8-4f99-bcc3-156a04fbd91e');\n",
              "          const dataTable =\n",
              "            await google.colab.kernel.invokeFunction('convertToInteractive',\n",
              "                                                     [key], {});\n",
              "          if (!dataTable) return;\n",
              "\n",
              "          const docLinkHtml = 'Like what you see? Visit the ' +\n",
              "            '<a target=\"_blank\" href=https://colab.research.google.com/notebooks/data_table.ipynb>data table notebook</a>'\n",
              "            + ' to learn more about interactive tables.';\n",
              "          element.innerHTML = '';\n",
              "          dataTable['output_type'] = 'display_data';\n",
              "          await google.colab.output.renderOutput(dataTable, element);\n",
              "          const docLink = document.createElement('div');\n",
              "          docLink.innerHTML = docLinkHtml;\n",
              "          element.appendChild(docLink);\n",
              "        }\n",
              "      </script>\n",
              "    </div>\n",
              "  </div>\n",
              "  "
            ]
          },
          "metadata": {},
          "execution_count": 5
        }
      ]
    },
    {
      "cell_type": "code",
      "source": [
        "#Create a dictionary with months as keys and a directed nx graph representing the games played\n",
        "#Direction of edge is:  white player --> black player with the mean score as weight\n",
        "#Nodes are players with attributes: the PlayerData vector\n",
        "\n",
        "def Create_Graph_Dict(dataFrame, PlayerData):\n",
        "    # Group the dataframe by month\n",
        "    grouped_df = dataFrame.groupby(\"Month #\")\n",
        "\n",
        "    # Iterate over each month and create a networkx graph\n",
        "    graphs = {}\n",
        "    for month, month_df in grouped_df:\n",
        "        # Create an empty directed graph for the month\n",
        "        graph = nx.DiGraph()\n",
        "\n",
        "        # Iterate over the rows of the month dataframe\n",
        "        for index, row in month_df.iterrows():\n",
        "            white_player = int(row[\"White Player #\"])\n",
        "            black_player = int(row[\"Black Player #\"])\n",
        "            score = row[\"Score\"]\n",
        "\n",
        "            # Add nodes for the white and black players with their IDs as node attributes\n",
        "            graph.add_node(white_player, ID=white_player, rank=PlayerData.loc[(PlayerData['Month #'] == month) & (PlayerData['Player #'] == white_player), 'Feature_Vector'].values[0])\n",
        "            graph.add_node(black_player, ID=black_player, rank=PlayerData.loc[(PlayerData['Month #'] == month) & (PlayerData['Player #'] == black_player), 'Feature_Vector'].values[0])\n",
        "\n",
        "            # Add an edge from the white player to the black player with the score as the edge attribute\n",
        "            graph.add_edge(white_player, black_player, score=score)\n",
        "\n",
        "        # Add the graph for the month to the dictionary\n",
        "        graphs[month] = graph\n",
        "\n",
        "    return graphs"
      ],
      "metadata": {
        "id": "3L7vRfQC0Kap"
      },
      "execution_count": null,
      "outputs": []
    },
    {
      "cell_type": "code",
      "source": [
        "# Check if the graphs had been created\n",
        "train_file_path = \"train_dictionary.pickle\"\n",
        "valid_file_path = \"valid_dictionary.pickle\"\n",
        "\n",
        "if os.path.exists(train_file_path):\n",
        "    with open(train_file_path, \"rb\") as file:\n",
        "        train_graphs = pickle.load(file)\n",
        "else:\n",
        "    train_graphs = Create_Graph_Dict(train_df, train_PD)\n",
        "    with open(train_file_path, \"wb\") as file:\n",
        "        pickle.dump(train_graphs, file)\n",
        "\n",
        "if os.path.exists(valid_file_path):\n",
        "    with open(valid_file_path, \"rb\") as file:\n",
        "        valid_graphs = pickle.load(file)\n",
        "else:\n",
        "    valid_graphs = Create_Graph_Dict(valid_df, valid_PD)\n",
        "\n",
        "    with open(valid_file_path, \"wb\") as file:\n",
        "        pickle.dump(valid_graphs, file)\n"
      ],
      "metadata": {
        "id": "kYCW_K7bixJE"
      },
      "execution_count": null,
      "outputs": []
    },
    {
      "cell_type": "code",
      "source": [
        "# Example: Print the nodes and edges for some random months\n",
        "random_months = random.sample(range(1, 101), 3)\n",
        "for month in random_months:\n",
        "    print(f\"Month: {month}\")\n",
        "    print(\"Nodes:\", train_graphs[month].nodes(data=True))\n",
        "    print(\"Edges:\", train_graphs[month].edges(data=True))\n",
        "    print()"
      ],
      "metadata": {
        "id": "griPIf-X0TDC"
      },
      "execution_count": null,
      "outputs": []
    },
    {
      "cell_type": "code",
      "source": [
        "# Sort the list of nxGraphID-nxGraph tuples based on ID (month)\n",
        "train_graph_tuples = sorted( [(graph_id, graph) for graph_id, graph in train_graphs.items()], key=lambda x: x[0] )\n",
        "valid_graph_tuples = sorted( [(graph_id, graph) for graph_id, graph in valid_graphs.items()], key=lambda x: x[0] )\n",
        "\n",
        "# Get a sorted list of nx Graphs\n",
        "train_nxGraph_list = [graph for _, graph in train_graph_tuples]\n",
        "valid_nxGraph_list = [graph for _, graph in valid_graph_tuples]\n",
        "\n",
        "# Extract the sorted graphs and convert them to pytorch Data\n",
        "train_Data_list = [from_networkx(graph) for graph in train_nxGraph_list]\n",
        "valid_Data_list = [from_networkx(graph) for graph in valid_nxGraph_list]"
      ],
      "metadata": {
        "id": "8WKKimMEC9lz"
      },
      "execution_count": null,
      "outputs": []
    },
    {
      "cell_type": "code",
      "source": [
        "test_graph = train_Data_list[-1].clone()\n",
        "\n",
        "mask_size = 300 # mask 300 edges\n",
        "mask = torch.ones(test_graph.score.size(0), dtype=torch.bool)\n",
        "mask[-mask_size:] = False"
      ],
      "metadata": {
        "id": "sfMprET1FXxR"
      },
      "execution_count": null,
      "outputs": []
    },
    {
      "cell_type": "markdown",
      "source": [
        "## Exploration"
      ],
      "metadata": {
        "id": "zF4TBeeLC5QP"
      }
    },
    {
      "cell_type": "code",
      "source": [
        "def plot_degree_distribution(G):\n",
        "    degree_sequence = sorted((d for n, d in G.degree()), reverse=True)\n",
        "    plt.bar(*np.unique(degree_sequence, return_counts=True))\n",
        "    plt.xlabel(\"Degree\")\n",
        "    plt.show()"
      ],
      "metadata": {
        "id": "B1iFTzxCNX8L"
      },
      "execution_count": null,
      "outputs": []
    },
    {
      "cell_type": "code",
      "source": [
        "def print_graph_stats(G):\n",
        "    print(\"Number of nodes:\", G.number_of_nodes())\n",
        "    print(\"Number of edges:\", G.number_of_edges())\n",
        "    print(\"\")\n",
        "\n",
        "    communities = nx.community.louvain_communities(G)\n",
        "    print(\"Number of clusters:\", len(communities))\n",
        "    print(\"Modularity:\", nx.community.modularity(G, communities))\n",
        "    print(\"Average clustering coefficient:\", nx.average_clustering(G))\n",
        "    print(\"\")\n",
        "\n",
        "    print(\"Graph is strongly connected:\", nx.is_strongly_connected(G))\n",
        "    print(\"Graph is weakly connected:\", nx.is_weakly_connected(G))\n",
        "    print(\"Number of strongly connected components:\", nx.number_strongly_connected_components(G))\n",
        "    print(\"Number of weakly connected components:\", nx.number_weakly_connected_components(G))"
      ],
      "metadata": {
        "id": "-DpMgOKQRSoR"
      },
      "execution_count": null,
      "outputs": []
    },
    {
      "cell_type": "markdown",
      "source": [
        "### Analysis of Different Months"
      ],
      "metadata": {
        "id": "wTzrrnfLNVgU"
      }
    },
    {
      "cell_type": "code",
      "source": [
        "# The goal here is to see whether all months have a similar number of players/games\n",
        "\n",
        "num_nodes = []\n",
        "num_edges = []\n",
        "for month in train_graphs:\n",
        "    G = train_graphs[month]\n",
        "    num_nodes.append(G.number_of_nodes())\n",
        "    num_edges.append(G.number_of_edges())\n",
        "\n",
        "plt.figure(1)\n",
        "plt.hist(num_nodes, bins=100)\n",
        "plt.xlabel(\"Number of nodes\")\n",
        "\n",
        "plt.figure(2)\n",
        "plt.hist(num_edges, bins=100)\n",
        "plt.xlabel(\"Number of edges\")\n",
        "\n",
        "plt.show()"
      ],
      "metadata": {
        "colab": {
          "base_uri": "https://localhost:8080/",
          "height": 881
        },
        "id": "47knttXO8oYE",
        "outputId": "1e324584-2d9d-4536-a8a2-ae82fdd99dbf"
      },
      "execution_count": null,
      "outputs": [
        {
          "output_type": "display_data",
          "data": {
            "text/plain": [
              "<Figure size 640x480 with 1 Axes>"
            ],
            "image/png": "[encoded data removed]"
          },
          "metadata": {}
        },
        {
          "output_type": "display_data",
          "data": {
            "text/plain": [
              "<Figure size 640x480 with 1 Axes>"
            ],
            "image/png": "[encoded data removed]"
          },
          "metadata": {}
        }
      ]
    },
    {
      "cell_type": "code",
      "source": [
        "print(\"Month 100 has \" + str(train_graphs[100].number_of_nodes()) + \" nodes and \"\n",
        " + str(train_graphs[100].number_of_edges()) + \" edges.\")"
      ],
      "metadata": {
        "colab": {
          "base_uri": "https://localhost:8080/"
        },
        "id": "i5_XI8zIZFqW",
        "outputId": "c201ea9c-40c4-466e-a285-01cdad6a5fb7"
      },
      "execution_count": null,
      "outputs": [
        {
          "output_type": "stream",
          "name": "stdout",
          "text": [
            "Month 100 has 1231 nodes and 1938 edges.\n"
          ]
        }
      ]
    },
    {
      "cell_type": "code",
      "source": [
        "node_freq = {}\n",
        "for month in train_graphs:\n",
        "    G = train_graphs[month]\n",
        "    for u in G.nodes():\n",
        "        if u not in node_freq:\n",
        "            node_freq[u] = 1\n",
        "        else:\n",
        "            node_freq[u] += 1\n",
        "\n",
        "vals = node_freq.values()\n",
        "plt.hist(vals, bins=100)\n",
        "plt.xlabel(\"Number of monthly appearances\")\n",
        "plt.show()"
      ],
      "metadata": {
        "colab": {
          "base_uri": "https://localhost:8080/"
        },
        "id": "WxOGvHVjC4L2",
        "outputId": "d7ef7f9c-252b-4851-b302-ba5ec1934f6d"
      },
      "execution_count": null,
      "outputs": [
        {
          "output_type": "display_data",
          "data": {
            "text/plain": [
              "<Figure size 640x480 with 1 Axes>"
            ],
            "image/png": "[encoded data removed]"
          },
          "metadata": {}
        }
      ]
    },
    {
      "cell_type": "markdown",
      "source": [
        "### Analysis of the Full Graph"
      ],
      "metadata": {
        "id": "_5F19sIkAR7q"
      }
    },
    {
      "cell_type": "code",
      "source": [
        "# Analysis of the graph that contains all 100 months\n",
        "G_all = train_graphs[1]\n",
        "for i in range(2, 101):\n",
        "    G_all = nx.compose(G_all, train_graphs[i])"
      ],
      "metadata": {
        "id": "Smw8KEEZAZS2"
      },
      "execution_count": null,
      "outputs": []
    },
    {
      "cell_type": "code",
      "source": [
        "print_graph_stats(G_all)"
      ],
      "metadata": {
        "colab": {
          "base_uri": "https://localhost:8080/"
        },
        "id": "twFHQCysCSJl",
        "outputId": "da4a62f3-9249-4e3e-9e1e-6ff8398f5fc9"
      },
      "execution_count": null,
      "outputs": [
        {
          "output_type": "stream",
          "name": "stdout",
          "text": [
            "Number of nodes: 7301\n",
            "Number of edges: 60046\n",
            "\n",
            "Number of clusters: 523\n",
            "Modularity: 0.49972620442525784\n",
            "Average clustering coefficient: 0.10465317728453757\n",
            "\n",
            "Graph is strongly connected: False\n",
            "Graph is weakly connected: False\n",
            "Number of strongly connected components: 1625\n",
            "Number of weakly connected components: 77\n"
          ]
        }
      ]
    },
    {
      "cell_type": "code",
      "source": [
        "plot_degree_distribution(G_all)"
      ],
      "metadata": {
        "colab": {
          "base_uri": "https://localhost:8080/"
        },
        "id": "HopL-XzyQoDu",
        "outputId": "3cdec921-7f2f-43f9-e283-86387dd1b590"
      },
      "execution_count": null,
      "outputs": [
        {
          "output_type": "display_data",
          "data": {
            "text/plain": [
              "<Figure size 640x480 with 1 Axes>"
            ],
            "image/png": "[encoded data removed]"
          },
          "metadata": {}
        }
      ]
    },
    {
      "cell_type": "code",
      "source": [
        "all_comps = nx.weakly_connected_components(G_all)\n",
        "num_nodes = []\n",
        "num_edges = []\n",
        "for G in all_comps:\n",
        "    G = G_all.subgraph(list(G))\n",
        "    num_nodes.append(G.number_of_nodes())\n",
        "    num_edges.append(G.number_of_edges())\n",
        "\n",
        "plt.figure(1)\n",
        "plt.hist(num_nodes, bins=100)\n",
        "plt.xlabel(\"Number of nodes\")\n",
        "plt.figure(2)\n",
        "plt.hist(num_edges, bins=100)\n",
        "plt.xlabel(\"Number of edges\")\n",
        "\n",
        "plt.title(\"Histograms of the different components of the full graph\")\n",
        "\n",
        "plt.show()"
      ],
      "metadata": {
        "colab": {
          "base_uri": "https://localhost:8080/"
        },
        "id": "1zSdf1Eh_mE0",
        "outputId": "a65c7430-c3fb-4a3c-cc71-a9ba2648d7d1"
      },
      "execution_count": null,
      "outputs": [
        {
          "output_type": "display_data",
          "data": {
            "text/plain": [
              "<Figure size 640x480 with 1 Axes>"
            ],
            "image/png": "[encoded data removed]"
          },
          "metadata": {}
        },
        {
          "output_type": "display_data",
          "data": {
            "text/plain": [
              "<Figure size 640x480 with 1 Axes>"
            ],
            "image/png": "[encoded data removed]"
          },
          "metadata": {}
        }
      ]
    },
    {
      "cell_type": "markdown",
      "source": [
        "#### Analysis of Giant Component"
      ],
      "metadata": {
        "id": "pGn2i29eQKQL"
      }
    },
    {
      "cell_type": "code",
      "source": [
        "#Let's further analyze the giant component of G_all\n",
        "largest_cc = max(nx.weakly_connected_components(G_all), key=len)\n",
        "G_cc = nx.induced_subgraph(G_all, list(largest_cc))"
      ],
      "metadata": {
        "id": "tp6MjK6aNLMF"
      },
      "execution_count": null,
      "outputs": []
    },
    {
      "cell_type": "code",
      "source": [
        "print_graph_stats(G_cc)"
      ],
      "metadata": {
        "colab": {
          "base_uri": "https://localhost:8080/"
        },
        "id": "1jcMBcvhRP64",
        "outputId": "c3a9f62a-594b-41ca-9d9a-6a919c9c2603"
      },
      "execution_count": null,
      "outputs": [
        {
          "output_type": "stream",
          "name": "stdout",
          "text": [
            "Number of nodes: 7115\n",
            "Number of edges: 59921\n",
            "\n",
            "Number of clusters: 507\n",
            "Modularity: 0.48659266517807215\n",
            "Average clustering coefficient: 0.10642860351666558\n",
            "\n",
            "Graph is strongly connected: False\n",
            "Graph is weakly connected: True\n",
            "Number of strongly connected components: 1449\n",
            "Number of weakly connected components: 1\n"
          ]
        }
      ]
    },
    {
      "cell_type": "code",
      "source": [
        "plot_degree_distribution(G_cc)"
      ],
      "metadata": {
        "colab": {
          "base_uri": "https://localhost:8080/"
        },
        "id": "lvOgs7n9UOgj",
        "outputId": "a33c3e35-f55b-42b4-e183-e85ed1aed49e"
      },
      "execution_count": null,
      "outputs": [
        {
          "output_type": "display_data",
          "data": {
            "text/plain": [
              "<Figure size 640x480 with 1 Axes>"
            ],
            "image/png": "[encoded data removed]"
          },
          "metadata": {}
        }
      ]
    },
    {
      "cell_type": "markdown",
      "source": [
        "### Link Analysis"
      ],
      "metadata": {
        "id": "kjxS6zzcWMRa"
      }
    },
    {
      "cell_type": "code",
      "source": [
        "scores = []\n",
        "for e in G_all.edges.data():\n",
        "    scores.append(e[2]['score'])\n",
        "plt.hist(scores)\n",
        "plt.show()"
      ],
      "metadata": {
        "colab": {
          "base_uri": "https://localhost:8080/"
        },
        "id": "i23SKS69WQkh",
        "outputId": "ded32da6-2db4-488f-848e-54df379953b4"
      },
      "execution_count": null,
      "outputs": [
        {
          "output_type": "display_data",
          "data": {
            "text/plain": [
              "<Figure size 640x480 with 1 Axes>"
            ],
            "image/png": "[encoded data removed]"
          },
          "metadata": {}
        }
      ]
    },
    {
      "cell_type": "markdown",
      "metadata": {
        "id": "lsNPmZEewYm0"
      },
      "source": [
        "## Baseline 1: Matrix Completion"
      ]
    },
    {
      "cell_type": "code",
      "execution_count": null,
      "metadata": {
        "id": "opSLlYibwYm0"
      },
      "outputs": [],
      "source": [
        "# get data for the last month games\n",
        "month_100 = train_df[train_df['Month #'] == 100]\n",
        "players_100 = np.union1d(month_100['White Player #'].unique(), month_100['Black Player #'].unique())\n",
        "players_100_map = dict(zip(players_100, range(len(players_100))))  # create a special mapping for the last players\n",
        "\n",
        "month_100['White Player #'] = month_100['White Player #'].map(players_100_map)\n",
        "month_100['Black Player #'] = month_100['Black Player #'].map(players_100_map)\n",
        "\n",
        "\n",
        "# initialize array C with dimensions (#players in month_100, #players in month_100)\n",
        "# entry (i,j) is the result of the game where player i played as white against player j\n",
        "C = np.full((len(players_100), len(players_100)), np.nan, dtype=np.float32)\n",
        "\n",
        "# update C array with game results for each row in the dataframe\n",
        "for _, row in month_100.iterrows():\n",
        "    playerA_index = int(row['White Player #'])\n",
        "    playerB_index = int(row['Black Player #'])\n",
        "\n",
        "    if np.isnan(C[playerA_index, playerB_index]):  # if no game result has been recorded yet\n",
        "        C[playerA_index, playerB_index] = np.float32(row['Score'])\n",
        "    else:  # if a game result has already been recorded for this month\n",
        "        count = np.count_nonzero(~np.isnan(C[playerA_index, playerB_index]))  # count the number of non-NaN values\n",
        "        total_score = C[playerA_index, playerB_index] * count + np.float32(row['Score'])  # calculate the sum of scores\n",
        "        C[playerA_index, playerB_index] = total_score / (count + 1)  # calculate the average score"
      ]
    },
    {
      "cell_type": "code",
      "execution_count": null,
      "metadata": {
        "id": "_HI_IUNewYm1"
      },
      "outputs": [],
      "source": [
        "# Alternating Least Squares for Completion of Matrices with nan values\n",
        "def als(X, rank=10, max_iter=10):\n",
        "    '''\n",
        "    X: matrix to be completed\n",
        "    rank: rank of the factorizing matrices, W and Z\n",
        "    max_iter: maximum number of iterations\n",
        "    '''\n",
        "\n",
        "    m, n = X.shape\n",
        "    W = np.random.rand(m, rank)\n",
        "    Z = np.random.rand(n, rank)\n",
        "\n",
        "    for _ in range(max_iter):\n",
        "        # fix W, optimize Z\n",
        "        for j in range(n):\n",
        "            non_nan = np.where(~np.isnan(X[:, j]))[0]\n",
        "            Z[j,:] = np.linalg.lstsq(W[non_nan,:], X[non_nan,j], rcond=None)[0]\n",
        "\n",
        "        # fix Z, optimize W\n",
        "        for i in range(m):\n",
        "            non_nan = np.where(~np.isnan(X[i, :]))[0]\n",
        "            W[i,:] = np.linalg.lstsq(Z[non_nan,:], X[i,non_nan], rcond=None)[0]\n",
        "\n",
        "    non_nan = np.where(~np.isnan(X))\n",
        "    L = norm(X[non_nan] - np.dot(W, Z.T)[non_nan])**2\n",
        "    return W, Z, L/2\n",
        "\n",
        "# Example usage\n",
        "# X = np.array([[1, np.nan, 0], [3, 0, 4], [0, 5, np.nan]])\n",
        "# W, Z, L = als(X)\n",
        "# print(\"W:\\n\", W)\n",
        "# print(\"Z:\\n\", Z)\n",
        "# print(\"L(W,Z) = \", L)\n"
      ]
    },
    {
      "cell_type": "code",
      "source": [
        "masked_edges_in_C = [(players_100_map[ test_graph.ID[u].item() ], players_100_map[ test_graph.ID[v].item() ]) for u,v in test_graph.edge_index[:,-mask_size:].T]\n",
        "C_masked = C.copy()\n",
        "\n",
        "for i,j in masked_edges_in_C:\n",
        "  C_masked[i,j] = np.nan # set masked edge scores to nan"
      ],
      "metadata": {
        "id": "_hmQr45KNP_6"
      },
      "execution_count": null,
      "outputs": []
    },
    {
      "cell_type": "code",
      "execution_count": null,
      "metadata": {
        "id": "Tco1ciPPwYm1",
        "colab": {
          "base_uri": "https://localhost:8080/"
        },
        "outputId": "76b84a80-cbcc-4d7a-a598-5375a5fc0b46"
      },
      "outputs": [
        {
          "output_type": "stream",
          "name": "stdout",
          "text": [
            "[[0.  0.  0.  ... 0.  0.  0. ]\n",
            " [0.  0.  0.  ... 0.  0.  0. ]\n",
            " [0.  0.5 0.  ... 0.  0.5 0.5]\n",
            " ...\n",
            " [0.  1.  0.  ... 0.  0.  1. ]\n",
            " [0.  0.5 0.  ... 0.  0.  0.5]\n",
            " [0.  0.5 0.  ... 0.  0.  0. ]]\n"
          ]
        }
      ],
      "source": [
        "# fill in missing values in C\n",
        "C_filled = np.zeros(C.shape, dtype=np.float32)\n",
        "\n",
        "W, Z, L = als(C_masked)\n",
        "C_filled = np.dot(W, Z.T)\n",
        "\n",
        "# digitize the values\n",
        "C_filled[C_filled < 1/3] = 0\n",
        "C_filled[C_filled > 2/3] = 1\n",
        "C_filled[(C_filled >= 1/3) & (C_filled <= 2/3)] = 0.5\n",
        "\n",
        "print(C_filled)"
      ]
    },
    {
      "cell_type": "markdown",
      "source": [
        "Before calculating the accuracy of the predicted scores by the filled matrix, let us make sure that the matrix really approximated C_masked on non-nan entries"
      ],
      "metadata": {
        "id": "AquEjfqWPNJM"
      }
    },
    {
      "cell_type": "code",
      "execution_count": null,
      "metadata": {
        "id": "_IXiKGEywYm2",
        "outputId": "a7b6522d-8be0-4bbe-cbdf-f153c7be06c6",
        "colab": {
          "base_uri": "https://localhost:8080/"
        }
      },
      "outputs": [
        {
          "output_type": "stream",
          "name": "stdout",
          "text": [
            "Squared Frobenius norm of the residual matrix:  1.0702636172709536e-28\n"
          ]
        }
      ],
      "source": [
        "# test the performance of the C_filled by comparing it to the C_masked on non-nan entries\n",
        "print(\"Squared Frobenius norm of the residual matrix: \", L)\n"
      ]
    },
    {
      "cell_type": "markdown",
      "source": [
        "With a decent performance, we can now test the accuracy of our first baseline model"
      ],
      "metadata": {
        "id": "cKdNfbT4QErK"
      }
    },
    {
      "cell_type": "code",
      "source": [
        "predicted_scores = [ C_filled[i,j] for i,j in masked_edges_in_C ]\n",
        "ground_truth = [ C[i,j] for i,j in masked_edges_in_C ]\n",
        "\n",
        "correct_predictions = sum(1 for pred, true in zip(predicted_scores, ground_truth) if pred == true)\n",
        "total_predictions = len(predicted_scores)\n",
        "accuracy = correct_predictions / total_predictions * 100\n",
        "\n",
        "print(\"Accuracy: {:.2f}%\".format(accuracy))"
      ],
      "metadata": {
        "colab": {
          "base_uri": "https://localhost:8080/"
        },
        "id": "CNIiR_3LQEF6",
        "outputId": "61f9a936-041a-4e95-f8ff-2b91177740f2"
      },
      "execution_count": null,
      "outputs": [
        {
          "output_type": "stream",
          "name": "stdout",
          "text": [
            "Accuracy: 29.00%\n"
          ]
        }
      ]
    },
    {
      "cell_type": "markdown",
      "source": [
        "## Baseline 2:  Standard GCN"
      ],
      "metadata": {
        "id": "AY9oBnclTB4S"
      }
    },
    {
      "cell_type": "code",
      "source": [
        "class GCN(torch.nn.Module):\n",
        "    def __init__(self, in_channels=4, out_channels=8):\n",
        "        super(GCN, self).__init__()\n",
        "\n",
        "        #node embedding\n",
        "        self.conv1 = GCNConv(in_channels, 4 * in_channels)\n",
        "        self.conv2 = GCNConv(4 * in_channels, 4 * out_channels)\n",
        "        self.conv3 = GCNConv(4 * out_channels, 4 * out_channels)\n",
        "        self.conv4 = GCNConv(4 * out_channels, 2 * out_channels)\n",
        "\n",
        "        self.fc = torch.nn.Linear(2 * out_channels, out_channels)\n",
        "\n",
        "        self.dropout = torch.nn.Dropout(p=0.1)\n",
        "\n",
        "        #edge embedding and classification\n",
        "        self.mlp = nn.Sequential(\n",
        "            nn.Linear(2*out_channels, 8 * out_channels),\n",
        "            nn.ELU(),\n",
        "\n",
        "            nn.Linear(8 * out_channels, 16 * out_channels),\n",
        "            nn.ELU(),\n",
        "\n",
        "            nn.Linear(16 * out_channels, 32 * out_channels),\n",
        "            nn.ELU(),\n",
        "\n",
        "            nn.Linear(32 * out_channels, 16 * out_channels),\n",
        "            nn.ELU(),\n",
        "\n",
        "            nn.Linear(16 * out_channels, 8 * out_channels),\n",
        "            nn.ELU(),\n",
        "\n",
        "            nn.Linear(8 * out_channels, 4 * out_channels),\n",
        "            nn.ELU(),\n",
        "\n",
        "            nn.Linear(4 * out_channels, 3),\n",
        "        )\n",
        "\n",
        "\n",
        "    def forward(self, data):\n",
        "        node_features, edge_index = data.rank.view(-1,data.rank.shape[1]).to(torch.float), data.edge_index\n",
        "\n",
        "        node_features = self.conv1(node_features, edge_index)\n",
        "        node_features = F.elu(node_features)\n",
        "        node_features = self.dropout(node_features)\n",
        "\n",
        "        node_features = self.conv2(node_features, edge_index)\n",
        "        node_features = F.elu(node_features)\n",
        "        node_features = self.dropout(node_features)\n",
        "\n",
        "        node_features = self.conv3(node_features, edge_index)\n",
        "        node_features = F.elu(node_features)\n",
        "        node_features = self.dropout(node_features)\n",
        "\n",
        "        node_features = self.conv4(node_features, edge_index)\n",
        "        node_features = F.elu(node_features)\n",
        "\n",
        "        node_features = self.fc(node_features)\n",
        "\n",
        "        # Concatenate node embeddings to compute edge features\n",
        "        src, dst = edge_index\n",
        "        edge_features = torch.cat([node_features[src], node_features[dst]], dim=1)\n",
        "        edge_features = self.mlp(edge_features)\n",
        "\n",
        "        return edge_features\n"
      ],
      "metadata": {
        "id": "OM5gUo6bTJKG"
      },
      "execution_count": null,
      "outputs": []
    },
    {
      "cell_type": "markdown",
      "source": [
        "### Training"
      ],
      "metadata": {
        "id": "jxzp4wqMXZKx"
      }
    },
    {
      "cell_type": "code",
      "source": [
        "# function used to classify the scores to classes\n",
        "def send_to_class(tensor):\n",
        "    tensor_mapped = torch.zeros_like(tensor, device=tensor.device)\n",
        "    tensor_mapped[tensor < 1/3] = 0\n",
        "    tensor_mapped[(tensor >= 1/3) & (tensor < 2/3)] = 1\n",
        "    tensor_mapped[tensor >= 2/3] = 2\n",
        "    return tensor_mapped.long()"
      ],
      "metadata": {
        "id": "KG7RP4dweJkn"
      },
      "execution_count": null,
      "outputs": []
    },
    {
      "cell_type": "code",
      "source": [
        "def train_gcn(train_Data_list, valid_Data_list, early_stopping_rounds=10, num_epochs=20):\n",
        "    device = torch.device('cuda' if torch.cuda.is_available() else 'cpu')\n",
        "\n",
        "    # Initialize model and optimizer\n",
        "    model = GCN().to(device)\n",
        "    optimizer = torch.optim.Adam(model.parameters(), lr=0.005, weight_decay=1e-4)\n",
        "    loss_fn = nn.CrossEntropyLoss()\n",
        "\n",
        "    # Initialize variables for tracking best validation loss and early stopping\n",
        "    best_valid_loss = float('inf')\n",
        "    early_stopping_counter = 0\n",
        "\n",
        "    # Train for a fixed number of epochs\n",
        "    for epoch in range(num_epochs):\n",
        "        train_loss = 0\n",
        "        valid_loss = 0\n",
        "        train_correct = 0\n",
        "        valid_correct = 0\n",
        "        train_samples = 0\n",
        "        valid_samples = 0\n",
        "\n",
        "        # Train on training dataset\n",
        "        model.train()\n",
        "        for i, graph in enumerate(train_Data_list):\n",
        "            graph = graph.to(device)\n",
        "            optimizer.zero_grad()\n",
        "            out = model(graph)\n",
        "\n",
        "            if i == 99:  # if it's the test graph, use the mask\n",
        "                loss = loss_fn(out[mask, :], send_to_class(graph.score[mask]))\n",
        "                train_samples += graph.edge_index.size(1) - mask_size\n",
        "            else:\n",
        "                loss = loss_fn(out, send_to_class(graph.score))\n",
        "                train_samples += graph.edge_index.size(1)\n",
        "\n",
        "            loss.backward()\n",
        "            optimizer.step()\n",
        "            train_loss += loss.item()\n",
        "\n",
        "            # Calculate training accuracy\n",
        "            _, predicted_classes = torch.max(out, 1)\n",
        "            correct = (predicted_classes == send_to_class(graph.score)).sum()\n",
        "            train_correct += correct.item()\n",
        "\n",
        "        # Evaluate on validation dataset\n",
        "        model.eval()\n",
        "        with torch.no_grad():\n",
        "            for graph in valid_Data_list:\n",
        "                graph = graph.to(device)\n",
        "                out = model(graph)\n",
        "\n",
        "                # Calculate validation loss\n",
        "                valid_loss += loss_fn(out, send_to_class(graph.score)).item()\n",
        "\n",
        "                # Calculate validation accuracy\n",
        "                _, predicted_classes = torch.max(out, 1)\n",
        "                correct = (predicted_classes == send_to_class(graph.score)).sum()\n",
        "                valid_correct += correct.item()\n",
        "                valid_samples += graph.edge_index.size(1)\n",
        "\n",
        "        # Calculate average loss and accuracy for epoch\n",
        "        train_loss /= len(train_Data_list)\n",
        "        valid_loss /= len(valid_Data_list)\n",
        "        train_accuracy = train_correct / train_samples\n",
        "        valid_accuracy = valid_correct / valid_samples\n",
        "\n",
        "        # Print loss and accuracy for epoch\n",
        "        print(f\"Epoch {epoch + 1}/{num_epochs}, Train Loss: {train_loss:.4f}, Train Accuracy: {train_accuracy:.4f}, \"\n",
        "              f\"Valid Accuracy: {valid_accuracy:.4f}\")\n",
        "\n",
        "        # Check if validation loss has improved\n",
        "        if valid_loss < best_valid_loss:\n",
        "            best_valid_loss = valid_loss\n",
        "            early_stopping_counter = 0\n",
        "\n",
        "            # Save the model weights\n",
        "            torch.save(model.state_dict(), 'best_GCN_model_weights.pth')\n",
        "\n",
        "        else:\n",
        "            early_stopping_counter += 1\n",
        "\n",
        "        # Check if early stopping criteria has been met\n",
        "        if early_stopping_counter >= early_stopping_rounds:\n",
        "            print(f\"Validation loss did not improve for {early_stopping_rounds} epochs. Training stopped.\")\n",
        "            break\n",
        "\n",
        "    # Load the best model weights\n",
        "    model.load_state_dict(torch.load('best_GCN_model_weights.pth'))\n",
        "\n",
        "    return model\n"
      ],
      "metadata": {
        "id": "Ff8z3ZtSXb9H"
      },
      "execution_count": null,
      "outputs": []
    },
    {
      "cell_type": "code",
      "source": [
        "trained_gcn = train_gcn(train_Data_list, valid_Data_list)"
      ],
      "metadata": {
        "colab": {
          "base_uri": "https://localhost:8080/"
        },
        "id": "R-jpX9mBYet_",
        "outputId": "6f760e5b-3061-494c-baab-ac1fb87bfd88"
      },
      "execution_count": null,
      "outputs": [
        {
          "output_type": "stream",
          "name": "stdout",
          "text": [
            "Epoch 1/20, Train Loss: 1.0584, Train Accuracy: 0.4535, Valid Accuracy: 0.5293\n",
            "Epoch 2/20, Train Loss: 1.0355, Train Accuracy: 0.4753, Valid Accuracy: 0.5338\n",
            "Epoch 3/20, Train Loss: 1.0323, Train Accuracy: 0.4768, Valid Accuracy: 0.5120\n",
            "Epoch 4/20, Train Loss: 1.0262, Train Accuracy: 0.4793, Valid Accuracy: 0.5379\n",
            "Epoch 5/20, Train Loss: 1.0226, Train Accuracy: 0.4818, Valid Accuracy: 0.5397\n",
            "Epoch 6/20, Train Loss: 1.0187, Train Accuracy: 0.4855, Valid Accuracy: 0.5438\n",
            "Epoch 7/20, Train Loss: 1.0236, Train Accuracy: 0.4783, Valid Accuracy: 0.5243\n",
            "Epoch 8/20, Train Loss: 1.0229, Train Accuracy: 0.4835, Valid Accuracy: 0.5432\n",
            "Epoch 9/20, Train Loss: 1.0191, Train Accuracy: 0.4860, Valid Accuracy: 0.5435\n",
            "Epoch 10/20, Train Loss: 1.0158, Train Accuracy: 0.4864, Valid Accuracy: 0.5413\n",
            "Epoch 11/20, Train Loss: 1.0124, Train Accuracy: 0.4887, Valid Accuracy: 0.5527\n",
            "Epoch 12/20, Train Loss: 1.0159, Train Accuracy: 0.4890, Valid Accuracy: 0.5527\n",
            "Epoch 13/20, Train Loss: 1.0140, Train Accuracy: 0.4888, Valid Accuracy: 0.5539\n",
            "Epoch 14/20, Train Loss: 1.0122, Train Accuracy: 0.4906, Valid Accuracy: 0.5546\n",
            "Epoch 15/20, Train Loss: 1.0082, Train Accuracy: 0.4924, Valid Accuracy: 0.5479\n",
            "Epoch 16/20, Train Loss: 1.0078, Train Accuracy: 0.4928, Valid Accuracy: 0.5508\n",
            "Epoch 17/20, Train Loss: 1.0091, Train Accuracy: 0.4929, Valid Accuracy: 0.5521\n",
            "Epoch 18/20, Train Loss: 1.0066, Train Accuracy: 0.4944, Valid Accuracy: 0.5527\n",
            "Epoch 19/20, Train Loss: 1.0075, Train Accuracy: 0.4931, Valid Accuracy: 0.5590\n",
            "Epoch 20/20, Train Loss: 1.0055, Train Accuracy: 0.4954, Valid Accuracy: 0.5593\n"
          ]
        }
      ]
    },
    {
      "cell_type": "code",
      "source": [
        "device = torch.device('cuda' if torch.cuda.is_available() else 'cpu')\n",
        "\n",
        "trained_gcn.eval()\n",
        "with torch.no_grad():\n",
        "    test_graph = test_graph.to(device)\n",
        "    results = trained_gcn(test_graph)\n",
        "\n",
        "    # Calculate accuracy\n",
        "    _, predicted_classes = torch.max(results, 1)\n",
        "    correct = (predicted_classes[~mask] == send_to_class(test_graph.score[~mask])).sum().item()\n",
        "    accuracy = correct / test_graph.score[~mask].size(0) * 100\n",
        "\n",
        "    print(f'Accuracy: {accuracy:.4} %')\n"
      ],
      "metadata": {
        "colab": {
          "base_uri": "https://localhost:8080/"
        },
        "id": "lkgihrZPYhQQ",
        "outputId": "82f810f1-a1f1-492e-9d95-f0a3ecda2612"
      },
      "execution_count": null,
      "outputs": [
        {
          "output_type": "stream",
          "name": "stdout",
          "text": [
            "Accuracy: 62.33 %\n"
          ]
        }
      ]
    },
    {
      "cell_type": "markdown",
      "metadata": {
        "id": "XJnsSm4cwYm3"
      },
      "source": [
        "## SAGE Encoder-Decoder"
      ]
    },
    {
      "cell_type": "markdown",
      "source": [
        "### Model"
      ],
      "metadata": {
        "id": "FQo4jo927t_a"
      }
    },
    {
      "cell_type": "code",
      "execution_count": null,
      "metadata": {
        "id": "3i6g8hYHwYm3"
      },
      "outputs": [],
      "source": [
        "class BidirectionalSAGE(torch.nn.Module):\n",
        "    def __init__(self, in_channels=4, out_channels=8):\n",
        "        super(BidirectionalSAGE, self).__init__()\n",
        "\n",
        "        #node embedding\n",
        "        self.conv1 = SAGEConv(in_channels, 4 * in_channels)\n",
        "        self.conv2 = SAGEConv(4 * in_channels, 4 * out_channels)\n",
        "        self.conv3 = SAGEConv(4 * out_channels, 4 * out_channels)\n",
        "        self.conv4 = SAGEConv(4 * out_channels, 2 * out_channels)\n",
        "\n",
        "        self.fc = torch.nn.Linear(2 * out_channels, out_channels)\n",
        "\n",
        "        self.dropout = torch.nn.Dropout(p=0.1)\n",
        "\n",
        "        #edge embedding and classification\n",
        "        self.mlp = nn.Sequential(\n",
        "            nn.Linear(out_channels, 4 * out_channels),\n",
        "            nn.ELU(),\n",
        "\n",
        "            nn.Linear(4 * out_channels, 8 * out_channels),\n",
        "            nn.ELU(),\n",
        "\n",
        "            nn.Linear(8 * out_channels, 16 * out_channels),\n",
        "            nn.ELU(),\n",
        "\n",
        "            nn.Linear(16 * out_channels, 32 * out_channels),\n",
        "            nn.ELU(),\n",
        "\n",
        "            nn.Linear(32 * out_channels, 16 * out_channels),\n",
        "            nn.ELU(),\n",
        "\n",
        "            nn.Linear(16 * out_channels, 8 * out_channels),\n",
        "            nn.ELU(),\n",
        "\n",
        "            nn.Linear(8 * out_channels, 4 * out_channels),\n",
        "            nn.ELU(),\n",
        "\n",
        "            nn.Linear(4 * out_channels, 1),\n",
        "            nn.Sigmoid()\n",
        "        )\n",
        "\n",
        "\n",
        "    def forward(self, data, encode=True):\n",
        "        node_features, edge_index = data.rank.view(-1,data.rank.shape[1]).to(torch.float), data.edge_index\n",
        "\n",
        "        if encode:\n",
        "            #encoder\n",
        "\n",
        "            # Forward message passing: source to target\n",
        "            out1 = self.conv1(node_features, edge_index)\n",
        "            out1 = F.elu(out1)\n",
        "            out1 = self.dropout(out1)\n",
        "\n",
        "            out1 = self.conv2(out1, edge_index)\n",
        "            out1 = F.elu(out1)\n",
        "            out1 = self.dropout(out1)\n",
        "\n",
        "            out1 = self.conv3(out1, edge_index)\n",
        "            out1 = F.elu(out1)\n",
        "            out1 = self.dropout(out1)\n",
        "\n",
        "            out1 = self.conv4(out1, edge_index)\n",
        "            out1 = F.elu(out1)\n",
        "\n",
        "            # Reverse the edge direction\n",
        "            edge_index_reverse = torch.flip(edge_index, [0])\n",
        "\n",
        "            # Backward message passing: target to source\n",
        "            out2 = self.conv1(node_features, edge_index)\n",
        "            out2 = F.elu(out2)\n",
        "            out2 = self.dropout(out2)\n",
        "\n",
        "            out2 = self.conv2(out2, edge_index)\n",
        "            out2 = F.elu(out2)\n",
        "            out2 = self.dropout(out2)\n",
        "\n",
        "            out2 = self.conv3(out2, edge_index)\n",
        "            out2 = F.elu(out2)\n",
        "            out2 = self.dropout(out2)\n",
        "\n",
        "            out2 = self.conv4(out2, edge_index)\n",
        "            out2 = F.elu(out2)\n",
        "\n",
        "            # Combine the results\n",
        "            node_features = out1 + out2\n",
        "            node_features = self.fc(node_features)\n",
        "\n",
        "        #decoder\n",
        "        # Concatenate node embeddings to compute edge features\n",
        "        src, dst = edge_index\n",
        "        out_channels = node_features.shape[1]\n",
        "        edge_features = torch.cat([node_features[src][:, :out_channels//2], node_features[dst][:, out_channels//2:]], dim=1)\n",
        "        edge_features = self.mlp(edge_features)\n",
        "\n",
        "        return node_features, edge_features\n"
      ]
    },
    {
      "cell_type": "markdown",
      "source": [
        "### Training"
      ],
      "metadata": {
        "id": "cV0T4RXK46yM"
      }
    },
    {
      "cell_type": "code",
      "source": [
        "# function used to segment values between [0,1] to {0, 0.5, 1}\n",
        "def segment_values(values, eps=0.1):\n",
        "    bins = np.array([0, 1/3-eps, 2/3+eps, 1.1])\n",
        "    values_cpu = values.detach().cpu().numpy()  # Detach gradients and move tensor to CPU\n",
        "    segments = np.digitize(values_cpu, bins)\n",
        "    segments = (segments - 1) * 0.5  # Scale segments to range {0, 0.5, 1}\n",
        "    return torch.from_numpy(segments).to(values.device)  # Move segments back to the original device"
      ],
      "metadata": {
        "id": "m0W0O140eNQM"
      },
      "execution_count": null,
      "outputs": []
    },
    {
      "cell_type": "code",
      "source": [
        "def train_gnn(train_Data_list, valid_Data_list, early_stopping_rounds=10, num_epochs=20):\n",
        "    device = torch.device('cuda' if torch.cuda.is_available() else 'cpu')\n",
        "\n",
        "    # Initialize model and optimizer\n",
        "    model = BidirectionalSAGE().to(device)\n",
        "    optimizer = torch.optim.Adam(model.parameters(), lr=0.01, weight_decay=5e-2)\n",
        "    loss_fn = nn.MSELoss()\n",
        "\n",
        "    # Initialize variables for tracking best validation loss and early stopping\n",
        "    best_valid_loss = float('inf')\n",
        "    early_stopping_counter = 0\n",
        "\n",
        "    # Train for a fixed number of epochs\n",
        "    for epoch in range(num_epochs):\n",
        "        train_loss = 0\n",
        "        valid_loss = 0\n",
        "        train_correct = 0\n",
        "        valid_correct = 0\n",
        "        train_samples = 0\n",
        "        valid_samples = 0\n",
        "\n",
        "        # Train on training dataset\n",
        "        model.train()\n",
        "        for i, graph in enumerate(train_Data_list):\n",
        "            graph = graph.to(device)\n",
        "            optimizer.zero_grad()\n",
        "            _, out = model(graph)\n",
        "\n",
        "            if i == 99: #if its the test graph, use the mask\n",
        "              loss = loss_fn(100*out[mask], 100*graph.score[mask].view(-1, 1).to(torch.float))\n",
        "              train_samples += graph.edge_index.size(1) - mask_size\n",
        "\n",
        "            else:\n",
        "              loss = loss_fn(100*out, 100*graph.score.view(-1, 1).to(torch.float))\n",
        "              train_samples += graph.edge_index.size(1)\n",
        "\n",
        "            loss.backward()\n",
        "            optimizer.step()\n",
        "            train_loss += loss.item()\n",
        "\n",
        "            # Calculate training accuracy\n",
        "            predicted_scores = segment_values(out)\n",
        "            correct = (predicted_scores == graph.score.view(-1, 1)).sum()\n",
        "            train_correct += correct.item()\n",
        "\n",
        "        # Evaluate on validation dataset\n",
        "        model.eval()\n",
        "        with torch.no_grad():\n",
        "            for graph in valid_Data_list:\n",
        "                graph = graph.to(device)\n",
        "                _, out = model(graph)\n",
        "\n",
        "                # Calculate validation loss\n",
        "                valid_loss += loss_fn(out, graph.score.view(-1, 1).to(torch.float)).item()\n",
        "\n",
        "                # Calculate validation accuracy\n",
        "                predicted_scores = segment_values(out)\n",
        "                correct = (predicted_scores == graph.score.view(-1, 1)).sum()\n",
        "                valid_correct += correct.item()\n",
        "                valid_samples += graph.edge_index.size(1)\n",
        "\n",
        "        # Calculate average loss and accuracy for epoch\n",
        "        train_loss /= len(train_Data_list)\n",
        "        valid_loss /= len(valid_Data_list)\n",
        "        train_accuracy = train_correct / train_samples\n",
        "        valid_accuracy = valid_correct / valid_samples\n",
        "\n",
        "        # Print loss and accuracy for epoch\n",
        "        print(f\"Epoch {epoch + 1}/{num_epochs}, Train Loss: {train_loss:.4f}, Train Accuracy: {train_accuracy:.4f}, \"\n",
        "              f\"Valid Accuracy: {valid_accuracy:.4f}\")\n",
        "\n",
        "        # Check if validation loss has improved\n",
        "        if valid_loss < best_valid_loss:\n",
        "            best_valid_loss = valid_loss\n",
        "            early_stopping_counter = 0\n",
        "\n",
        "            # Save the model weights\n",
        "            torch.save(model.state_dict(), 'best_model_weights.pth')\n",
        "\n",
        "        else:\n",
        "            early_stopping_counter += 1\n",
        "\n",
        "        # Check if early stopping criteria has been met\n",
        "        if early_stopping_counter >= early_stopping_rounds:\n",
        "            print(f\"Validation loss did not improve for {early_stopping_rounds} epochs. Training stopped.\")\n",
        "            break\n",
        "\n",
        "    # Load the best model weights\n",
        "    model.load_state_dict(torch.load('best_model_weights.pth'))\n",
        "\n",
        "    return model\n"
      ],
      "metadata": {
        "id": "zfPkjNbh0RAR"
      },
      "execution_count": null,
      "outputs": []
    },
    {
      "cell_type": "code",
      "source": [
        "trained_gnn = train_gnn(train_Data_list, valid_Data_list)"
      ],
      "metadata": {
        "id": "iCRI8AVtLJqb",
        "colab": {
          "base_uri": "https://localhost:8080/"
        },
        "outputId": "d6614c03-0539-40d3-ed6d-92ef28a15ac4"
      },
      "execution_count": null,
      "outputs": [
        {
          "output_type": "stream",
          "name": "stdout",
          "text": [
            "Epoch 1/20, Train Loss: 1024.6626, Train Accuracy: 0.6009, Valid Accuracy: 0.8205\n",
            "Epoch 2/20, Train Loss: 437.3184, Train Accuracy: 0.7891, Valid Accuracy: 0.8637\n",
            "Epoch 3/20, Train Loss: 371.9141, Train Accuracy: 0.8156, Valid Accuracy: 0.8700\n",
            "Epoch 4/20, Train Loss: 362.7039, Train Accuracy: 0.8186, Valid Accuracy: 0.8697\n",
            "Epoch 5/20, Train Loss: 359.1158, Train Accuracy: 0.8192, Valid Accuracy: 0.8773\n",
            "Epoch 6/20, Train Loss: 351.8124, Train Accuracy: 0.8235, Valid Accuracy: 0.8754\n",
            "Epoch 7/20, Train Loss: 351.6292, Train Accuracy: 0.8229, Valid Accuracy: 0.8738\n",
            "Epoch 8/20, Train Loss: 347.6505, Train Accuracy: 0.8249, Valid Accuracy: 0.8754\n",
            "Epoch 9/20, Train Loss: 340.5530, Train Accuracy: 0.8288, Valid Accuracy: 0.8773\n",
            "Epoch 10/20, Train Loss: 342.0206, Train Accuracy: 0.8259, Valid Accuracy: 0.8729\n",
            "Epoch 11/20, Train Loss: 344.4028, Train Accuracy: 0.8267, Valid Accuracy: 0.8770\n",
            "Epoch 12/20, Train Loss: 334.2426, Train Accuracy: 0.8316, Valid Accuracy: 0.8792\n",
            "Epoch 13/20, Train Loss: 337.4284, Train Accuracy: 0.8311, Valid Accuracy: 0.8814\n",
            "Epoch 14/20, Train Loss: 326.9920, Train Accuracy: 0.8340, Valid Accuracy: 0.8741\n",
            "Epoch 15/20, Train Loss: 338.4744, Train Accuracy: 0.8301, Valid Accuracy: 0.8785\n",
            "Epoch 16/20, Train Loss: 326.9576, Train Accuracy: 0.8342, Valid Accuracy: 0.8817\n",
            "Epoch 17/20, Train Loss: 328.2120, Train Accuracy: 0.8358, Valid Accuracy: 0.8811\n",
            "Epoch 18/20, Train Loss: 325.1177, Train Accuracy: 0.8359, Valid Accuracy: 0.8817\n",
            "Epoch 19/20, Train Loss: 322.3684, Train Accuracy: 0.8373, Valid Accuracy: 0.8836\n",
            "Epoch 20/20, Train Loss: 329.4497, Train Accuracy: 0.8335, Valid Accuracy: 0.8744\n"
          ]
        }
      ]
    },
    {
      "cell_type": "markdown",
      "source": [
        "### Updating Node Embeddings"
      ],
      "metadata": {
        "id": "65PGzejA4-YW"
      }
    },
    {
      "cell_type": "code",
      "source": [
        "# Update the features for all nodes over all months by the node embedding\n",
        "# learned by the model\n",
        "\n",
        "device = torch.device('cuda' if torch.cuda.is_available() else 'cpu')\n",
        "updated_graphs = []\n",
        "\n",
        "for graph in train_Data_list: #exclude month 100\n",
        "    graph = graph.to(device)\n",
        "\n",
        "    # Forward pass through the GNN model to get updated node features\n",
        "    updated_node_features, _ = trained_gnn(graph)\n",
        "\n",
        "    # Create a new graph with the updated node features\n",
        "    updated_graph = graph.clone()  # Clone the original graph\n",
        "    updated_graph.rank = updated_node_features  # Assign the updated node features\n",
        "\n",
        "    # Append the updated graph to the list of updated graphs\n",
        "    updated_graphs.append(updated_graph)\n"
      ],
      "metadata": {
        "id": "CXxZfup0WEec"
      },
      "execution_count": null,
      "outputs": []
    },
    {
      "cell_type": "code",
      "source": [
        "# Store features of a node over all months played in a dictionary with key as node ID\n",
        "node_dict = {}\n",
        "\n",
        "for graph in updated_graphs:\n",
        "    for node_id, node_features in zip(graph.ID, graph.rank):\n",
        "        node_id= node_id.item()\n",
        "        node_features= node_features.view(8,1)\n",
        "        if node_id not in node_dict:\n",
        "            node_dict[node_id] = node_features\n",
        "        else:\n",
        "            # concatinate the features horizontally, with recent features on the right\n",
        "            node_dict[node_id] = torch.cat((node_dict[node_id], node_features), dim=1)"
      ],
      "metadata": {
        "id": "JYoWY5KYdv_d"
      },
      "execution_count": null,
      "outputs": []
    },
    {
      "cell_type": "code",
      "source": [
        "# Moving Average Weights\n",
        "\n",
        "# Simple Moving Average\n",
        "def calculate_sma_weights(n):\n",
        "    weights = torch.ones(n) / n\n",
        "    return weights\n",
        "\n",
        "# Weighted Moving Average\n",
        "def calculate_wma_weights(n):\n",
        "    weights = torch.arange(1, n + 1, dtype=torch.float32)\n",
        "    weights /= torch.sum(weights)\n",
        "    return weights\n",
        "\n",
        "# Exponential Moving Average\n",
        "def calculate_ema_weights(n):\n",
        "    alpha = 2 / (n + 1)\n",
        "    weights = torch.pow(1 - alpha, torch.arange(n - 1, -1, -1))\n",
        "    weights /= torch.sum(weights)\n",
        "    return weights\n",
        "\n",
        "# Non Moving Average: do not account for previous months\n",
        "def calculate_nma_weights(N):\n",
        "    tensor = torch.zeros(N)\n",
        "    tensor[-1] = 1\n",
        "    return tensor\n",
        "\n",
        "nb_months = 2\n",
        "sma_weights = calculate_sma_weights(nb_months)\n",
        "wma_weights = calculate_wma_weights(nb_months)\n",
        "ema_weights = calculate_ema_weights(nb_months)\n",
        "nma_weights = calculate_nma_weights(nb_months)"
      ],
      "metadata": {
        "id": "rhyOdGB-BnYp"
      },
      "execution_count": null,
      "outputs": []
    },
    {
      "cell_type": "code",
      "source": [
        "# Create a separate graph for each aggregation method\n",
        "if test_graph.rank.size(1)==4:\n",
        "  test_graph.rank = test_graph.rank.repeat(1, 2) # node embeddings has size 8\n",
        "\n",
        "test_graph_nma = test_graph.clone()\n",
        "test_graph_sma = test_graph.clone()\n",
        "test_graph_wma = test_graph.clone()\n",
        "test_graph_ema = test_graph.clone()\n",
        "\n",
        "removed_player_indices = list(set( test_graph.edge_index[:, ~mask][0].tolist() + test_graph.edge_index[:, ~mask][1].tolist() ))\n",
        "\n",
        "# aggregate the monthly node embeddings\n",
        "for node_idx in removed_player_indices:\n",
        "      recent_features = node_dict[ test_graph.ID[node_idx].item() ][:, -nb_months:].to('cpu')\n",
        "\n",
        "      test_graph_nma.rank[node_idx,:] = torch.sum(recent_features * nma_weights, dim=1)\n",
        "      test_graph_sma.rank[node_idx,:] = torch.sum(recent_features * sma_weights, dim=1)\n",
        "      test_graph_wma.rank[node_idx,:] = torch.sum(recent_features * wma_weights, dim=1)\n",
        "      test_graph_ema.rank[node_idx,:] = torch.sum(recent_features * ema_weights, dim=1)"
      ],
      "metadata": {
        "id": "Mnhk9E-xPzg8"
      },
      "execution_count": null,
      "outputs": []
    },
    {
      "cell_type": "markdown",
      "source": [
        "### Testing"
      ],
      "metadata": {
        "id": "O2pKhKLw5E3O"
      }
    },
    {
      "cell_type": "markdown",
      "source": [
        "Using the learned node embeddings (encode = False)"
      ],
      "metadata": {
        "id": "BX0YQUmt7IXr"
      }
    },
    {
      "cell_type": "code",
      "source": [
        "testing_graphs = [test_graph_sma, test_graph_wma, test_graph_ema, test_graph_nma]\n",
        "testing_methods = ['Simple Moving Average', 'Weighted Moving Average', 'Exponential Moving Average', 'Non Moving Average']\n",
        "trained_gnn.eval()\n",
        "with torch.no_grad():\n",
        "    for graph, method in zip(testing_graphs, testing_methods):\n",
        "        graph = graph.to(device)\n",
        "        _, results = trained_gnn(graph, encode=False)\n",
        "\n",
        "        # Calculate accuracy\n",
        "        predicted_scores = segment_values(results).to(torch.float).to(device)\n",
        "        correct = (predicted_scores[~mask] == segment_values(graph.score)[~mask].view(-1, 1)).sum().item()\n",
        "        accuracy = correct / graph.score[~mask].size(0) * 100\n",
        "\n",
        "        print(f'Accuracy over {method}: {accuracy:.4} %')\n"
      ],
      "metadata": {
        "colab": {
          "base_uri": "https://localhost:8080/"
        },
        "id": "sVV3neIZm6VH",
        "outputId": "e3fcc2a1-95db-4a5d-ff14-e440d08e19ce"
      },
      "execution_count": null,
      "outputs": [
        {
          "output_type": "stream",
          "name": "stdout",
          "text": [
            "Accuracy over Simple Moving Average: 62.0 %\n",
            "Accuracy over Weighted Moving Average: 76.33 %\n",
            "Accuracy over Exponential Moving Average: 82.33 %\n",
            "Accuracy over Non Moving Average: 91.0 %\n"
          ]
        }
      ]
    }
  ],
  "metadata": {
    "kernelspec": {
      "display_name": "Python 3",
      "name": "python3"
    },
    "language_info": {
      "codemirror_mode": {
        "name": "ipython",
        "version": 3
      },
      "file_extension": ".py",
      "mimetype": "text/x-python",
      "name": "python",
      "nbconvert_exporter": "python",
      "pygments_lexer": "ipython3",
      "version": "3.9.11"
    },
    "orig_nbformat": 4,
    "colab": {
      "provenance": [],
      "collapsed_sections": [
        "zF4TBeeLC5QP",
        "lsNPmZEewYm0"
      ],
      "gpuType": "T4"
    }
  },
  "nbformat": 4,
  "nbformat_minor": 0
}